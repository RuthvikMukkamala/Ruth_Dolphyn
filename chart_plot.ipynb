{
 "cells": [
  {
   "cell_type": "code",
   "id": "initial_id",
   "metadata": {
    "collapsed": true,
    "ExecuteTime": {
     "end_time": "2024-06-25T17:32:41.576740Z",
     "start_time": "2024-06-25T17:32:41.573720Z"
    }
   },
   "source": [
    "import pandas as pd\n",
    "import matplotlib.pyplot as plt\n",
    "import numpy as np\n"
   ],
   "outputs": [],
   "execution_count": 15
  },
  {
   "metadata": {
    "ExecuteTime": {
     "end_time": "2024-06-25T17:32:41.580165Z",
     "start_time": "2024-06-25T17:32:41.578488Z"
    }
   },
   "cell_type": "code",
   "source": [
    "    \n",
    "    "
   ],
   "id": "f7bdf7912bfe485c",
   "outputs": [],
   "execution_count": 15
  },
  {
   "metadata": {
    "ExecuteTime": {
     "end_time": "2024-06-25T17:32:41.582811Z",
     "start_time": "2024-06-25T17:32:41.581256Z"
    }
   },
   "cell_type": "code",
   "source": "",
   "id": "200027cef9da8475",
   "outputs": [],
   "execution_count": 15
  },
  {
   "metadata": {
    "ExecuteTime": {
     "end_time": "2024-06-25T17:32:41.585935Z",
     "start_time": "2024-06-25T17:32:41.584473Z"
    }
   },
   "cell_type": "code",
   "source": "",
   "id": "eca96685e5484451",
   "outputs": [],
   "execution_count": 15
  },
  {
   "metadata": {
    "ExecuteTime": {
     "end_time": "2024-06-25T17:32:41.588364Z",
     "start_time": "2024-06-25T17:32:41.586786Z"
    }
   },
   "cell_type": "code",
   "source": "",
   "id": "c439dbe3c9472985",
   "outputs": [],
   "execution_count": 15
  },
  {
   "metadata": {
    "ExecuteTime": {
     "end_time": "2024-06-25T17:32:41.590523Z",
     "start_time": "2024-06-25T17:32:41.589091Z"
    }
   },
   "cell_type": "code",
   "source": "",
   "id": "d4ea7d44a29016d2",
   "outputs": [],
   "execution_count": 15
  },
  {
   "metadata": {
    "ExecuteTime": {
     "end_time": "2024-06-25T17:32:41.599463Z",
     "start_time": "2024-06-25T17:32:41.592289Z"
    }
   },
   "cell_type": "code",
   "source": [
    "def read_cost_data(dir_list, scenario_name_dict):\n",
    "    \n",
    "    costs_df = pd.DataFrame(columns=[\"scenario_name\", \"total_cost\", \"Power\", \"H2\", \"CO2\", \"SynFuels\"])\n",
    "    detailed_costs_df = pd.DataFrame(columns=[\"scenario_name\", \"Elec_Fixed\", \"Elec_Var\", \"Elec_Startup\", \"Elec_Network\",\n",
    "                        \"H2_Gen_Fixed\",\"H2_G2P_Fixed\",\"H2_Storage_Fixed\",\"H2_Var\",\n",
    "                        #\"H2_Gen_Fixed\", \"H2_Liquid_Fixed\",\"H2_G2P_Fixed\",\"H2_Storage_Fixed\",\"H2_Var\", \"H2_G2P_Var\", \"H2_Network\",\"H2_Truck_Fixed\", \"H2_Truck_OPEX\", \n",
    "                        \"H2_VarElec\"])\n",
    "    \n",
    "    for dir_name in dir_list:\n",
    "        total_cost = pd.read_csv(dir_name + \"/Results/status.csv\").iloc[0][\"Objval\"]\n",
    "        power_cost = pd.read_csv(dir_name + \"/Results/costs.csv\").iloc[0][\"Total\"] * 1e-9\n",
    "        power_detail = pd.read_csv(dir_name + \"/Results/costs.csv\").loc[[1,2,4,6], [\"Costs\",\"Total\"]]\n",
    "        \n",
    "        h2_cost = 0\n",
    "        h2_elec_cost = [0]\n",
    "        h2_detail = pd.DataFrame(columns=[\"Total\"], data=np.zeros(9))\n",
    "        if os.path.exists(dir_name + \"/Results/Results_HSC/\"):\n",
    "            h2_cost = pd.read_csv(dir_name + \"/Results/Results_HSC/HSC_costs.csv\").iloc[0][\"Total\"] * 1e-9\n",
    "            h2_detail = pd.read_csv(dir_name + \"/Results/Results_HSC/HSC_costs.csv\").loc[[1,2,3,5], [\"Costs\",\"Total\"]]\n",
    "            # FIX THE COST FACTOR AFTER CODE IS FIXED\n",
    "            h2_elec_cost = pd.read_csv(dir_name + \"/Results/Results_HSC/HSC_elec_costs.csv\").sum(axis=1).tolist()\n",
    "\n",
    "        #dac_cost= pd.read_csv(\"./\" + dir_name + \"/Results/Results_CSC/CSC_DAC_total_costs.csv\").iloc[0][\"Total\"]\n",
    "        #co2_comp_cost = pd.read_csv(\"./\" + dir_name + \"/Results/Results_CSC/CSC_co2_capture_compression_total_cost.csv\").iloc[0][\"Total\"]\n",
    "        #co2_stor_cost = pd.read_csv(\"./\" + dir_name + \"/Results/Results_CSC/CSC_co2_storage_injection_total_cost.csv\").iloc[0][\"Total\"]\n",
    "        #co2_pipe_cost = sum(pd.read_csv(\"./\" + dir_name + \"/Results/Results_CSC/CSC_co2_pipeline_expansion.csv\")[\"Fixed_Cost_Pipes\"])\n",
    "        \n",
    "        #csc_cost = (dac_cost+ co2_comp_cost + co2_stor_cost + co2_pipe_cost) * 1e-9\n",
    "        \n",
    "        synfuel_cost = 0\n",
    "        csc_cost = 0\n",
    "        \n",
    "        if os.path.exists(dir_name + \"/Results/Results_SynFuels/\"):\n",
    "        \n",
    "            synfuel_cost = pd.read_csv(dir_name + \"/Results/Results_SynFuels/SynFuel_costs.csv\").iloc[0][\"Total\"] * 1e-9\n",
    "        \n",
    "        \n",
    "        curr_costs_df = pd.DataFrame(index = [scenario_name_dict[dir_name]], columns=[\"scenario_name\", \"total_cost\", \"Power\", \"H2\", \"CO2\", \"SynFuels\"], data=[[scenario_name_dict[dir_name],total_cost, power_cost, h2_cost, csc_cost, synfuel_cost]])\n",
    "        #print(curr_costs_df)\n",
    "        costs_df = pd.concat([costs_df, curr_costs_df])\n",
    "        \n",
    "        data=[scenario_name_dict[dir_name]]\n",
    "        data.extend((power_detail['Total']*1e-9).tolist())\n",
    "        data.extend((h2_detail['Total']*1e-9).tolist())\n",
    "        data.extend([h2_elec_cost[0]*1e-6])  \n",
    "        \n",
    "        curr_detail_df = pd.DataFrame(index = [scenario_name_dict[dir_name]], columns=[\"scenario_name\", \n",
    "            \"Elec_Fixed\", \"Elec_Var\", \"Elec_Startup\", \"Elec_Network\",\n",
    "            \"H2_Gen_Fixed\",\"H2_G2P_Fixed\",\"H2_Storage_Fixed\",\"H2_Var\",\n",
    "            \"H2_VarElec\"], \n",
    "                data=[data])\n",
    "        detailed_costs_df = pd.concat([detailed_costs_df, curr_detail_df])\n",
    "    return costs_df, detailed_costs_df"
   ],
   "id": "e7bcc953df64e6ad",
   "outputs": [],
   "execution_count": 16
  },
  {
   "metadata": {
    "ExecuteTime": {
     "end_time": "2024-06-25T17:32:42.478077Z",
     "start_time": "2024-06-25T17:32:41.600298Z"
    }
   },
   "cell_type": "code",
   "source": [
    "def fig_h2_lcoh(data, title_str):\n",
    "    fig, ax = plt.subplots(figsize=(12, 6))\n",
    "\n",
    "    # Plot design cases\n",
    "    ax.scatter(range(len(data)), data['design_case'], marker='X', s=100, color='black', label='Design case')\n",
    "\n",
    "    # Plot out-of-sample cases\n",
    "    for i, row in data.iterrows():\n",
    "        y_positions = np.linspace(row['min_lcoh'], row['max_lcoh'], num=len(row['out_of_sample']))\n",
    "        ax.hlines(y_positions, i-0.2, i+0.2, color='gray', linewidth=2)\n",
    "\n",
    "    ax.set_ylim(0, 5)\n",
    "    ax.set_ylabel('LCOH without PTC ($/kgH2)')\n",
    "    ax.set_title('Levelized cost of H2 (LCOH)')\n",
    "    ax.set_xticks([])  # Remove x-axis ticks\n",
    "    ax.grid(axis='y', linestyle='--', alpha=0.7)\n",
    "\n",
    "    # Add legend\n",
    "    ax.legend(loc='lower left')\n",
    "\n",
    "    # Add 'A' label in the bottom right corner\n",
    "    ax.text(0.98, 0.02, 'A', transform=ax.transAxes, fontsize=12, fontweight='bold', ha='right', va='bottom')\n",
    "\n",
    "    plt.tight_layout()\n",
    "    plt.savefig('H2_LCOH_plot.png', dpi=300, bbox_inches='tight')\n",
    "    plt.show()\n",
    "\n",
    "# Example usage:\n",
    "data = pd.DataFrame({\n",
    "    'min_lcoh': [4.1, 3.9, 4.3, 0.7, 2.4, 2.4, 2.7, 1.7, 3.8, 4.1],\n",
    "    'max_lcoh': [4.2, 4.1, 4.5, 3.4, 3.6, 3.6, 3.8, 3.4, 4.2, 4.4],\n",
    "    'out_of_sample': [[4.1, 4.2], [3.9, 4.0, 4.1], [4.3, 4.4, 4.5], \n",
    "                      [0.7, 1.3, 1.8, 2.1, 2.4, 2.8, 3.1, 3.4], \n",
    "                      [2.4, 2.7, 3.0, 3.3, 3.6], [2.4, 2.7, 3.0, 3.3, 3.6],\n",
    "                      [2.7, 3.1, 3.4, 3.8], [1.7, 2.3, 2.7, 3.2, 3.4], \n",
    "                      [3.8, 4.0, 4.2], [4.1, 4.2, 4.3, 4.4]]\n",
    "})\n",
    "\n",
    "fig_h2_lcoh(data, \"Levelized cost of H2 (LCOH)\")"
   ],
   "id": "910f52a002714adb",
   "outputs": [
    {
     "ename": "KeyError",
     "evalue": "'design_case'",
     "output_type": "error",
     "traceback": [
      "\u001B[0;31m---------------------------------------------------------------------------\u001B[0m",
      "\u001B[0;31mKeyError\u001B[0m                                  Traceback (most recent call last)",
      "File \u001B[0;32m/opt/anaconda3/envs/dev/lib/python3.8/site-packages/pandas/core/indexes/base.py:3653\u001B[0m, in \u001B[0;36mIndex.get_loc\u001B[0;34m(self, key)\u001B[0m\n\u001B[1;32m   3652\u001B[0m \u001B[38;5;28;01mtry\u001B[39;00m:\n\u001B[0;32m-> 3653\u001B[0m     \u001B[38;5;28;01mreturn\u001B[39;00m \u001B[38;5;28;43mself\u001B[39;49m\u001B[38;5;241;43m.\u001B[39;49m\u001B[43m_engine\u001B[49m\u001B[38;5;241;43m.\u001B[39;49m\u001B[43mget_loc\u001B[49m\u001B[43m(\u001B[49m\u001B[43mcasted_key\u001B[49m\u001B[43m)\u001B[49m\n\u001B[1;32m   3654\u001B[0m \u001B[38;5;28;01mexcept\u001B[39;00m \u001B[38;5;167;01mKeyError\u001B[39;00m \u001B[38;5;28;01mas\u001B[39;00m err:\n",
      "File \u001B[0;32m/opt/anaconda3/envs/dev/lib/python3.8/site-packages/pandas/_libs/index.pyx:147\u001B[0m, in \u001B[0;36mpandas._libs.index.IndexEngine.get_loc\u001B[0;34m()\u001B[0m\n",
      "File \u001B[0;32m/opt/anaconda3/envs/dev/lib/python3.8/site-packages/pandas/_libs/index.pyx:176\u001B[0m, in \u001B[0;36mpandas._libs.index.IndexEngine.get_loc\u001B[0;34m()\u001B[0m\n",
      "File \u001B[0;32mpandas/_libs/hashtable_class_helper.pxi:7080\u001B[0m, in \u001B[0;36mpandas._libs.hashtable.PyObjectHashTable.get_item\u001B[0;34m()\u001B[0m\n",
      "File \u001B[0;32mpandas/_libs/hashtable_class_helper.pxi:7088\u001B[0m, in \u001B[0;36mpandas._libs.hashtable.PyObjectHashTable.get_item\u001B[0;34m()\u001B[0m\n",
      "\u001B[0;31mKeyError\u001B[0m: 'design_case'",
      "\nThe above exception was the direct cause of the following exception:\n",
      "\u001B[0;31mKeyError\u001B[0m                                  Traceback (most recent call last)",
      "Cell \u001B[0;32mIn[17], line 39\u001B[0m\n\u001B[1;32m     28\u001B[0m \u001B[38;5;66;03m# Example usage:\u001B[39;00m\n\u001B[1;32m     29\u001B[0m data \u001B[38;5;241m=\u001B[39m pd\u001B[38;5;241m.\u001B[39mDataFrame({\n\u001B[1;32m     30\u001B[0m     \u001B[38;5;124m'\u001B[39m\u001B[38;5;124mmin_lcoh\u001B[39m\u001B[38;5;124m'\u001B[39m: [\u001B[38;5;241m4.1\u001B[39m, \u001B[38;5;241m3.9\u001B[39m, \u001B[38;5;241m4.3\u001B[39m, \u001B[38;5;241m0.7\u001B[39m, \u001B[38;5;241m2.4\u001B[39m, \u001B[38;5;241m2.4\u001B[39m, \u001B[38;5;241m2.7\u001B[39m, \u001B[38;5;241m1.7\u001B[39m, \u001B[38;5;241m3.8\u001B[39m, \u001B[38;5;241m4.1\u001B[39m],\n\u001B[1;32m     31\u001B[0m     \u001B[38;5;124m'\u001B[39m\u001B[38;5;124mmax_lcoh\u001B[39m\u001B[38;5;124m'\u001B[39m: [\u001B[38;5;241m4.2\u001B[39m, \u001B[38;5;241m4.1\u001B[39m, \u001B[38;5;241m4.5\u001B[39m, \u001B[38;5;241m3.4\u001B[39m, \u001B[38;5;241m3.6\u001B[39m, \u001B[38;5;241m3.6\u001B[39m, \u001B[38;5;241m3.8\u001B[39m, \u001B[38;5;241m3.4\u001B[39m, \u001B[38;5;241m4.2\u001B[39m, \u001B[38;5;241m4.4\u001B[39m],\n\u001B[0;32m   (...)\u001B[0m\n\u001B[1;32m     36\u001B[0m                       [\u001B[38;5;241m3.8\u001B[39m, \u001B[38;5;241m4.0\u001B[39m, \u001B[38;5;241m4.2\u001B[39m], [\u001B[38;5;241m4.1\u001B[39m, \u001B[38;5;241m4.2\u001B[39m, \u001B[38;5;241m4.3\u001B[39m, \u001B[38;5;241m4.4\u001B[39m]]\n\u001B[1;32m     37\u001B[0m })\n\u001B[0;32m---> 39\u001B[0m \u001B[43mfig_h2_lcoh\u001B[49m\u001B[43m(\u001B[49m\u001B[43mdata\u001B[49m\u001B[43m,\u001B[49m\u001B[43m \u001B[49m\u001B[38;5;124;43m\"\u001B[39;49m\u001B[38;5;124;43mLevelized cost of H2 (LCOH)\u001B[39;49m\u001B[38;5;124;43m\"\u001B[39;49m\u001B[43m)\u001B[49m\n",
      "Cell \u001B[0;32mIn[17], line 5\u001B[0m, in \u001B[0;36mfig_h2_lcoh\u001B[0;34m(data, title_str)\u001B[0m\n\u001B[1;32m      2\u001B[0m fig, ax \u001B[38;5;241m=\u001B[39m plt\u001B[38;5;241m.\u001B[39msubplots(figsize\u001B[38;5;241m=\u001B[39m(\u001B[38;5;241m12\u001B[39m, \u001B[38;5;241m6\u001B[39m))\n\u001B[1;32m      4\u001B[0m \u001B[38;5;66;03m# Plot design cases\u001B[39;00m\n\u001B[0;32m----> 5\u001B[0m ax\u001B[38;5;241m.\u001B[39mscatter(\u001B[38;5;28mrange\u001B[39m(\u001B[38;5;28mlen\u001B[39m(data)), \u001B[43mdata\u001B[49m\u001B[43m[\u001B[49m\u001B[38;5;124;43m'\u001B[39;49m\u001B[38;5;124;43mdesign_case\u001B[39;49m\u001B[38;5;124;43m'\u001B[39;49m\u001B[43m]\u001B[49m, marker\u001B[38;5;241m=\u001B[39m\u001B[38;5;124m'\u001B[39m\u001B[38;5;124mX\u001B[39m\u001B[38;5;124m'\u001B[39m, s\u001B[38;5;241m=\u001B[39m\u001B[38;5;241m100\u001B[39m, color\u001B[38;5;241m=\u001B[39m\u001B[38;5;124m'\u001B[39m\u001B[38;5;124mblack\u001B[39m\u001B[38;5;124m'\u001B[39m, label\u001B[38;5;241m=\u001B[39m\u001B[38;5;124m'\u001B[39m\u001B[38;5;124mDesign case\u001B[39m\u001B[38;5;124m'\u001B[39m)\n\u001B[1;32m      7\u001B[0m \u001B[38;5;66;03m# Plot out-of-sample cases\u001B[39;00m\n\u001B[1;32m      8\u001B[0m \u001B[38;5;28;01mfor\u001B[39;00m i, row \u001B[38;5;129;01min\u001B[39;00m data\u001B[38;5;241m.\u001B[39miterrows():\n",
      "File \u001B[0;32m/opt/anaconda3/envs/dev/lib/python3.8/site-packages/pandas/core/frame.py:3761\u001B[0m, in \u001B[0;36mDataFrame.__getitem__\u001B[0;34m(self, key)\u001B[0m\n\u001B[1;32m   3759\u001B[0m \u001B[38;5;28;01mif\u001B[39;00m \u001B[38;5;28mself\u001B[39m\u001B[38;5;241m.\u001B[39mcolumns\u001B[38;5;241m.\u001B[39mnlevels \u001B[38;5;241m>\u001B[39m \u001B[38;5;241m1\u001B[39m:\n\u001B[1;32m   3760\u001B[0m     \u001B[38;5;28;01mreturn\u001B[39;00m \u001B[38;5;28mself\u001B[39m\u001B[38;5;241m.\u001B[39m_getitem_multilevel(key)\n\u001B[0;32m-> 3761\u001B[0m indexer \u001B[38;5;241m=\u001B[39m \u001B[38;5;28;43mself\u001B[39;49m\u001B[38;5;241;43m.\u001B[39;49m\u001B[43mcolumns\u001B[49m\u001B[38;5;241;43m.\u001B[39;49m\u001B[43mget_loc\u001B[49m\u001B[43m(\u001B[49m\u001B[43mkey\u001B[49m\u001B[43m)\u001B[49m\n\u001B[1;32m   3762\u001B[0m \u001B[38;5;28;01mif\u001B[39;00m is_integer(indexer):\n\u001B[1;32m   3763\u001B[0m     indexer \u001B[38;5;241m=\u001B[39m [indexer]\n",
      "File \u001B[0;32m/opt/anaconda3/envs/dev/lib/python3.8/site-packages/pandas/core/indexes/base.py:3655\u001B[0m, in \u001B[0;36mIndex.get_loc\u001B[0;34m(self, key)\u001B[0m\n\u001B[1;32m   3653\u001B[0m     \u001B[38;5;28;01mreturn\u001B[39;00m \u001B[38;5;28mself\u001B[39m\u001B[38;5;241m.\u001B[39m_engine\u001B[38;5;241m.\u001B[39mget_loc(casted_key)\n\u001B[1;32m   3654\u001B[0m \u001B[38;5;28;01mexcept\u001B[39;00m \u001B[38;5;167;01mKeyError\u001B[39;00m \u001B[38;5;28;01mas\u001B[39;00m err:\n\u001B[0;32m-> 3655\u001B[0m     \u001B[38;5;28;01mraise\u001B[39;00m \u001B[38;5;167;01mKeyError\u001B[39;00m(key) \u001B[38;5;28;01mfrom\u001B[39;00m \u001B[38;5;21;01merr\u001B[39;00m\n\u001B[1;32m   3656\u001B[0m \u001B[38;5;28;01mexcept\u001B[39;00m \u001B[38;5;167;01mTypeError\u001B[39;00m:\n\u001B[1;32m   3657\u001B[0m     \u001B[38;5;66;03m# If we have a listlike key, _check_indexing_error will raise\u001B[39;00m\n\u001B[1;32m   3658\u001B[0m     \u001B[38;5;66;03m#  InvalidIndexError. Otherwise we fall through and re-raise\u001B[39;00m\n\u001B[1;32m   3659\u001B[0m     \u001B[38;5;66;03m#  the TypeError.\u001B[39;00m\n\u001B[1;32m   3660\u001B[0m     \u001B[38;5;28mself\u001B[39m\u001B[38;5;241m.\u001B[39m_check_indexing_error(key)\n",
      "\u001B[0;31mKeyError\u001B[0m: 'design_case'"
     ]
    },
    {
     "data": {
      "text/plain": [
       "<Figure size 1200x600 with 1 Axes>"
      ],
      "image/png": "[encoded data removed]"
     },
     "metadata": {},
     "output_type": "display_data"
    }
   ],
   "execution_count": 17
  },
  {
   "metadata": {},
   "cell_type": "code",
   "outputs": [],
   "execution_count": null,
   "source": [
    "def design_vs_out_of_sample(data, out_of_sample, y_axis_title, title_str):\n",
    "    '''\n",
    "    Design vs out of sample\n",
    "    :param data: Design cases\n",
    "    :param out_of_sample: \n",
    "    :param title_str: \n",
    "    :return: \n",
    "    ''' \n",
    "    \n",
    "    \n",
    "\n"
   ],
   "id": "8b83e4c0d46f6489"
  },
  {
   "metadata": {},
   "cell_type": "code",
   "outputs": [],
   "execution_count": null,
   "source": [
    "\n",
    "def fig_h2_lcoh(costs, costs_detail, h2_data, power_data, battery_data, elec_sales, emissions_data, title_str, xmin, xmax):\n",
    "    lcoh_df = costs.merge(costs_detail, on='scenario_name')\n",
    "    lcoh_df = lcoh_df.merge(pd.concat(elec_sales), left_on='scenario_name', right_on='scenario')\n",
    "    \n",
    "    power_data = pd.concat(power_data)\n",
    "    battery_data = pd.concat(battery_data)\n",
    "    PPA = ['Solar_PPA', 'Wind_PPA', 'Battery_PPA']\n",
    "    battery_data = battery_data.query('resource_type in @PPA')\n",
    "    power_data = power_data.query('resource_type in @PPA')\n",
    "    power_data = power_data.merge(battery_data, on=['scenario', 'resource_type'])\n",
    "    power_data['fixed_cost_PPA']=0\n",
    "\n",
    "    power_data.loc[power_data['resource_type']=='Solar_PPA', 'fixed_cost_PPA']=power_data.loc[power_data['resource_type']=='Solar_PPA', 'EndCap'] * (47606+21000)\n",
    "    power_data.loc[power_data['resource_type']=='Wind_PPA', 'fixed_cost_PPA']=power_data.loc[power_data['resource_type']=='Wind_PPA', 'EndCap'] * (57807+44100)\n",
    "    power_data.loc[power_data['resource_type']=='Battery_PPA', 'fixed_cost_PPA']=power_data.loc[power_data['resource_type']=='Battery_PPA', 'EndCap'] * (16064+6379) + power_data.loc[power_data['resource_type']=='Battery_PPA', 'EndEnergyCap'] * (18642 +7403)\n",
    "\n",
    "    power_data = power_data.groupby('scenario', as_index=False).sum()\n",
    "    lcoh_df = lcoh_df.merge(power_data, left_on='scenario_name', right_on='scenario')\n",
    "    df=lcoh_df\n",
    "    df = df.merge(emissions_data, on='scenario_name')\n",
    "    df['elec_fixed_cost']=df['fixed_cost_PPA']/(df['h2_prod']*1000000)\n",
    "    df['elec_sales']=-df['elec_sales']/(df['h2_prod']*1000000)\n",
    "    df['elec_purchases']=df['H2_VarElec']/df['h2_prod']\n",
    "    df['electrolyzer_fixed_cost']=(df['H2_Gen_Fixed'])/df['h2_prod']*1000\n",
    "    df['h2_storage']=df['H2_Storage_Fixed']/df['h2_prod']*1000\n",
    "    df['PTC'] = 0 #initialize the column\n",
    "    df.loc[df['h2_emissions_intensity']<4, 'PTC']=-0.6\n",
    "    df.loc[df['h2_emissions_intensity']<2.5, 'PTC']=-0.75\n",
    "    df.loc[df['h2_emissions_intensity']<1.5, 'PTC']=-1\n",
    "    df.loc[df['h2_emissions_intensity']<0.456, 'PTC']=-3\n",
    "    df['total_w_PTC']=df['elec_fixed_cost']+df['elec_purchases']+df['elec_sales']+df['electrolyzer_fixed_cost']+df['h2_storage']+df['PTC']\n",
    "    df['total_wo_PTC']=df['elec_fixed_cost']+df['elec_purchases']+df['elec_sales']+df['electrolyzer_fixed_cost']+df['h2_storage']\n",
    "    df.set_index('scenario_name',inplace=True)\n",
    "    df=df.sort_index()\n",
    "    print(df['total_w_PTC'])"
   ],
   "id": "b4ad7327097a082"
  },
  {
   "metadata": {
    "ExecuteTime": {
     "end_time": "2024-06-27T04:54:00.848817Z",
     "start_time": "2024-06-27T04:54:00.769514Z"
    }
   },
   "cell_type": "code",
   "source": [
    "import matplotlib.pyplot as plt\n",
    "import numpy as np\n",
    "\n",
    "def design_vs_out_of_sample_plot(design_case, out_of_sample_case, y_title, chart_title):\n",
    "    \n",
    "    \n",
    "    num_points = len(design_case)\n",
    "    \n",
    "    \n",
    "    fig, ax = plt.subplots(figsize=(12, 6))\n",
    "    fig.patch.set_facecolor('white')\n",
    "    ax.set_facecolor('white')\n",
    "    \n",
    "    for i, sample in enumerate(out_of_sample_case):\n",
    "        for value in sample:\n",
    "            ax.plot([i - 0.2, i + 0.2], [value, value], '-', color='#1f77b4', linewidth=1.5, alpha=0.7)\n",
    "    \n",
    "    ax.plot(range(num_points), design_case, 'X', color='#d62728', markersize=10, label='Design case')\n",
    "    \n",
    "    ax.set_ylabel(f'{y_title}', fontsize=12, fontweight='bold')\n",
    "    ax.set_title(f'{chart_title}', fontsize=14, fontweight='bold')\n",
    "    ax.set_ylim(0, 5)\n",
    "    ax.set_xlim(-0.5, num_points-0.5)\n",
    "    ax.set_xticks([])\n",
    "    \n",
    "    ax.grid(True, linestyle='--', alpha=0.7, color='#cccccc')\n",
    "    ax.set_axisbelow(True)\n",
    "    \n",
    "    ax.legend(loc='lower left', frameon=True, framealpha=1, facecolor='white')\n",
    "    \n",
    "    ax.text(0.98, 0.02, 'A', transform=ax.transAxes, fontsize=14, fontweight='bold', \n",
    "            va='bottom', ha='right')\n",
    "    \n",
    "    for spine in ax.spines.values():\n",
    "        spine.set_edgecolor('#333333')\n",
    "    \n",
    "    ax.tick_params(axis='y', colors='#333333')\n",
    "    \n",
    "    plt.tight_layout()\n",
    "    plt.show()"
   ],
   "id": "7034fa6da5b79e0f",
   "outputs": [
    {
     "data": {
      "text/plain": [
       "<Figure size 1200x600 with 1 Axes>"
      ],
      "image/png": "[encoded data removed]"
     },
     "metadata": {},
     "output_type": "display_data"
    }
   ],
   "execution_count": 33
  },
  {
   "metadata": {},
   "cell_type": "code",
   "outputs": [],
   "execution_count": null,
   "source": "",
   "id": "16f9ad84d2379e2b"
  }
 ],
 "metadata": {
  "kernelspec": {
   "display_name": "Python 3",
   "language": "python",
   "name": "python3"
  },
  "language_info": {
   "codemirror_mode": {
    "name": "ipython",
    "version": 2
   },
   "file_extension": ".py",
   "mimetype": "text/x-python",
   "name": "python",
   "nbconvert_exporter": "python",
   "pygments_lexer": "ipython2",
   "version": "2.7.6"
  }
 },
 "nbformat": 4,
 "nbformat_minor": 5
}
