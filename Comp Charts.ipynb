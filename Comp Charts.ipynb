{
 "cells": [
  {
   "cell_type": "code",
   "metadata": {
    "ExecuteTime": {
     "end_time": "2024-06-27T03:06:36.718619Z",
     "start_time": "2024-06-27T03:06:36.717366Z"
    }
   },
   "source": [
    "#!/usr/bin/env python\n",
    "# coding: utf-8"
   ],
   "outputs": [],
   "execution_count": 1
  },
  {
   "cell_type": "markdown",
   "metadata": {},
   "source": []
  },
  {
   "cell_type": "markdown",
   "metadata": {},
   "source": [
    "In[143]:"
   ]
  },
  {
   "cell_type": "code",
   "metadata": {
    "ExecuteTime": {
     "end_time": "2024-06-27T03:06:36.722119Z",
     "start_time": "2024-06-27T03:06:36.719668Z"
    }
   },
   "source": [
    "import pandas as pd\n",
    "import matplotlib.pylab as pl\n",
    "import numpy as np\n",
    "import matplotlib\n",
    "import matplotlib.pyplot as plt\n",
    "import csv\n",
    "import pathlib\n",
    "import os\n",
    "from cycler import cycler"
   ],
   "outputs": [],
   "execution_count": 2
  },
  {
   "cell_type": "markdown",
   "metadata": {},
   "source": [
    "get_ipython().run_line_magic('matplotlib', 'inline')"
   ]
  },
  {
   "cell_type": "markdown",
   "metadata": {},
   "source": [
    "In[144]:"
   ]
  },
  {
   "cell_type": "code",
   "metadata": {
    "ExecuteTime": {
     "end_time": "2024-06-27T03:06:36.724362Z",
     "start_time": "2024-06-27T03:06:36.722743Z"
    }
   },
   "source": [
    "import matplotlib.style\n",
    "import seaborn as sns\n",
    "#to see all the plot default plot style\n",
    "# s available and then you can choose the one you want in the line below\n",
    "matplotlib.style.use('seaborn-v0_8-white')\n",
    "#plt.style.available"
   ],
   "outputs": [],
   "execution_count": 3
  },
  {
   "cell_type": "markdown",
   "metadata": {},
   "source": [
    "# Function Defenition"
   ]
  },
  {
   "cell_type": "markdown",
   "metadata": {},
   "source": [
    "## Data Wrangling Functions"
   ]
  },
  {
   "cell_type": "markdown",
   "metadata": {},
   "source": [
    "## Read Power Data Func Def"
   ]
  },
  {
   "cell_type": "markdown",
   "metadata": {},
   "source": [
    "%%  Defining resource dictionary and color schemes"
   ]
  },
  {
   "cell_type": "code",
   "metadata": {
    "ExecuteTime": {
     "end_time": "2024-06-27T03:06:36.727824Z",
     "start_time": "2024-06-27T03:06:36.724869Z"
    }
   },
   "source": [
    "resource_dict = {'C_biomass' : 'Biomass', \n",
    "                 'C_conventional_hydroelectric' : 'Hydro', \n",
    "             'C_conventional_steam_coal' : 'Coal',\n",
    "              'C_natural_gas_fired_combined_cycle' : 'Gas',\n",
    "              'C_natural_gas_fired_combustion_turbine' : 'Gas',\n",
    "              'C_natural_gas_steam_turbine' : 'Gas',\n",
    "               'C_nuclear' :'Nuclear',\n",
    "                'C_solar_photovoltaic' : 'Solar',\n",
    "                'C_solar_photovoltaic_1': 'Solar_PPA',\n",
    "                'C_onshore_wind_turbine_1' : 'Wind_PPA',\n",
    "                'C_Solar_PPA': 'Solar_PPA',\n",
    "                'C_Wind_PPA': 'Wind_PPA',\n",
    "                'biomass' : 'Biomass', \n",
    "                'conventional_hydroelectric' : 'Hydro', \n",
    "                'small_hydroelectric' : 'Hydro', \n",
    "                'conventional_steam_coal' : 'Coal',\n",
    "                'natural_gas_fired_combined_cycle' : 'Gas',\n",
    "                'natural_gas_fired_combustion_turbine' : 'Gas',\n",
    "                'natural_gas_steam_turbine' : 'Gas',\n",
    "                'nuclear' :'Nuclear',\n",
    "                'solar_photovoltaic' : 'Solar',\n",
    "                'solar_photovoltaic_exp' : 'Solar',\n",
    "                'solar_photovoltaic_ppa': 'Solar_PPA',\n",
    "                'onshore_wind_turbine' : 'Wind',   \n",
    "                'onshore_wind_turbine_exp' : 'Wind',   \n",
    "                'onshore_wind_turbine_ppa': 'Wind_PPA',\n",
    "                 'Battery_ppa': 'Battery_PPA',\n",
    "                'Battery_exp': 'Battery',\n",
    "                'Battery': 'Battery'}"
   ],
   "outputs": [],
   "execution_count": 4
  },
  {
   "cell_type": "markdown",
   "metadata": {},
   "source": [
    "Color codes:"
   ]
  },
  {
   "cell_type": "markdown",
   "metadata": {},
   "source": [
    "Gas - blue<br>\n",
    "Nuclear - mint<br>\n",
    "Coal - orange<br>\n",
    "Wind - Green<br>\n",
    "Solar - Yellow<br>\n",
    "list of global colors for each generator type"
   ]
  },
  {
   "cell_type": "code",
   "metadata": {
    "ExecuteTime": {
     "end_time": "2024-06-27T03:06:36.731350Z",
     "start_time": "2024-06-27T03:06:36.728373Z"
    }
   },
   "source": [
    "    \n",
    "def getColorbyGenType (TechnologyList):\n",
    "    # create variable with dummy values\n",
    "    color = sns.color_palette(\"Set1\",n_colors=len(TechnologyList))\n",
    "    for i in range(len(TechnologyList)):\n",
    "        if TechnologyList[i] =='Coal':\n",
    "            color[i] = 'black'\n",
    "        elif TechnologyList[i] =='Gas':\n",
    "            color[i] = 'darkviolet'\n",
    "        elif TechnologyList[i] =='Hydro':\n",
    "            color[i] = 'dodgerblue'\n",
    "        elif TechnologyList[i] =='Biomass':\n",
    "            color[i] = 'springgreen'\n",
    "        elif TechnologyList[i] =='Battery':\n",
    "             color[i] = 'brown'\n",
    "        elif TechnologyList[i] =='Battery_PPA':\n",
    "                  color[i] = 'peru'\n",
    "        elif TechnologyList[i] =='Wind':\n",
    "            color[i] = 'limegreen'\n",
    "        elif TechnologyList[i] =='Wind_PPA':\n",
    "            color[i] = 'green'\n",
    "        elif TechnologyList[i] =='Solar_PPA':\n",
    "             color[i] = 'orange'\n",
    "        elif TechnologyList[i] =='Solar':\n",
    "             color[i] = 'gold'\n",
    "        elif TechnologyList[i] =='Nuclear':\n",
    "                    color[i] = 'pink'\n",
    "    return color\n",
    "   "
   ],
   "outputs": [],
   "execution_count": 5
  },
  {
   "cell_type": "markdown",
   "metadata": {},
   "source": [
    "In[81]:"
   ]
  },
  {
   "cell_type": "markdown",
   "metadata": {},
   "source": [
    "et all scenarios in a directory"
   ]
  },
  {
   "cell_type": "code",
   "metadata": {
    "ExecuteTime": {
     "end_time": "2024-06-27T03:06:36.763260Z",
     "start_time": "2024-06-27T03:06:36.731983Z"
    }
   },
   "source": [
    "def get_scenario_names(sen_name):\n",
    "    lst = os.listdir()\n",
    "    lst = list(filter(lambda k: sen_name in k, lst))\n",
    "    lst = list(filter(lambda k: '.jl' not in k, lst))\n",
    "    lst = list(filter(lambda k: '.sh' not in k, lst))\n",
    "    lst = list(filter(lambda k: '.csv' not in k, lst))\n",
    "    lst = list(filter(lambda k: 'DACNon' not in k, lst))\n",
    "    lst = list(filter(lambda k: 'Baseline' not in k, lst))\n",
    "    \n",
    "    return lst    \n",
    "    \n",
    "    \n",
    "def read_cost_data(dir_list, scenario_name_dict):\n",
    "    \n",
    "    costs_df = pd.DataFrame(columns=[\"scenario_name\", \"total_cost\", \"Power\", \"H2\", \"CO2\", \"SynFuels\"])\n",
    "    detailed_costs_df = pd.DataFrame(columns=[\"scenario_name\", \"Elec_Fixed\", \"Elec_Var\", \"Elec_Startup\", \"Elec_Network\",\n",
    "                        \"H2_Gen_Fixed\",\"H2_G2P_Fixed\",\"H2_Storage_Fixed\",\"H2_Var\",\n",
    "                        #\"H2_Gen_Fixed\", \"H2_Liquid_Fixed\",\"H2_G2P_Fixed\",\"H2_Storage_Fixed\",\"H2_Var\", \"H2_G2P_Var\", \"H2_Network\",\"H2_Truck_Fixed\", \"H2_Truck_OPEX\", \n",
    "                        \"H2_VarElec\"])\n",
    "    for dir_name in dir_list:\n",
    "        total_cost = pd.read_csv(dir_name + \"/Results/status.csv\").iloc[0][\"Objval\"]#.drop([0])\n",
    "        power_cost = pd.read_csv(dir_name + \"/Results/costs.csv\").iloc[0][\"Total\"] * 1e-9\n",
    "        power_detail = pd.read_csv(dir_name + \"/Results/costs.csv\").loc[[1,2,4,6], [\"Costs\",\"Total\"]]\n",
    "        \n",
    "        h2_cost = 0\n",
    "        h2_elec_cost = [0]\n",
    "        h2_detail = pd.DataFrame(columns=[\"Total\"], data=np.zeros(9))\n",
    "        if os.path.exists(dir_name + \"/Results/Results_HSC/\"):\n",
    "            h2_cost = pd.read_csv(dir_name + \"/Results/Results_HSC/HSC_costs.csv\").iloc[0][\"Total\"] * 1e-9\n",
    "            h2_detail = pd.read_csv(dir_name + \"/Results/Results_HSC/HSC_costs.csv\").loc[[1,2,3,5], [\"Costs\",\"Total\"]]\n",
    "            # FIX THE COST FACTOR AFTER CODE IS FIXED\n",
    "            h2_elec_cost = pd.read_csv(dir_name + \"/Results/Results_HSC/HSC_elec_costs.csv\").sum(axis=1).tolist()\n",
    "\n",
    "        #dac_cost= pd.read_csv(\"./\" + dir_name + \"/Results/Results_CSC/CSC_DAC_total_costs.csv\").iloc[0][\"Total\"]\n",
    "        #co2_comp_cost = pd.read_csv(\"./\" + dir_name + \"/Results/Results_CSC/CSC_co2_capture_compression_total_cost.csv\").iloc[0][\"Total\"]\n",
    "        #co2_stor_cost = pd.read_csv(\"./\" + dir_name + \"/Results/Results_CSC/CSC_co2_storage_injection_total_cost.csv\").iloc[0][\"Total\"]\n",
    "        #co2_pipe_cost = sum(pd.read_csv(\"./\" + dir_name + \"/Results/Results_CSC/CSC_co2_pipeline_expansion.csv\")[\"Fixed_Cost_Pipes\"])\n",
    "        \n",
    "        #csc_cost = (dac_cost+ co2_comp_cost + co2_stor_cost + co2_pipe_cost) * 1e-9\n",
    "        \n",
    "        synfuel_cost = 0\n",
    "        csc_cost = 0\n",
    "        \n",
    "        if os.path.exists(dir_name + \"/Results/Results_SynFuels/\"):\n",
    "        \n",
    "            synfuel_cost = pd.read_csv(dir_name + \"/Results/Results_SynFuels/SynFuel_costs.csv\").iloc[0][\"Total\"] * 1e-9\n",
    "        \n",
    "        \n",
    "        curr_costs_df = pd.DataFrame(index = [scenario_name_dict[dir_name]], columns=[\"scenario_name\", \"total_cost\", \"Power\", \"H2\", \"CO2\", \"SynFuels\"], data=[[scenario_name_dict[dir_name],total_cost, power_cost, h2_cost, csc_cost, synfuel_cost]])\n",
    "        #print(curr_costs_df)\n",
    "        costs_df = pd.concat([costs_df, curr_costs_df])\n",
    "        \n",
    "        data=[scenario_name_dict[dir_name]]\n",
    "        data.extend((power_detail['Total']*1e-9).tolist())\n",
    "        data.extend((h2_detail['Total']*1e-9).tolist())\n",
    "        data.extend([h2_elec_cost[0]*1e-6])  \n",
    "        \n",
    "        curr_detail_df = pd.DataFrame(index = [scenario_name_dict[dir_name]], columns=[\"scenario_name\", \n",
    "            \"Elec_Fixed\", \"Elec_Var\", \"Elec_Startup\", \"Elec_Network\",\n",
    "            \"H2_Gen_Fixed\",\"H2_G2P_Fixed\",\"H2_Storage_Fixed\",\"H2_Var\",\n",
    "            \"H2_VarElec\"], \n",
    "                data=[data])\n",
    "        detailed_costs_df = pd.concat([detailed_costs_df, curr_detail_df])\n",
    "    return costs_df, detailed_costs_df"
   ],
   "outputs": [],
   "execution_count": 6
  },
  {
   "cell_type": "markdown",
   "metadata": {},
   "source": [
    "In[82]:"
   ]
  },
  {
   "cell_type": "code",
   "metadata": {
    "ExecuteTime": {
     "end_time": "2024-06-27T03:06:36.775722Z",
     "start_time": "2024-06-27T03:06:36.765148Z"
    }
   },
   "source": [
    "def read_power_data(dir_list, bat, scenario_name_dict):\n",
    "    \n",
    "    power_cap_list = []\n",
    "    power_gen_list = []\n",
    "    power_battery_cap_list = []\n",
    "    comb_power_capacity_list = []\n",
    "    \n",
    "    for dir_name in dir_list:\n",
    "                #Raw Data\n",
    "        power_df = pd.read_csv(\"./\" + dir_name + \"/Results/power.csv\").drop([0,1])\n",
    "        weights_df = pd.read_csv(\"./\" + dir_name + \"/Results/time_weights.csv\")\n",
    "        capacity_df = pd.read_csv(\"./\" + dir_name + \"/Results/capacity.csv\")\n",
    "\n",
    "        #THIS WILL NEED TO BE UPDATED\n",
    "        ##All new dolphyn runs have the capacity.csv file transposed so this will be necessary for all.\n",
    "        if 'Rep' in dir_name:\n",
    "            capacity_df.loc[\"Resource\"] = capacity_df.columns\n",
    "            capacity_df = capacity_df.T\n",
    "            capacity_df.columns = capacity_df.iloc[0]\n",
    "            capacity_df = capacity_df.drop(capacity_df.index[0])\n",
    "\n",
    "        #########Power###########\n",
    "\n",
    "        #Wrangle Power Data into long format\n",
    "        power_long_df = power_df.melt(id_vars = \"Resource\").query(\"Resource != 'Zone' & Resource != 'AnnualSum'\")\n",
    "        power_long_df = power_long_df.assign(variable = power_long_df[\"variable\"].str.strip().str.replace('solar_photovoltaic_ppa', 'Solar_PPA'))\n",
    "        power_long_df = power_long_df.assign(variable = power_long_df[\"variable\"].str.strip().str.replace('onshore_wind_turbine_ppa', 'Wind_PPA'))\n",
    "        power_long_df = power_long_df.assign(variable = power_long_df[\"variable\"].str.strip().str.replace('Battery_ppa', 'Battery_PPA'))\n",
    "       # power_long_df['resource_type'] = power_long_df['Resource'].str.replace('_\\d+$', '', regex=True)\n",
    "        #print(power_long_df['resource_type'])\n",
    "        #power_long_df['resource_type'] = power_long_df['resource_type'].replace(resource_dict.keys(), resource_dict.values())\n",
    "\n",
    "       ##WORKS BUT DOES NOT AGGREGATE ALL RESOURCE TYPES\n",
    "        power_long_df = power_long_df.assign(zone = power_long_df[\"variable\"].str[:6].str.strip(),\n",
    "                                resource_type = power_long_df[\"variable\"].str.replace('_\\d+$', '', regex=True),\n",
    "                                interval = pd.to_numeric(power_long_df[\"Resource\"].str[1:]) ).replace({\"resource_type\": resource_dict})\n",
    "                \n",
    "        zones = power_long_df[\"zone\"].unique()\n",
    "        power_total_df = power_long_df.query(\"zone == 'Total'\")\n",
    "        #Add weights to long power data frame\n",
    "        power_long_df = power_long_df.merge(weights_df, left_on = \"interval\", right_on = \"Time\", how = \"left\")\n",
    "\n",
    "        #Aggregate power data by zone\n",
    "        power_zone_df = power_long_df.groupby(['zone','interval']).agg({'value': 'sum'}).query(\"zone != 'Total'\").reset_index()\n",
    "        power_gen_df = power_long_df.query(\"variable != 'Total'\").groupby(['resource_type','interval']).agg({'value': 'sum'}).reset_index()\n",
    "\n",
    "        #Aggregate power by generator type\n",
    "        power_gen_total_df = power_long_df.query(\"variable != 'Total'\").assign(gen = power_long_df[\"value\"] * power_long_df[\"Weight\"]).groupby(['resource_type']).agg({'gen': 'sum'}).reset_index()\n",
    "        power_gen_total_df = power_gen_total_df.assign(generation_twh = power_gen_total_df[\"gen\"] * 0.000001, scenario = scenario_name_dict[dir_name])\n",
    "        \n",
    "        if 'no_H2' in dir_name:\n",
    "            power_gen_total_df = pd.concat([power_gen_total_df, (pd.DataFrame(['Solar_PPA', 0, 0, scenario_name_dict[dir_name]], \n",
    "                                                index=['resource_type', 'gen', 'generation_twh', 'scenario']).T)],\n",
    "                                                ignore_index=True)\n",
    "            power_gen_total_df = pd.concat([power_gen_total_df, (pd.DataFrame(['Wind_PPA', 0, 0, scenario_name_dict[dir_name]], \n",
    "                                                index=['resource_type', 'gen', 'generation_twh', 'scenario']).T)],\n",
    "                                                ignore_index=True)\n",
    "            if bat == True:\n",
    "                power_gen_total_df = pd.concat([power_gen_total_df, (pd.DataFrame(['Battery_PPA', 0, 0, scenario_name_dict[dir_name]], \n",
    "                                                index=['resource_type', 'gen', 'generation_twh', 'scenario']).T)],\n",
    "                                                ignore_index=True)\n",
    "            \n",
    "        \n",
    "        power_gen_list.append(power_gen_total_df)\n",
    "        \n",
    "    ######Generator Capacity##########\n",
    "\n",
    "        #Aggregate capacity total capacity\n",
    "        capacity_df = capacity_df.assign(Resource = capacity_df[\"Resource\"].str.strip().str.replace('solar_photovoltaic_ppa', 'Solar_PPA'))\n",
    "        capacity_df = capacity_df.assign(Resource = capacity_df[\"Resource\"].str.strip().str.replace('onshore_wind_turbine_ppa', 'Wind_PPA'))\n",
    "        capacity_df = capacity_df.assign(Resource = capacity_df[\"Resource\"].str.strip().str.replace('Battery_ppa', 'Battery_PPA'))\n",
    "        capacity_df['resource_type'] = capacity_df['Resource'].str.replace('_\\d+$', '', regex=True)\n",
    "        capacity_df['resource_type'] = capacity_df['resource_type'].replace(resource_dict.keys(), resource_dict.values())\n",
    "        \n",
    "        #end_capacity_scenario_df = capacity_df.query(\"Resource != 'Total'\").assign(zone = capacity_df[\"Resource\"].str[:6].str.strip(),\n",
    "        #            resource_type = capacity_df[\"Resource\"].str.replace('_\\d+$', '', regex=True))\n",
    "\n",
    "        if 'base_no_expansion' in dir_name:\n",
    "            end_capacity_scenario_df = capacity_df.query(\"Resource != 'Total'\").assign(zone = capacity_df[\"Resource\"].str[:6].str.strip()).replace({\"resource_type\": resource_dict}).groupby(['resource_type']).agg({'StartCap': 'sum'}).assign(scenario = scenario_name_dict[dir_name])\n",
    "            end_capacity_scenario_df[\"EndCap\"] = end_capacity_scenario_df[\"StartCap\"]\n",
    "        else:\n",
    "            end_capacity_scenario_df = capacity_df.query(\"Resource != 'Total'\").assign(zone = capacity_df[\"Resource\"].str[:6].str.strip()).replace({\"resource_type\": resource_dict}).groupby(['resource_type']).agg({'EndCap': 'sum'}).assign(scenario = scenario_name_dict[dir_name])\n",
    "\n",
    "        #end_capacity_scenario_df['resource_type'] = end_capacity_scenario_df['resource_type'].replace(resource_dict)\n",
    "        #end_capacity_scenario_df['scenario'] = scenario_name_dict[dir_name]\n",
    "        \n",
    "        \n",
    "       # end_capacity_scenario_df = end_capacity_scenario_df['resource_type'].replace({\"resource_type\": resource_dict}).groupby(['resource_type'])\n",
    "        #.replace({\"resource_type\": resource_dict}).groupby(['resource_type']).agg({'EndCap': 'sum'}).assign(scenario = scenario_name_dict[dir_name])\n",
    "        end_capacity_scenario_df = end_capacity_scenario_df.assign(capacity_gw = end_capacity_scenario_df[\"EndCap\"] * 0.001).reset_index()\n",
    "        \n",
    "       # print(end_capacity_scenario_df)\n",
    "        #print(dir_name)\n",
    "        #temp = end_capacity_scenario_df.query(\"resource_type != 'battery' & resource_type != 'PHS'\")\n",
    "        #print(temp.sum())\n",
    "                \n",
    "        if 'no_H2' in dir_name:\n",
    "            end_capacity_scenario_df = pd.concat([end_capacity_scenario_df, (pd.DataFrame(['Solar_PPA', 0, scenario_name_dict[dir_name], 0], \n",
    "                                                index=['resource_type', 'EndCap', 'scenario', 'capacity_gw']).T)],\n",
    "                                                ignore_index=True)\n",
    "            end_capacity_scenario_df = pd.concat([end_capacity_scenario_df, (pd.DataFrame(['Wind_PPA', 0, scenario_name_dict[dir_name], 0], \n",
    "                                                index=['resource_type', 'EndCap', 'scenario', 'capacity_gw']).T)],\n",
    "                                                ignore_index=True)\n",
    "            \n",
    "            if bat == True:\n",
    "                end_capacity_scenario_df = pd.concat([end_capacity_scenario_df, (pd.DataFrame(['Battery_PPA', 0, scenario_name_dict[dir_name], 0], \n",
    "                                                index=['resource_type', 'EndCap', 'scenario', 'capacity_gw']).T)],\n",
    "                                                ignore_index=True)\n",
    "        \n",
    "        power_cap_list.append(end_capacity_scenario_df)\n",
    "\n",
    "        ######Battery Capacity###########\n",
    "        end_battery_capacity_scenario_df = capacity_df.query(\"Resource != 'Total'\").assign(zone = capacity_df[\"Resource\"].str[:6].str.strip(),\n",
    "                       resource_type = capacity_df[\"Resource\"].str.strip().str.replace('\\_\\d+', '')).replace({\"resource_type\": resource_dict}).groupby(['resource_type']).agg({'EndEnergyCap': 'sum'}).assign(scenario = scenario_name_dict[dir_name])\n",
    "        end_battery_capacity_scenario_df = end_battery_capacity_scenario_df.assign(capacity_gwh = end_battery_capacity_scenario_df[\"EndEnergyCap\"] * 0.001).reset_index()\n",
    "        power_battery_cap_list.append(end_battery_capacity_scenario_df)\n",
    "        \n",
    "        ######Comp Power and Capacity DF#####\n",
    "        \n",
    "        comb_power_capacity_df = pd.merge(power_gen_total_df, end_capacity_scenario_df, on = ['resource_type', 'scenario'])\n",
    "        #comb_power_capacity_df[\"cf\"] = comb_power_capacity_df.gen / comb_power_capacity_df.EndCap / 8760\n",
    "        \n",
    "        #comb_power_capacity_list.append(comb_power_capacity_df)\n",
    "        \n",
    "    return power_gen_list, power_cap_list, power_battery_cap_list, comb_power_capacity_list\n",
    "    \n",
    "    "
   ],
   "outputs": [],
   "execution_count": 7
  },
  {
   "cell_type": "code",
   "metadata": {
    "ExecuteTime": {
     "end_time": "2024-06-27T03:06:36.780385Z",
     "start_time": "2024-06-27T03:06:36.776558Z"
    }
   },
   "source": [
    "#function that adds a row that is the average of cases to the DATA_POWER df\n",
    "def average_of_power_df(power_df):\n",
    "    \n",
    "    # Calculate the average values\n",
    "    average_cap_values = np.mean([df['EndCap'] for df in power_df[1]], axis=0)\n",
    "    average_cap_gw_values = np.mean([df['capacity_gw'] for df in power_df[1]], axis=0)\n",
    "    # average_generation_twh = np.mean([df['generation_twh'] for df in DATA_POWER_S2[0]], axis=0)\n",
    "\n",
    "    # Create the new DataFrame for the average scenario\n",
    "    average_cap_df = pd.DataFrame({\n",
    "        'resource_type': power_df[1][0]['resource_type'],\n",
    "        'EndCap': average_cap_values,\n",
    "        'scenario': \"Deterministic Average\",\n",
    "        'capacity_gw': average_cap_gw_values\n",
    "    })\n",
    "\n",
    "    # Calculate the average values\n",
    "    average_gen_values = np.mean([df['gen'] for df in power_df[0]], axis=0)\n",
    "    average_gen_twh_values = np.mean([df['generation_twh'] for df in power_df[0]], axis=0)\n",
    "    # average_generation_twh = np.mean([df['generation_twh'] for df in DATA_POWER_S2[0]], axis=0)\n",
    "\n",
    "    # Create the new DataFrame for the average scenario\n",
    "    average_gen_df = pd.DataFrame({\n",
    "        'resource_type': power_df[1][0]['resource_type'],\n",
    "        'gen': average_gen_values,\n",
    "        'generation_twh': average_gen_twh_values,\n",
    "        'scenario': \"Deterministic Average\"\n",
    "    })\n",
    "\n",
    "    # Calculate the average values\n",
    "    average_bat_cap_values = np.mean([df['EndEnergyCap'] for df in power_df[2]], axis=0)\n",
    "    average_bat_cap_gwh_values = np.mean([df['capacity_gwh'] for df in power_df[2]], axis=0)\n",
    "    # average_generation_twh = np.mean([df['generation_twh'] for df in DATA_POWER_S2[0]], axis=0)\n",
    "\n",
    "    # Create the new DataFrame for the average scenario\n",
    "    average_bat_cap_df = pd.DataFrame({\n",
    "        'resource_type': power_df[2][0]['resource_type'],\n",
    "        'EndEnergyCap': average_bat_cap_values,\n",
    "        'scenario': \"Deterministic Average\",\n",
    "        'capacity_gwh': average_bat_cap_gwh_values\n",
    "    })\n",
    "\n",
    "    power_df_w_avg = list(power_df).copy()\n",
    "\n",
    "    if power_df_w_avg[0][-1][\"scenario\"][0] != \"Deterministic Average\":\n",
    "        power_df_w_avg[0].append(average_gen_df)\n",
    "        power_df_w_avg[1].append(average_cap_df)\n",
    "        power_df_w_avg[2].append(average_bat_cap_df)\n",
    "\n",
    "    return power_df_w_avg\n"
   ],
   "outputs": [],
   "execution_count": 8
  },
  {
   "cell_type": "markdown",
   "metadata": {},
   "source": [
    "In[88]:"
   ]
  },
  {
   "cell_type": "code",
   "metadata": {
    "ExecuteTime": {
     "end_time": "2024-06-27T03:06:36.782503Z",
     "start_time": "2024-06-27T03:06:36.781063Z"
    }
   },
   "source": [
    "    # Function to calculate revenues from selling electricity from PPA assets"
   ],
   "outputs": [],
   "execution_count": 9
  },
  {
   "cell_type": "code",
   "metadata": {
    "ExecuteTime": {
     "end_time": "2024-06-27T03:06:36.787458Z",
     "start_time": "2024-06-27T03:06:36.783014Z"
    }
   },
   "source": [
    "def calculate_electricity_sales(dir_list, scenario_name_dict):\n",
    "    \n",
    "    sales = []\n",
    "    prices = []\n",
    "    purchases = []\n",
    "    elec_sales_df = []\n",
    "\n",
    "    \n",
    "    for dir_name in dir_list:\n",
    "        \n",
    "\n",
    "        power_df = pd.read_csv(\"./\" + dir_name + \"/Results/power.csv\")[2:]\n",
    "        price_df = pd.read_csv(\"./\" + dir_name + \"/Results/prices.csv\")\n",
    "        charge_df = pd.read_csv(\"./\" + dir_name + \"/Results/charge.csv\")[2:].reset_index()\n",
    "        weights = pd.read_csv(\"./\" + dir_name + \"/Results/time_weights.csv\")\n",
    "        \n",
    "        if 'no_H2' in dir_name:\n",
    "            columns_to_filter = [x for x in ['onshore_wind_turbine_ppa', 'solar_photovoltaic_ppa'] if x in power_df.columns.tolist()]\n",
    "            power_df = power_df.filter(items=columns_to_filter)\n",
    "        #if 'Annual' in dir_name:\n",
    "        else:\n",
    "            charge_df = charge_df.rename(columns={'Battery_ppa':'Battery_ppa_charge'})\n",
    "            charge_df['Battery_1_charge']=charge_df['Battery_ppa_charge']*-1\n",
    "            power_df = power_df.merge(charge_df[['Resource','Battery_ppa_charge']], on='Resource')  \n",
    "            columns_to_filter = [x for x in ['onshore_wind_turbine_ppa', 'solar_photovoltaic_ppa', 'Battery_ppa', 'Battery_ppa_charge'] if x in power_df.columns.tolist()]\n",
    "            power_df = power_df.filter(items=columns_to_filter)\n",
    "            \n",
    "        #Replace negative values with 0\n",
    "        #price_df.loc[price_df['1']<0,'1'] = 0\n",
    "        \n",
    "        elec_sales = power_df.multiply(price_df['1'], axis=0)\n",
    "        elec_sales = elec_sales.multiply(weights['Weight'], axis=0)\n",
    "        elec_sales_df.append(elec_sales)\n",
    "        total_sales = elec_sales.sum().sum()\n",
    "        \n",
    "        df = pd.DataFrame(data={'scenario': [scenario_name_dict[dir_name]], 'elec_sales': [total_sales]})\n",
    "        sales.append(df)\n",
    "\n",
    "        if 'no_H2' not in dir_name:\n",
    "            electrolyzer_df = pd.read_csv(\"./\" + dir_name + \"/Results/Results_HSC/HSC_h2_generation_discharge.csv\").drop([0,1]).reset_index(drop=True)\n",
    "            # convert to electricity consumption\n",
    "            electrolyzer_df['Electrolyzer_1.0'] = electrolyzer_df['Electrolyzer_1.0']*54.3\n",
    "            elec_purchases = electrolyzer_df['Electrolyzer_1.0'].multiply(price_df['1'], axis=0)\n",
    "            total_purchases = elec_purchases.sum().sum()\n",
    "            df = pd.DataFrame(data={'scenario': [scenario_name_dict[dir_name]], 'elec_purchases': [total_purchases]})\n",
    "        \n",
    "            purchases.append(df)\n",
    "            \n",
    "        price_df = price_df.rename(columns={'1':scenario_name_dict[dir_name]})\n",
    "        price_df = price_df.describe().T.assign(scenario=scenario_name_dict[dir_name])\n",
    "        prices.append(price_df)\n",
    "        \n",
    "    return sales, purchases, prices   "
   ],
   "outputs": [],
   "execution_count": 10
  },
  {
   "cell_type": "markdown",
   "metadata": {},
   "source": [
    "In[89]:"
   ]
  },
  {
   "cell_type": "code",
   "metadata": {
    "ExecuteTime": {
     "end_time": "2024-06-27T03:06:36.792218Z",
     "start_time": "2024-06-27T03:06:36.788067Z"
    }
   },
   "source": [
    "def read_power_data_gas_granular(dir_list):\n",
    "    \n",
    "    power_cap_list = []\n",
    "    power_gen_list = []\n",
    "    power_battery_cap_list = []\n",
    "    comb_power_capacity_list = []\n",
    "    for dir_name in dir_list:\n",
    "        resource_dict = {'CCGT' : 'Gas_CCGT', 'OCGT' : 'Gas_OCGT', 'CCGT-CCUS' : 'Gas w/ CCS',\n",
    "             'biomass' : 'Biomass',\n",
    "             'coal' :'Coal',\n",
    "             'lignite' : 'Coal',\n",
    "             'oil' : 'Oil',\n",
    "             'offwind-dc' : 'Wind' , 'offwind-ac' : 'Wind', 'onwind' : 'Wind',\n",
    "            'ror' : 'Hydro', 'hydro' : 'Hydro', 'PHS' : 'PHS',\n",
    "             'solar' : 'Solar',\n",
    "            'nuclear' : 'Nuclear'}\n",
    "\n",
    "        #Raw Data\n",
    "        power_df = pd.read_csv(\"./\" + dir_name + \"/Results/power.csv\").drop([0,1])\n",
    "        weights_df = pd.read_csv(\"./\" + dir_name + \"/Results/time_weights.csv\")\n",
    "        capacity_df = pd.read_csv(\"./\" + dir_name + \"/Results/capacity.csv\")\n",
    "\n",
    "        #########Power###########\n",
    "\n",
    "        #Wrangle Power Data into long format\n",
    "        power_long_df = power_df.melt(id_vars = \"Resource\").query(\"Resource != 'Zone' & Resource != 'AnnualSum'\")\n",
    "        power_long_df = power_long_df.assign(zone = power_long_df[\"variable\"].str[:6].str.strip(),\n",
    "                                 resource_type = power_long_df[\"variable\"].str[6:].str.strip(),\n",
    "                                interval = pd.to_numeric(power_long_df[\"Resource\"].str[1:]) ).replace({\"resource_type\": resource_dict})\n",
    "        \n",
    "        zones = power_long_df[\"zone\"].unique()\n",
    "        power_total_df = power_long_df.query(\"zone == 'Total'\")\n",
    "        #Add weights to long power data frame\n",
    "        power_long_df = power_long_df.merge(weights_df, left_on = \"interval\", right_on = \"Time\", how = \"left\")\n",
    "\n",
    "        #Aggregate power data by zone\n",
    "        power_zone_df = power_long_df.groupby(['zone','interval']).agg({'value': 'sum'}).query(\"zone != 'Total'\").reset_index()\n",
    "        power_gen_df = power_long_df.query(\"variable != 'Total'\").groupby(['resource_type','interval']).agg({'value': 'sum'}).reset_index()\n",
    "\n",
    "        #Aggregate power by generator type\n",
    "        power_gen_total_df = power_long_df.query(\"variable != 'Total'\").assign(gen = power_long_df[\"value\"] * power_long_df[\"Weight\"]).groupby(['resource_type']).agg({'gen': 'sum'}).reset_index()\n",
    "        power_gen_total_df = power_gen_total_df.assign(generation_twh = power_gen_total_df[\"gen\"] * 0.000001, scenario = scenario_name_dict[dir_name])\n",
    "        power_gen_list.append(power_gen_total_df)\n",
    "    return power_gen_list"
   ],
   "outputs": [],
   "execution_count": 11
  },
  {
   "cell_type": "markdown",
   "metadata": {},
   "source": [
    "In[90]:"
   ]
  },
  {
   "cell_type": "code",
   "metadata": {
    "ExecuteTime": {
     "end_time": "2024-06-27T03:06:36.798596Z",
     "start_time": "2024-06-27T03:06:36.792949Z"
    }
   },
   "source": [
    "def read_h2_data(h2_dir_list, scenario_name_dict):\n",
    "    h2_cap_list = []\n",
    "    h2_gen_list = []\n",
    "    h2_stor_cap_list = []\n",
    "    \n",
    "    for h2_dir_name in h2_dir_list:\n",
    "        \n",
    "        h2_discharge_df = pd.read_csv(h2_dir_name + \"/Results/Results_HSC/HSC_h2_generation_discharge.csv\").drop([0,1])\n",
    "        weights_df = pd.read_csv(h2_dir_name + \"/Results/time_weights.csv\")\n",
    "        h2_capacity_df = pd.read_csv(h2_dir_name + \"/Results/Results_HSC/HSC_generation_storage_capacity.csv\")\n",
    "        h2_discharge_long_df = h2_discharge_df.melt(id_vars = \"Resource\").query(\"Resource != 'Zone' & Resource != 'AnnualSum'\")\n",
    "        h2_discharge_long_df =  h2_discharge_long_df.assign(\n",
    "                                interval = pd.to_numeric(h2_discharge_long_df[\"Resource\"].str[1:]) )\n",
    "        h2_discharge_long_df = h2_discharge_long_df.merge(weights_df, left_on = \"interval\", right_on = \"Time\", how = \"left\")\n",
    "        mask = h2_discharge_long_df[\"variable\"].str.contains(\"Above_ground_storage\")\n",
    "        h2_discharge_long_df = h2_discharge_long_df[~mask]\n",
    "        h2_discharge_long_df.loc[h2_discharge_long_df[\"variable\"].str.contains(\"Electrolyzer\"),\"resource_type\"] = \" Electrolyzer\"\n",
    "        #h2_discharge_long_df.loc[h2_discharge_long_df[\"variable\"].str.contains(\"Large_ATR\"),\"resource_type\"] = \"ATR\"\n",
    "        h2_discharge_long_df.loc[h2_discharge_long_df[\"variable\"].str.contains(\"ATR_wCCS\"),\"resource_type\"] = \" ATR w/ CCS\"\n",
    "        h2_discharge_long_df.loc[h2_discharge_long_df[\"variable\"].str.contains(\"SMR\"),\"resource_type\"] = \" SMR\"\n",
    "        h2_discharge_long_df.loc[h2_discharge_long_df[\"variable\"].str.contains(\"Liquifier\"),\"resource_type\"] = \"Liquifier\"\n",
    " \n",
    "        h2_discharge_total_df = h2_discharge_long_df.query(\"variable != 'Total'\").assign(h2_prod = h2_discharge_long_df[\"value\"] * h2_discharge_long_df[\"Weight\"]*0.001).groupby(['resource_type']).agg({'h2_prod': 'sum'}).reset_index()\n",
    "        h2_discharge_total_df = h2_discharge_total_df.assign(scenario = scenario_name_dict[h2_dir_name])\n",
    "        \n",
    "        if 'noCCS' in h2_dir_name:\n",
    "            h2_discharge_total_df = h2_discharge_total_df.append(pd.Series([' ATR w/ CCS', 0, scenario_name_dict[h2_dir_name]], \n",
    "                                                index=['resource_type', 'h2_prod', 'scenario']),\n",
    "                                                ignore_index=True)\n",
    "            \n",
    "        h2_gen_list.append(h2_discharge_total_df)\n",
    "        mask = h2_capacity_df[\"Resource\"].str.contains(\"storage\")\n",
    "        h2_storage_capacity_df = h2_capacity_df[mask]\n",
    "        h2_capacity_df = h2_capacity_df[~mask]\n",
    "        \n",
    "        h2_capacity_df.loc[h2_capacity_df[\"Resource\"].str.contains(\"Electrolyzer\"),\"resource_type\"] = \" Electrolyzer\"\n",
    "        #h2_capacity_df.loc[h2_capacity_df[\"Resource\"].str.contains(\"Large_ATR\"),\"resource_type\"] = \"ATR\"\n",
    "        h2_capacity_df.loc[h2_capacity_df[\"Resource\"].str.contains(\"ATR_wCCS\"),\"resource_type\"] = \" ATR w/ CCS\"\n",
    "        h2_capacity_df.loc[h2_capacity_df[\"Resource\"].str.contains(\"SMR\"),\"resource_type\"] = \" SMR\"\n",
    "        h2_capacity_df.loc[h2_capacity_df[\"Resource\"].str.contains(\"Liquifier\"),\"resource_type\"] = \"Liquifier\"\n",
    "        \n",
    "        #h2_storage_capacity_df[\"Resource\"] = \"Above Ground Storage\"\n",
    "        h2_storage_capacity_df.loc[h2_storage_capacity_df[\"Resource\"].str.contains(\"Gas_storage\"),\"Resource\"] = \"Gas_storage\"\n",
    "        h2_storage_capacity_df.loc[h2_storage_capacity_df[\"Resource\"].str.contains(\"Liquid_storage\"),\"Resource\"] = \"Liquid_storage\"\n",
    "        \n",
    "        end_capacity_scenario_df = h2_capacity_df.query(\"Resource != 'Total'\").groupby(['resource_type']).agg({'EndCap': 'sum'}).assign(scenario = scenario_name_dict[h2_dir_name]).reset_index()\n",
    "        \n",
    "        if 'noCCS' in h2_dir_name:\n",
    "            end_capacity_scenario_df = end_capacity_scenario_df.append(pd.Series([' ATR w/ CCS', 0, scenario_name_dict[h2_dir_name]], \n",
    "                                                index=['resource_type', 'EndCap', 'scenario']),\n",
    "                                                ignore_index=True)\n",
    "        \n",
    "        h2_cap_list.append(end_capacity_scenario_df)\n",
    "        \n",
    "        end_storage_scenario_df = h2_storage_capacity_df.groupby(['Resource']).agg({'EndEnergyCap': 'sum'}).assign(scenario = scenario_name_dict[h2_dir_name]).reset_index()\n",
    "        h2_stor_cap_list.append(end_storage_scenario_df)\n",
    "        \n",
    "    return h2_gen_list, h2_cap_list, h2_stor_cap_list"
   ],
   "outputs": [],
   "execution_count": 12
  },
  {
   "cell_type": "markdown",
   "metadata": {},
   "source": [
    "In[91]:"
   ]
  },
  {
   "cell_type": "code",
   "metadata": {
    "ExecuteTime": {
     "end_time": "2024-06-27T03:06:36.801003Z",
     "start_time": "2024-06-27T03:06:36.799200Z"
    }
   },
   "source": [
    "def read_pipeline_data(h2_dir_list):\n",
    "    \n",
    "    h2_pipe_list = []\n",
    "    \n",
    "    for h2_dir_name in h2_dir_list:\n",
    "        h2_pipeline_df = pd.read_csv(\"./\" + h2_dir_name + \"/Results/Results_HSC/HSC_pipeline_expansion.csv\")\n",
    "    \n",
    "        h2_total_pipes = pd.DataFrame(h2_pipeline_df.sum()).T\n",
    "        \n",
    "        h2_total_pipes = h2_total_pipes.assign(scenario = scenario_name_dict[h2_dir_name]).reset_index()\n",
    "        \n",
    "        h2_pipe_list.append(h2_total_pipes)\n",
    "        \n",
    "    return h2_pipe_list"
   ],
   "outputs": [],
   "execution_count": 13
  },
  {
   "cell_type": "markdown",
   "metadata": {},
   "source": [
    "In[92]:"
   ]
  },
  {
   "cell_type": "code",
   "metadata": {
    "ExecuteTime": {
     "end_time": "2024-06-27T03:06:36.803316Z",
     "start_time": "2024-06-27T03:06:36.801486Z"
    }
   },
   "source": [
    "def read_network_data(dir_list):\n",
    "    \n",
    "    line_list = []\n",
    "    \n",
    "    for dir_name in dir_list:\n",
    "        line_df = pd.read_csv(\"./\" + dir_name + \"/Results/network_expansion.csv\")\n",
    "    \n",
    "        total_lines = pd.DataFrame(line_df.sum()).T\n",
    "        \n",
    "        total_lines = total_lines.assign(scenario = scenario_name_dict[dir_name]).reset_index()\n",
    "        \n",
    "        line_list.append(total_lines)\n",
    "        \n",
    "    return line_list"
   ],
   "outputs": [],
   "execution_count": 14
  },
  {
   "cell_type": "markdown",
   "metadata": {},
   "source": [
    "In[96]:"
   ]
  },
  {
   "cell_type": "code",
   "metadata": {
    "ExecuteTime": {
     "end_time": "2024-06-27T03:06:36.807967Z",
     "start_time": "2024-06-27T03:06:36.804014Z"
    }
   },
   "source": [
    "def read_emission_data(dir_list, scenario_name_dict):\n",
    "\n",
    "    #emissions_df = pd.DataFrame(columns=[\"scenario_name\", \"Power Plant Emissions\", \"Power Plant PSC Abatement\", \"H2 Plant Emissions\", \"H2 Plant PSC Abatement\"]) #\"DAC Plant Emissions\", \"DAC Abatement\"])\n",
    "    emissions_df = pd.DataFrame(columns=[\"scenario_name\", \"Power Plant Emissions\", \"H2 Plant Emissions\"]) #\"DAC Plant Emissions\", \"DAC Abatement\"])\n",
    "    for dir_name in dir_list:\n",
    "        \n",
    "        # CHECK THIS COLUMN HERE\n",
    "        if 'flex_cap' in dir_name: # For flex_cap there is an emisions constraint so the row for annual sum is shifted by one row below\n",
    "            curr_power_em = pd.read_csv(dir_name + \"/Results/emissions.csv\").iloc[1,-1] * 0.000001\n",
    "            #print(dir_name)\n",
    "        else:\n",
    "            curr_power_em = pd.read_csv(dir_name + \"/Results/emissions.csv\").iloc[0,-1] * 0.000001\n",
    "        \n",
    "        if os.path.exists(dir_name + \"/Results/Results_HSC/\"):\n",
    "            curr_hsc_em = pd.read_csv(dir_name + \"/Results/Results_HSC/HSC_emissions.csv\").iloc[0,-1]* 0.000001\n",
    "        else:\n",
    "            curr_hsc_em = 0\n",
    "        \n",
    "        if os.path.isfile(dir_name + \"/Results/Results_CSC/CSC_DAC_co2_capture_zone.csv\"):\n",
    "            curr_dac_cc = -1 * sum(pd.read_csv(dir_name + \"/Results/Results_CSC/CSC_DAC_co2_capture_zone.csv\").iloc[1,1:])*0.000001\n",
    "        else:\n",
    "            curr_dac_cc = 0 \n",
    "            \n",
    "        #curr_power_cc = -1 * sum(pd.read_csv(\"./\" + dir_name + \"/Results/Results_CSC/Power_zone_co2_captured.csv\").iloc[1,1:])*0.000001\n",
    "        #curr_h2_cc = -1 * sum(pd.read_csv(\"./\" + dir_name + \"/Results/Results_CSC/Hydrogen_zone_co2_captured.csv\").iloc[1,1:])*0.000001\n",
    "        #curr_dac_em = sum(pd.read_csv(\"./\" + dir_name + \"/Results/Results_CSC/CSC_co2_fuel_emission_zone.csv\").iloc[1,1:])*0.000001\n",
    "        curr_power_cc = 0\n",
    "        curr_h2_cc = 0\n",
    "        curr_dac_em = 0\n",
    "        \n",
    "        if os.path.isfile(dir_name + \"/Results/Results_SynFuels/CSC_DAC_co2_capture_zone.csv\"):\n",
    "            curr_dac_cc = -1 * sum(pd.read_csv(dir_name + \"/Results/Results_CSC/CSC_DAC_co2_capture_zone.csv\").iloc[1,1:])*0.000001\n",
    "        else:\n",
    "            curr_dac_cc = 0 \n",
    "        \n",
    "        \n",
    "        #curr_emissions_df = pd.DataFrame(index = [scenario_name_dict[dir_name]], columns=[\"scenario_name\", \"Power Plant Emissions\", \"Power Plant PSC Abatement\", \"H2 Plant Emissions\", \"H2 Plant PSC Abatement\", \"DAC Plant Emissions\", \"DAC Abatement\"], \n",
    "         #                                data=[[scenario_name_dict[dir_name], curr_power_em, curr_power_cc, curr_hsc_em, curr_h2_cc, curr_dac_em, curr_dac_cc]])\n",
    "        \n",
    "#       curr_emissions_df = pd.DataFrame(index = [scenario_name_dict[dir_name]], columns=[\"scenario_name\", \"Power Plant Emissions\", \"Power Plant PSC Abatement\", \"H2 Plant Emissions\", \"H2 Plant PSC Abatement\"], \n",
    "#                                          data=[[scenario_name_dict[dir_name], curr_power_em, curr_power_cc, curr_hsc_em, curr_h2_cc]])\n",
    "        \n",
    "        curr_emissions_df = pd.DataFrame(index = [scenario_name_dict[dir_name]], columns=[\"scenario_name\", \"Power Plant Emissions\", \"H2 Plant Emissions\"], \n",
    "                                          data=[[scenario_name_dict[dir_name], curr_power_em, curr_hsc_em]])\n",
    "        \n",
    "        emissions_df = pd.concat([emissions_df, curr_emissions_df])\n",
    "        \n",
    "    emissions_summary_df = pd.DataFrame()\n",
    "    emissions_summary_df[\"Net Power Plant Emissions\"] = emissions_df[\"Power Plant Emissions\"] \n",
    "    emissions_summary_df[\"Net H2 Plant Emissions\"] = emissions_df[\"H2 Plant Emissions\"] \n",
    "    emissions_summary_df[\"Total_emissions\"] = emissions_df[\"Power Plant Emissions\"]+emissions_df[\"H2 Plant Emissions\"] \n",
    "    #emissions_summary_df[\"Net DAC Plant Emissions\"] = emissions_df[\"DAC Plant Emissions\"] + emissions_df[\"DAC Abatement\"]\n",
    "    \n",
    "    return emissions_df, emissions_summary_df"
   ],
   "outputs": [],
   "execution_count": 15
  },
  {
   "cell_type": "markdown",
   "metadata": {},
   "source": [
    "In[97]:"
   ]
  },
  {
   "cell_type": "code",
   "metadata": {
    "ExecuteTime": {
     "end_time": "2024-06-27T03:06:36.811684Z",
     "start_time": "2024-06-27T03:06:36.808439Z"
    }
   },
   "source": [
    "def calculate_attributional_emissions(dir_list):\n",
    "    at_em_summary = []\n",
    "    \n",
    "    for dir_name in dir_list:\n",
    "        \n",
    "        # READ DATA\n",
    "        emissions_df = pd.read_csv(\"./\" + dir_name + \"/Results/emissions.csv\")\n",
    "        power_df = pd.read_csv(\"./\" + dir_name + \"/Results/power.csv\")\n",
    "        h2_load = pd.read_csv(\"./\" + dir_name + \"/Results/Results_HSC/HSC_h2_generation_discharge.csv\")\n",
    "        h2_load = h2_load[2:]\n",
    "        \n",
    "        emissions_df = emissions_df[1:]\n",
    "        emissions_df = emissions_df.rename(columns={'Total':\"Total_emissions\"})\n",
    "        \n",
    "        power_df = power_df[2:]\n",
    "        power_df = power_df.rename(columns={'Total':\"Total_gen\"})\n",
    "        power_df['CFE']=power_df.filter(items=['solar_photovoltaic_ppa', 'onshore_wind_turbine_ppa', 'Battery']).sum(axis=1)\n",
    "        \n",
    "        attr_emissions = emissions_df.merge(power_df, left_on='Zone', right_on='Resource')\n",
    "        attr_emissions = attr_emissions.merge(h2_load, on='Resource')\n",
    "        attr_emissions['grid_intens']=attr_emissions['Total_emissions']/attr_emissions['Total_gen']\n",
    "        if '2030' in dir_name:\n",
    "            attr_emissions['EZ_load_diff']=attr_emissions['Electrolyzer_1.0']*50.2-attr_emissions['CFE']\n",
    "        elif 'ERCOT' in dir_name:\n",
    "            attr_emissions['EZ_load_diff']=attr_emissions['Electrolyzer_1.0']*54.3-attr_emissions['CFE']\n",
    "\n",
    "        #attr_emissions.loc[attr_emissions['EZ_load_diff']<0,'EZ_load_diff']=0\n",
    "        attr_emissions['attr_emissions']=attr_emissions['EZ_load_diff']*attr_emissions['grid_intens']\n",
    "        attr_emissions = pd.DataFrame(attr_emissions.sum()).T\n",
    "        attr_emissions = attr_emissions.assign(scenario = scenario_name_dict[dir_name]).reset_index()\n",
    "        attr_emissions = attr_emissions[['attr_emissions', 'scenario']]\n",
    "        \n",
    "        at_em_summary.append(attr_emissions)\n",
    "        \n",
    "    return at_em_summary"
   ],
   "outputs": [],
   "execution_count": 16
  },
  {
   "cell_type": "markdown",
   "metadata": {},
   "source": [
    "In[98]:"
   ]
  },
  {
   "cell_type": "code",
   "metadata": {
    "ExecuteTime": {
     "end_time": "2024-06-27T03:06:36.814632Z",
     "start_time": "2024-06-27T03:06:36.812335Z"
    }
   },
   "source": [
    "def read_sen_emissions_costs(dir_list):\n",
    "    \n",
    "    sen_results_df = pd.DataFrame(columns=[\"scenario_name\", \"sen_factor\", \"curr_cost\", \"captured_co2\"])\n",
    "    for sen_file in dir_list:\n",
    "        curr_cost = pd.read_csv(\"./\" + sen_file + \"/Results/status.csv\").iloc[0][\"Objval\"]#.drop([0])\n",
    "        curr_csc_em = sum(pd.read_csv(\"./\" + sen_file + \"/Results/Results_CSC/CSC_DAC_co2_capture_zone.csv\").iloc[1,1:])*0.000001\n",
    "        curr_sen_factor = float(sen_file[-3:])\n",
    "        curr_sen_results_df = pd.DataFrame(columns=[\"scenario_name\",\"sen_factor\", \"curr_cost\", \"captured_co2\"],\n",
    "                                           data=[[sen_file, curr_sen_factor, curr_cost, curr_csc_em]])\n",
    "        sen_results_df = sen_results_df.append(curr_sen_results_df)\n",
    "        \n",
    "    return(sen_results_df.sort_values(by = \"sen_factor\"))"
   ],
   "outputs": [],
   "execution_count": 17
  },
  {
   "cell_type": "markdown",
   "metadata": {},
   "source": [
    "In[101]:"
   ]
  },
  {
   "cell_type": "code",
   "metadata": {
    "ExecuteTime": {
     "end_time": "2024-06-27T03:06:36.817473Z",
     "start_time": "2024-06-27T03:06:36.815167Z"
    }
   },
   "source": [
    "def fig_comp_h2_prod(h2_gen_list, title_str): \n",
    "    \n",
    "    curr_df = pd.concat(h2_gen_list)\n",
    "    curr_df[\"h2_prod_ej\"] = curr_df[\"h2_prod\"] * 1000 * 33 * 1e-6 * 0.0036\n",
    "    curr_df.pivot(index = 'scenario', columns = 'resource_type' )['h2_prod_ej'].plot(kind = \"bar\", stacked = True, legend=True, ylabel = \"Total H2 Production (EJ)\", title = title_str, xlabel = \"\",  color = [\"lightsteelblue\", \"green\", \"grey\", \"deepskyblue\"]).legend(bbox_to_anchor= (1.05,1))\n",
    "    locs, labels = plt.xticks()\n",
    "    plt.setp(labels, rotation=(90))\n",
    "    \n",
    "    # Create the Figures folder if it doesn't exist\n",
    "    if not os.path.exists(\"Figures\"):\n",
    "        os.makedirs(\"Figures\")\n",
    "    \n",
    "    # Save the figure to the Figures folder\n",
    "    #plt.savefig('./' + dir_name + \"/Comp Battery.png\", dpi=300, bbox_inches='tight')\n",
    "    "
   ],
   "outputs": [],
   "execution_count": 18
  },
  {
   "cell_type": "markdown",
   "metadata": {},
   "source": [
    "In[103]:"
   ]
  },
  {
   "cell_type": "code",
   "metadata": {
    "ExecuteTime": {
     "end_time": "2024-06-27T03:06:36.825923Z",
     "start_time": "2024-06-27T03:06:36.823699Z"
    }
   },
   "source": [
    "def fig_comp_battery(power_gen_list, title_str):\n",
    "    pd.concat(power_gen_list).query('resource_type == \"battery\" | resource_type == \"PHS\"').pivot(index = 'scenario', columns = 'resource_type' )['generation_twh'].plot(kind = \"bar\", stacked = True, legend=False, xlabel = \"Scenario\", ylabel = \"Total Generation (TWh)\", title = title_str, color = [\"aqua\",\"springgreen\", \"black\", \"darkviolet\", \"red\", \"dodgerblue\", \"pink\", \"grey\",\"blue\", \"gold\", \"green\"])#.legend(bbox_to_anchor= (1,1))\n",
    "    locs, labels = plt.xticks()\n",
    "    plt.setp(labels, rotation=70)\n",
    "    "
   ],
   "outputs": [],
   "execution_count": 19
  },
  {
   "cell_type": "markdown",
   "metadata": {},
   "source": [
    "In[104]:"
   ]
  },
  {
   "cell_type": "markdown",
   "metadata": {},
   "source": [
    "# Create Single Resource Comp Fig Fun Def"
   ]
  },
  {
   "cell_type": "code",
   "metadata": {
    "ExecuteTime": {
     "end_time": "2024-06-27T03:06:36.916363Z",
     "start_time": "2024-06-27T03:06:36.912062Z"
    }
   },
   "source": [
    "def fig_comp_battery(power_gen_list,title_str):\n",
    "    \n",
    "    pd.concat(power_gen_list).query(\"resource_type == 'battery'\").pivot(index = 'scenario', columns = 'resource_type' )['generation_twh'].plot(kind = \"bar\", stacked = True, legend=True, ylabel = \"Total Discharge (TWh)\",xlabel = \"scenario\", title = title_str).legend(bbox_to_anchor= (1,1))\n",
    "    locs, labels = plt.xticks()\n",
    "    plt.setp(labels, rotation=70)\n",
    "    plt.savefig('./' + dir_name + \"/Comp Battery.png\", dpi=300, bbox_inches='tight')\n",
    "    \n",
    "def fig_comp_battery_cap(power_gen_list,title_str):\n",
    "    \n",
    "    pd.concat(power_gen_list).query(\"resource_type == 'battery'\").pivot(index = 'scenario', columns = 'resource_type' )['capacity_gwh'].plot(kind = \"bar\", stacked = True, legend=True, ylabel = \"Total Capacity (GWh)\",xlabel = \"scenario\", title = title_str).legend(bbox_to_anchor= (1,1))\n",
    "    locs, labels = plt.xticks()\n",
    "    plt.setp(labels, rotation=70)\n",
    "    plt.savefig('./' + dir_name + \"/Comp Battery Cap.png\", dpi=300, bbox_inches='tight')\n",
    "    \n",
    "def fig_comp_storage(power_gen_list,title_str):\n",
    "    \n",
    "    pd.concat(power_gen_list).query(\"resource_type == 'battery' | resource_type == 'PHS'\").pivot(index = 'scenario', columns = 'resource_type' )['generation_twh'].plot(kind = \"bar\", stacked = True, legend=True, ylabel = \"Total Discharge (TWh)\",xlabel = \"scenario\", title = title_str).legend(bbox_to_anchor= (1,1))\n",
    "    locs, labels = plt.xticks()\n",
    "    plt.setp(labels, rotation=70)\n",
    "    plt.savefig('./' + dir_name + \"/Comp Storage.png\", dpi=300, bbox_inches='tight')\n",
    "    \n",
    "def fig_comp_storage_cap(power_gen_list,title_str):\n",
    "    \n",
    "    pd.concat(power_gen_list).query(\"resource_type == 'battery' | resource_type == 'PHS'\").pivot(index = 'scenario', columns = 'resource_type' )['capacity_gwh'].plot(kind = \"bar\", stacked = True, legend=True, ylabel = \"Total Capacity (GWh)\",xlabel = \"scenario\", title = title_str).legend(bbox_to_anchor= (1,1))\n",
    "    locs, labels = plt.xticks()\n",
    "    plt.setp(labels, rotation=70)\n",
    "    plt.savefig('./' + dir_name + \"/Comp Storage Cap.png\", dpi=300, bbox_inches='tight')"
   ],
   "outputs": [],
   "execution_count": 20
  },
  {
   "cell_type": "code",
   "metadata": {
    "ExecuteTime": {
     "end_time": "2024-06-27T03:06:37.150269Z",
     "start_time": "2024-06-27T03:06:37.148091Z"
    }
   },
   "source": [
    "def fig_comp_h2_storage_cap(h2_stor_list,title_str):\n",
    "    \n",
    "    pd.concat(h2_stor_list).pivot(index = 'scenario', columns = 'Resource' )['EndEnergyCap'].plot(kind = \"bar\", stacked = True, color = [\"pink\", \"deeppink\"], legend=False, ylabel = \"H2 Storage (Tonnes)\", xlabel = \"scenario\", title = title_str).legend(bbox_to_anchor= (1,1))\n",
    "    locs, labels = plt.xticks()\n",
    "    plt.setp(labels, rotation=70)\n",
    "    plt.savefig('./' + dir_name + \"/Comp H2 Storage.png\", dpi=300, bbox_inches='tight')"
   ],
   "outputs": [],
   "execution_count": 21
  },
  {
   "cell_type": "code",
   "metadata": {
    "ExecuteTime": {
     "end_time": "2024-06-27T03:06:37.187791Z",
     "start_time": "2024-06-27T03:06:37.185730Z"
    }
   },
   "source": [
    "def fig_comp_pipe_cap(h2_pipe_list,title_str):\n",
    "    \n",
    "    pd.concat(h2_pipe_list).pivot(index = 'scenario', columns = 'Line' )['New_Trans_Capacity'].plot(kind = \"bar\", stacked = True, legend=False, ylabel = \"Total Capacity (tonnes/hr)\",xlabel = \"scenario\", title = title_str)\n",
    "    locs, labels = plt.xticks()\n",
    "    plt.setp(labels, rotation=70)\n",
    "    plt.savefig('./' + dir_name + \"/Comp Pipe Cap.png\", dpi=300, bbox_inches='tight')"
   ],
   "outputs": [],
   "execution_count": 22
  },
  {
   "cell_type": "code",
   "metadata": {
    "ExecuteTime": {
     "end_time": "2024-06-27T03:06:37.246799Z",
     "start_time": "2024-06-27T03:06:37.240473Z"
    }
   },
   "source": [
    "def fig_comp_stor_h2_bat(power_gen_list, h2_stor_list, h2_prod_list):\n",
    "     bat_gen_list = pd.concat(power_gen_list).query(\"resource_type == ['Battery','Battery_PPA']\")\n",
    "     h2_stor_list = pd.concat(h2_stor_list)\n",
    "     h2_prod_list = pd.concat(h2_prod_list)\n",
    "\n",
    "     #h2_stor_list['cap']=h2_stor_list['EndEnergyCap']\n",
    "     h2_stor_list['type']=h2_stor_list['Resource']\n",
    "     h2_stor_list = h2_stor_list.merge(h2_prod_list, on='scenario', how='left')\n",
    "     # H2 storage capacity reported in hours of rated H2 demand\n",
    "     h2_stor_list['cap_hours_H2_demand']=h2_stor_list['EndEnergyCap']/(h2_stor_list['h2_prod']*1000/8760)\n",
    "\n",
    "     bat_gen_list['type']=bat_gen_list['resource_type']\n",
    "     bat_gen_merge = bat_gen_list.merge(h2_prod_list, on='scenario', how='left')\n",
    "     # Report Battery storage in hours of rated H2 demand based on power consumption of 54.3 MWh/tonne\n",
    "     bat_gen_merge[\"cap_hours_H2_demand\"] = bat_gen_merge['capacity_gwh'] *1000/(54.3*bat_gen_merge['h2_prod']*1000/8760)\n",
    "     bat_gen_merge.drop(bat_gen_merge.loc[bat_gen_merge['scenario']=='S0: Stochastic no H2'].index, inplace=True)\n",
    "\n",
    "     #   all_storage = pd.concat([bat_gen_list, h2_stor_list])\n",
    "     #   all_storage.to_csv('all_storage.csv')\n",
    "     print(h2_stor_list)\n",
    "     h2_stor_list.to_csv('H2_storage_cap.csv')\n",
    "     h2_stor_list.pivot(index = 'scenario', columns = 'type' )['cap_hours_H2_demand'].plot(kind = \"bar\", stacked = True, legend=False, color=[\"pink\", \"violet\", \"skyblue\"],  \n",
    "     ylabel = \"Total Capacity (hours of H2 demand)\",xlabel = \"scenario\", title=\"H2 storage capacity\")\n",
    "     locs, labels = plt.xticks()\n",
    "     plt.setp(labels, rotation=90)\n",
    "     plt.grid(axis = 'y')\n",
    "     plt.savefig(dir_name + \"/Comp H2 Storage.png\", dpi=300, bbox_inches='tight')\n",
    "     plt.ylim(0,140)\n",
    "\n",
    "     print(bat_gen_merge)\n",
    "     bat_gen_merge.to_csv('Battery_storage_cap.csv')\n",
    "     bat_gen_merge.pivot(index = 'scenario', columns = 'type' )['cap_hours_H2_demand'].plot(kind = \"bar\", stacked = True, legend=True, color=[\"pink\", \"violet\", \"skyblue\"],\n",
    "          ylabel = \"Total Capacity (hours of H2 demand)\",xlabel = \"scenario\",title=\"Battery energy capacity\")\n",
    "     locs, labels = plt.xticks()\n",
    "     plt.legend(loc='upper left')\n",
    "     plt.setp(labels, rotation=90)\n",
    "     plt.grid(axis = 'y')\n",
    "     plt.savefig(dir_name + \"/Comp Bat Storage.png\", dpi=300, bbox_inches='tight')\n",
    "     plt.ylim(0,140)\n",
    "\n",
    "     #################################################################\n",
    "     h2_bat_list = pd.concat([bat_gen_merge, h2_stor_list])\n",
    "     \n",
    "     fig = plt.figure(figsize = (4,10))\n",
    "     \n",
    "     ax1 = fig.add_subplot(111)\n",
    "     ax2 = ax1.twiny()\n",
    "\n",
    "     width=0.4\n",
    "\n",
    "     bat_gen_merge.pivot(index = 'scenario', columns = 'type' )['cap_hours_H2_demand'].plot(kind = \"barh\", stacked = True, legend=False, color=[\"pink\", \"violet\", \"skyblue\"],\n",
    "          xlabel = \"Total Capacity (hours of H2 demand)\",title=\"Energy storage capacity by technology\", ax=ax1, width=width, position = 1, xlim =(0,150)) #\n",
    "     h2_stor_list.pivot(index = 'scenario', columns = 'type' )['cap_hours_H2_demand'].plot(kind = \"barh\", stacked = False, legend=False, color=[\"skyblue\"],  position = 0,\n",
    "          ax=ax2,  width=width, xlim = (0,20))\n",
    "     plt.ylim(-.7,10.6)\n",
    "     plt.setp(labels, rotation=90)\n",
    "     plt.grid(axis = 'x')\n",
    "    \n",
    "     plt.show()\n",
    "\n",
    "     #plt.savefig(dir_name + \"/Remaining Data.png\", dpi=300, bbox_inches='tight')\n",
    "     h2_bat_list.pivot(index = 'scenario', columns = 'type' )['cap_hours_H2_demand'].plot(kind = \"barh\", stacked =False, color=[\"pink\", \"violet\", \"skyblue\"],\n",
    "         ylabel = \"Total Capacity (hours of H2 demand)\",xlabel = \"scenario\",title=\"Energy capacity\")\n",
    "    # plt.legend()\n",
    "    #h2_bat_list.pivot(index = 'scenario', columns = 'type' )['cap_hours_H2_demand'].plot(kind = \"bar\", stacked = True, legend=True, color=[\"pink\", \"violet\", \"skyblue\"],\n",
    "    #     ylabel = \"Total Capacity (hours of H2 demand)\",xlabel = \"scenario\",title=\"Battery energy capacity\")\n",
    "    "
   ],
   "outputs": [],
   "execution_count": 23
  },
  {
   "cell_type": "markdown",
   "metadata": {},
   "source": [
    "Plot H2 storage and Export H2 storage values as CSV"
   ]
  },
  {
   "cell_type": "code",
   "metadata": {
    "ExecuteTime": {
     "end_time": "2024-06-27T03:06:37.269649Z",
     "start_time": "2024-06-27T03:06:37.268253Z"
    }
   },
   "source": [],
   "outputs": [],
   "execution_count": 23
  },
  {
   "cell_type": "markdown",
   "metadata": {},
   "source": [
    "Plot Battery storage and export Battery storage values as CSV"
   ]
  },
  {
   "cell_type": "code",
   "metadata": {
    "ExecuteTime": {
     "end_time": "2024-06-27T03:06:37.313833Z",
     "start_time": "2024-06-27T03:06:37.312572Z"
    }
   },
   "source": [],
   "outputs": [],
   "execution_count": 23
  },
  {
   "cell_type": "code",
   "metadata": {
    "ExecuteTime": {
     "end_time": "2024-06-27T03:06:37.347081Z",
     "start_time": "2024-06-27T03:06:37.341455Z"
    }
   },
   "source": [
    "def fig_comp_all_storage(power_gen_list, h2_stor_list, h2_pipe_list, line_list, title_str):\n",
    "    bat_gen_list = pd.concat(power_gen_list).query(\"resource_type == 'battery'\")\n",
    "    h2_stor_list = pd.concat(h2_stor_list)\n",
    "    h2_pipe_list = pd.concat(h2_pipe_list)\n",
    "    line_list = pd.concat(line_list)\n",
    "    \n",
    "    bat_gen_list['cap']=bat_gen_list['capacity_gwh']*10\n",
    "    bat_gen_list['type']=bat_gen_list['resource_type']\n",
    "    h2_stor_list['cap']=h2_stor_list['EndEnergyCap']\n",
    "    h2_stor_list['type']=h2_stor_list['Resource']\n",
    "    h2_pipe_list['cap']=h2_pipe_list['New_Trans_Capacity']\n",
    "    h2_pipe_list['type']='pipelines'\n",
    "    line_list['cap']=line_list['New_Trans_Capacity']*100 # ERROR IN OUTPUTS CONVERSION, this is now in 10-MW\n",
    "    line_list['type']='transmission'\n",
    "    \n",
    "    all_storage = pd.concat([bat_gen_list, h2_stor_list, h2_pipe_list, line_list])\n",
    "    all_storage.pivot(index = 'scenario', columns = 'type' )['cap'].plot(kind = \"bar\", stacked = True, legend=True, color=[\"pink\", \"deeppink\", \"violet\", \"skyblue\", \"cornflowerblue\"], ylabel = \"Total Capacity (tons/ tons/hr / 100-MWh/ 10-MW)\",xlabel = \"scenario\", title = title_str)\n",
    "    locs, labels = plt.xticks()\n",
    "    plt.setp(labels, rotation=70)\n",
    "    plt.savefig('./' + dir_name + \"/Comp All Storage.png\", dpi=300, bbox_inches='tight')\n",
    "    \n",
    "def fig_comp_all_storage_to_base(power_gen_list, h2_stor_list, h2_pipe_list, line_list, REF_scenario, fig_title, plt_lim = None):\n",
    "    # PREPARE DATA\n",
    "    bat_gen_list = pd.concat(power_gen_list).query(\"resource_type == 'battery'\")\n",
    "    h2_stor_list = pd.concat(h2_stor_list)\n",
    "    h2_pipe_list = pd.concat(h2_pipe_list)\n",
    "    line_list = pd.concat(line_list)\n",
    "    bat_gen_list['cap']=bat_gen_list['capacity_gwh']*10\n",
    "    bat_gen_list['type']=bat_gen_list['resource_type']\n",
    "    h2_stor_list['cap']=h2_stor_list['EndEnergyCap']\n",
    "    h2_stor_list['type']=h2_stor_list['Resource']\n",
    "    h2_pipe_list['cap']=h2_pipe_list['New_Trans_Capacity']\n",
    "    h2_pipe_list['type']='pipelines'\n",
    "    line_list['cap']=line_list['New_Trans_Capacity']*100 # ERROR IN OUTPUTS CONVERSION, this is now in 10-MW\n",
    "    line_list['type']='transmission'\n",
    "    \n",
    "    all_storage = pd.concat([bat_gen_list, h2_stor_list, h2_pipe_list, line_list])\n",
    "    all_storage = all_storage[['type', 'cap', 'scenario']] \n",
    "    base_scenario = all_storage.query(\"scenario == @REF_scenario\")\n",
    "    all_storage = all_storage.query(\"scenario != @REF_scenario\")\n",
    "    \n",
    "    # CREATE CHART\n",
    "    comp_stor_df = all_storage.merge(base_scenario, left_on = \"type\", right_on = \"type\", how = \"left\")\n",
    "    comp_stor_df = comp_stor_df.assign(diff = comp_stor_df[\"cap_x\"] - comp_stor_df[\"cap_y\"])\n",
    "    comp_stor_df.pivot(index = 'scenario_x', columns = 'type' )['diff'].plot(kind = \"bar\", stacked = True, legend=True, xlabel = 'scenario', ylabel = \"Change in Storage (tons/ tons/hr / 100-MWh/ 10-MW)\", title = fig_title, color=[\"pink\", \"deeppink\", \"violet\", \"skyblue\", \"cornflowerblue\"]).legend(bbox_to_anchor= (1,1))\n",
    "    plt.axhline(y=0, color='black', linestyle='-')\n",
    "    locs, labels = plt.xticks()\n",
    "    plt.setp(labels, rotation = 70)\n",
    "    ax = plt.gca()\n",
    "    \n",
    "    if plt_lim is not None:\n",
    "        plt.ylim(plt_lim)\n",
    "        \n",
    "    plt.savefig('./' + dir_name + \"/Comp All Stor-Base.png\", dpi=300, bbox_inches='tight')"
   ],
   "outputs": [],
   "execution_count": 24
  },
  {
   "cell_type": "markdown",
   "metadata": {},
   "source": [
    "In[105]:"
   ]
  },
  {
   "cell_type": "code",
   "metadata": {
    "ExecuteTime": {
     "end_time": "2024-06-27T03:06:37.391565Z",
     "start_time": "2024-06-27T03:06:37.389276Z"
    }
   },
   "source": [
    "def fig_comp_cost(costs_df, title_str):\n",
    "    costs_df.assign(curr_cost = costs_df[\"curr_cost\"] * 0.001).plot(kind = \"bar\", color = [\"orange\", \"cornflowerblue\"], legend = False, ylabel = \"Total System Cost (B EUR)\", xlabel = \"scenario\", title = title_str)\n",
    "    locs, labels = plt.xticks()\n",
    "    plt.setp(labels, rotation=70)\n",
    "    \n",
    "    plt.savefig('./' + dir_name + \"/Comp Costs.png\", dpi=300, bbox_inches='tight')"
   ],
   "outputs": [],
   "execution_count": 25
  },
  {
   "cell_type": "markdown",
   "metadata": {},
   "source": [
    "In[106]:"
   ]
  },
  {
   "cell_type": "code",
   "metadata": {
    "ExecuteTime": {
     "end_time": "2024-06-27T03:06:37.445993Z",
     "start_time": "2024-06-27T03:06:37.443812Z"
    }
   },
   "source": [
    "def fig_emissions_sector(emissions_df):\n",
    "    emissions_df.plot(kind = \"bar\", color = [\"orange\", \"cornflowerblue\"], ylabel = \"Sector Emissions (MTonnes)\", xlabel = \"scenario\", title = \"Emissions by Sector\")\n",
    "    plt.axhline(y=0, color='black', linestyle='-')\n",
    "    locs, labels = plt.xticks()\n",
    "    plt.setp(labels, rotation=70)\n",
    "    \n",
    "    plt.savefig('./' + dir_name + \"/Emissions.png\", dpi=300, bbox_inches='tight')"
   ],
   "outputs": [],
   "execution_count": 26
  },
  {
   "cell_type": "markdown",
   "metadata": {},
   "source": [
    "In[107]:"
   ]
  },
  {
   "cell_type": "code",
   "metadata": {
    "ExecuteTime": {
     "end_time": "2024-06-27T03:06:37.514592Z",
     "start_time": "2024-06-27T03:06:37.511852Z"
    }
   },
   "source": [
    "def fig_comp_capacity(power_cap_list, title_str, max_load_gw, bat):\n",
    "    power_cap_list = pd.concat(power_cap_list).query(\"resource_type != 'battery' & resource_type != 'PHS'\")\n",
    "  \n",
    "    df1 =power_cap_list.pivot(index = 'scenario', columns = 'resource_type' )['capacity_gw']\n",
    "    \n",
    "    # All columns with zero data\n",
    "    df1.fillna(0,inplace=True)\n",
    "    ColstoDrop = df1.columns[(df1 == 0).all()].tolist()\n",
    "    \n",
    "    df1.drop(ColstoDrop,axis=1).plot(color = getColorbyGenType(df1.drop(ColstoDrop,axis=1).columns.tolist()), kind = \"barh\", title = title_str, \n",
    "             stacked = True, legend=False, xlabel = \"scenario\").legend(bbox_to_anchor= (1,1))\n",
    "\n",
    "    # power_cap_list.pivot(index = 'scenario', columns = 'resource_type' )['capacity_gw'].plot(\n",
    "        # color = colors, kind = \"barh\", title = title_str, stacked = True, legend=False, xlabel = \"scenario\").legend(bbox_to_anchor= (1,1))\n",
    "    locs, labels = plt.xticks()\n",
    "    #plt.setp(labels, rotation=90)\n",
    "    ax = plt.gca()\n",
    "    ax.set_xlabel(\"Capacity (GW)\")\n",
    "    #plt.axhline(y=max_load_gw, color='black', linestyle='-', label = \"Max Endogeneous Elec Load\")\n",
    "    plt.legend(bbox_to_anchor= (1,1))\n",
    "    plt.savefig(dir_name + \"/Comp Cap.png\", dpi=300, bbox_inches='tight')"
   ],
   "outputs": [],
   "execution_count": 27
  },
  {
   "cell_type": "markdown",
   "metadata": {},
   "source": [
    "In[111]:<br>\n",
    "Difference in power generation relative to baseline scenario"
   ]
  },
  {
   "cell_type": "code",
   "metadata": {
    "ExecuteTime": {
     "end_time": "2024-06-27T03:06:37.540953Z",
     "start_time": "2024-06-27T03:06:37.534929Z"
    }
   },
   "source": [
    "def fig_comp_power_cap_to_base(power_cap_list, fig_title, bat, plt_lim = None):\n",
    "    base_power_cap_df = power_cap_list[0] # hardcoded to be the baseline scenario\n",
    "    comp_power_cap_df = pd.concat(power_cap_list[1:]).merge(base_power_cap_df, left_on = \"resource_type\", right_on = \"resource_type\", how = \"left\")\n",
    "    comp_power_cap_df = comp_power_cap_df.query(\"resource_type != 'battery' & resource_type != 'PHS'\")\n",
    "    comp_power_cap_df = comp_power_cap_df.assign(diff = (comp_power_cap_df[\"capacity_gw_x\"] - comp_power_cap_df[\"capacity_gw_y\"]))\n",
    "    \n",
    "    df1 = comp_power_cap_df.pivot(index = 'scenario_x', columns = 'resource_type' )['diff']\n",
    "\n",
    "    # All columns with zero data\n",
    "    df1.fillna(0,inplace=True)\n",
    "    ColstoDrop = df1.columns[(df1 == 0).all()].tolist()\n",
    "    \n",
    "    \n",
    "    plt.figure(figsize = (4,10))\n",
    "    df1.drop(ColstoDrop,axis=1).plot(kind = \"barh\", stacked = True, legend=True, xlabel = \"scenario\", title = fig_title, \n",
    "             color = getColorbyGenType(df1.drop(ColstoDrop,axis=1).columns.tolist()), figsize = (4,10)).legend(bbox_to_anchor= (1,1))\n",
    "       \n",
    "    # comp_power_cap_df.pivot(index = 'scenario_x', columns = 'resource_type' )['diff'].plot(kind = \"barh\", stacked = True, legend=True, xlabel = \"scenario\", title = fig_title, \n",
    "                    # color = colors).legend(bbox_to_anchor= (1,1))\n",
    "\n",
    "    plt.axvline(x=0, color='black', linestyle='-')\n",
    "    plt.grid(axis = 'x')\n",
    "    locs, labels = plt.xticks()\n",
    "    #plt.setp(labels, rotation = 90)\n",
    "    ax = plt.gca()\n",
    "    ax.set_xlabel(\"Change in Power Capacity (GW)\")\n",
    "    \n",
    "    if plt_lim is not None:\n",
    "        plt.ylim(plt_lim)\n",
    "    \n",
    "    plt.savefig(dir_name + \"/Comp Power Cap.png\", dpi=300, bbox_inches='tight')\n",
    "    #plt.rcParams.update({'font.size': 20})\n",
    "    #handles, labels = ax.get_legend_handles_labels()\n",
    "    #ax.legend(labels[::-1])\n",
    "\n",
    "#updated so that consequential emissions is measured relative to the unique no H2 scenario for each VRE year\n",
    "def fig_comp_power_cap_to_base_updated(power_cap_list, power_cap_list_no_H2, fig_title, bat, plt_lim = None):\n",
    "    base_power_cap_df = power_cap_list_no_H2 # hardcoded to be the baseline scenario\n",
    "\n",
    "    df_list = []\n",
    "    for i in range(len(power_cap_list)):\n",
    "        comp_power_cap_df = power_cap_list[i].merge(base_power_cap_df[i], left_on = \"resource_type\", right_on = \"resource_type\", how = \"left\")\n",
    "        comp_power_cap_df = comp_power_cap_df.query(\"resource_type != 'battery' & resource_type != 'PHS'\")\n",
    "        comp_power_cap_df = comp_power_cap_df.assign(diff = (comp_power_cap_df[\"capacity_gw_x\"] - comp_power_cap_df[\"capacity_gw_y\"]))\n",
    "        df_list.append(comp_power_cap_df)\n",
    "\n",
    "    df1 = pd.concat(df_list).pivot(index = 'scenario_x', columns = 'resource_type' )['diff']\n",
    "    #df1 = comp_power_cap_df.pivot(index = 'scenario_x', columns = 'resource_type' )['diff']\n",
    "\n",
    "    # All columns with zero data\n",
    "    df1.fillna(0,inplace=True)\n",
    "    ColstoDrop = df1.columns[(df1 == 0).all()].tolist()\n",
    "    \n",
    "    \n",
    "    plt.figure(figsize = (4,10))\n",
    "    df1.drop(ColstoDrop,axis=1).plot(kind = \"barh\", stacked = True, legend=True, xlabel = \"scenario\", title = fig_title, \n",
    "             color = getColorbyGenType(df1.drop(ColstoDrop,axis=1).columns.tolist()), figsize = (4,10)).legend(bbox_to_anchor= (1,1))\n",
    "       \n",
    "    # comp_power_cap_df.pivot(index = 'scenario_x', columns = 'resource_type' )['diff'].plot(kind = \"barh\", stacked = True, legend=True, xlabel = \"scenario\", title = fig_title, \n",
    "                    # color = colors).legend(bbox_to_anchor= (1,1))\n",
    "\n",
    "    plt.axvline(x=0, color='black', linestyle='-')\n",
    "    plt.grid(axis = 'x')\n",
    "    locs, labels = plt.xticks()\n",
    "    #plt.setp(labels, rotation = 90)\n",
    "    ax = plt.gca()\n",
    "    ax.set_xlabel(\"Change in Power Capacity (GW)\")\n",
    "    \n",
    "    if plt_lim is not None:\n",
    "        plt.ylim(plt_lim)\n",
    "    \n",
    "    plt.savefig(dir_name + \"/Comp Power Cap.png\", dpi=300, bbox_inches='tight')\n",
    "    #plt.rcParams.update({'font.size': 20})\n",
    "    #handles, labels = ax.get_legend_handles_labels()\n",
    "    #ax.legend(labels[::-1])"
   ],
   "outputs": [],
   "execution_count": 28
  },
  {
   "cell_type": "code",
   "metadata": {
    "ExecuteTime": {
     "end_time": "2024-06-27T03:06:37.574636Z",
     "start_time": "2024-06-27T03:06:37.571895Z"
    }
   },
   "source": [
    "def fig_comp_generation(power_gen_list, title_str, bat):\n",
    "    \n",
    "    curr_df = pd.concat(power_gen_list).query(\"resource_type != 'Battery' & resource_type != 'PHS'\")\n",
    "    print(curr_df)\n",
    "    curr_df[\"generation_ej\"] = curr_df['generation_twh']\n",
    "    \n",
    "    curr_df = curr_df.pivot(index = 'scenario', columns = 'resource_type' )['generation_ej']\n",
    "    \n",
    "    # All columns with zero data\n",
    "    curr_df.fillna(0,inplace=True)\n",
    "    ColstoDrop = curr_df.columns[(curr_df == 0).all()].tolist()\n",
    "    curr_plt = curr_df.drop(ColstoDrop,axis=1).plot(kind = \"barh\", stacked = True, legend=True, xlabel = \"scenario\", title = title_str, \n",
    "                            color = getColorbyGenType(curr_df.drop(ColstoDrop,axis=1).columns.tolist())).legend(bbox_to_anchor= (1,1))\n",
    "    locs, labels = plt.xticks()\n",
    "    #plt.setp(labels, rotation=90)\n",
    "    ax = plt.gca()\n",
    "    ax.set_xlabel(\"Total Generation (TWh)\")\n",
    "    \n",
    "    plt.savefig(dir_name + \"/Comp Generation.png\", dpi=300, bbox_inches='tight')"
   ],
   "outputs": [],
   "execution_count": 29
  },
  {
   "cell_type": "code",
   "metadata": {
    "ExecuteTime": {
     "end_time": "2024-06-27T03:06:37.635264Z",
     "start_time": "2024-06-27T03:06:37.629824Z"
    }
   },
   "source": [
    "def fig_comp_power_gen_to_base(power_gen_list, fig_title, bat, plt_lim = None):\n",
    "   base_power_gen_df = power_gen_list[0].query(\"resource_type != 'Battery' & resource_type != 'PHS'\")\n",
    "   comp_power_gen_df = pd.concat(power_gen_list[1:]).query(\"resource_type != 'Battery' & resource_type != 'PHS'\").merge(base_power_gen_df, left_on = \"resource_type\", right_on = \"resource_type\", how = \"left\")\n",
    "   comp_power_gen_df = comp_power_gen_df.assign(diff = (comp_power_gen_df[\"generation_twh_x\"] - comp_power_gen_df[\"generation_twh_y\"]))#.query(\"resource_type != 'PHS'& resource_type != 'Battery'\")\n",
    "   \n",
    "   df1 =comp_power_gen_df.pivot(index = 'scenario_x', columns = 'resource_type' )['diff']\n",
    "   \n",
    "    # All columns with zero data\n",
    "   df1.fillna(0,inplace=True)\n",
    "   ColstoDrop = df1.columns[(df1 == 0).all()].tolist()\n",
    "     \n",
    "   df1.drop(ColstoDrop,axis=1).plot(kind = \"barh\", stacked = True, legend=True, xlabel = \"scenario\", title = fig_title, \n",
    "                           color = getColorbyGenType(df1.drop(ColstoDrop,axis=1).columns.tolist())).legend(bbox_to_anchor= (1,1))\n",
    "   plt.axvline(x=0, color='black', linestyle='-')\n",
    "   plt.grid(axis = 'x')\n",
    "   locs, labels = plt.xticks()\n",
    "   if plt_lim is not None:\n",
    "       plt.ylim(plt_lim)\n",
    "   #plt.ylim([-175,175])\n",
    "   ax = plt.gca()\n",
    "   ax.set_xlabel(\"Change in Power Generation (TWh)\")\n",
    "   ax.set_xlim([-0.4,0.6])\n",
    "   ax.xaxis.set_ticks(np.arange(-100, 180, 20))\n",
    "   \n",
    "   plt.savefig(dir_name + \"/Comp Power Gen.png\", dpi=300, bbox_inches='tight')\n",
    "   \n",
    "def fig_comp_power_gen_to_base_updated(power_gen_list, power_gen_list_no_H2, fig_title, bat, plt_lim = None):\n",
    "   \n",
    "    base_power_gen_df = power_gen_list_no_H2\n",
    "   \n",
    "    df_list = []\n",
    "    for i in range(len(power_gen_list)):\n",
    "        comp_power_gen_df = power_gen_list[i].merge(base_power_gen_df[i], left_on = \"resource_type\", right_on = \"resource_type\", how = \"left\")\n",
    "        comp_power_gen_df = comp_power_gen_df.query(\"resource_type != 'Battery' & resource_type != 'Battery_PPA' & resource_type != 'PHS'\")\n",
    "        comp_power_gen_df = comp_power_gen_df.assign(diff = (comp_power_gen_df[\"generation_twh_x\"] - comp_power_gen_df[\"generation_twh_y\"]))#.query(\"resource_type != 'PHS'& resource_type != 'Battery'\")\n",
    "        df_list.append(comp_power_gen_df)\n",
    "    \n",
    "    df1 = pd.concat(df_list).pivot(index = 'scenario_x', columns = 'resource_type' )['diff']\n",
    "   \n",
    "    # All columns with zero data\n",
    "    df1.fillna(0,inplace=True)\n",
    "    ColstoDrop = df1.columns[(df1 == 0).all()].tolist()\n",
    "     \n",
    "    df1.drop(ColstoDrop,axis=1).plot(kind = \"barh\", stacked = True, legend=True, xlabel = \"scenario\", title = fig_title, \n",
    "                           color = getColorbyGenType(df1.drop(ColstoDrop,axis=1).columns.tolist())).legend(bbox_to_anchor= (1,1))\n",
    "    plt.axvline(x=0, color='black', linestyle='-')\n",
    "    plt.grid(axis = 'x')\n",
    "    locs, labels = plt.xticks()\n",
    "    if plt_lim is not None:\n",
    "        plt.ylim(plt_lim)\n",
    "    #plt.ylim([-175,175])\n",
    "    ax = plt.gca()\n",
    "    ax.set_xlabel(\"Change in Power Generation (TWh)\")\n",
    "   # ax.set_xlim([-0.4,0.6])\n",
    "   # ax.xaxis.set_ticks(np.arange(-100, 180, 20))\n",
    "   \n",
    "    plt.savefig(dir_name + \"/Comp Power Gen.png\", dpi=300, bbox_inches='tight')"
   ],
   "outputs": [],
   "execution_count": 30
  },
  {
   "cell_type": "markdown",
   "metadata": {},
   "source": [
    "In[108]:"
   ]
  },
  {
   "cell_type": "code",
   "metadata": {
    "ExecuteTime": {
     "end_time": "2024-06-27T03:06:37.680027Z",
     "start_time": "2024-06-27T03:06:37.677523Z"
    }
   },
   "source": [
    "def fig_comp_h2_cap(h2_cap_list, title_str):    \n",
    "    pd.concat(h2_cap_list).pivot(index = 'scenario', columns = 'resource_type' )['EndCap'].plot(kind = \"barh\", stacked = True, legend=True, figsize = (4,10), ylabel = \"\", title = title_str, xlabel = \"Electrolyzer Capacity (tonnes/hr)\",  color = [\"lightsteelblue\", \"green\", \"grey\", \"deepskyblue\"]).legend(bbox_to_anchor= (1,1))\n",
    "    locs, labels = plt.xticks()\n",
    "    plt.grid(axis = 'x')\n",
    "    #plt.setp(labels, rotation=90)\n",
    "    plt.axvline(x=18.412, color='black', linestyle='--', label = \"no_H2 H2 Demand\")\n",
    "    plt.savefig(dir_name + \"/Comp H2 Cap.png\", dpi=300, bbox_inches='tight')"
   ],
   "outputs": [],
   "execution_count": 31
  },
  {
   "cell_type": "markdown",
   "metadata": {},
   "source": [
    "In[109]:"
   ]
  },
  {
   "cell_type": "code",
   "metadata": {
    "ExecuteTime": {
     "end_time": "2024-06-27T03:06:37.705144Z",
     "start_time": "2024-06-27T03:06:37.702852Z"
    }
   },
   "source": [
    "def add_value_label(x_list,y_list):\n",
    "        for i in range(0, len(x_list)):\n",
    "            plt.text(i,y_list[i],np.round(y_list[i], 1), ha=\"center\")\n",
    "            \n",
    "def add_value_label_v2(x_list,y_list):\n",
    "        for i in range(0, len(x_list)):\n",
    "            plt.text(i/2,y_list[i],np.round(y_list[i], 1), ha=\"center\")"
   ],
   "outputs": [],
   "execution_count": 32
  },
  {
   "cell_type": "code",
   "metadata": {
    "ExecuteTime": {
     "end_time": "2024-06-27T03:06:37.771828Z",
     "start_time": "2024-06-27T03:06:37.767694Z"
    }
   },
   "source": [
    "def fig_comp_EZ_CF(h2_prod_list, h2_cap_list, title_str):\n",
    "    h2_list = pd.concat(h2_prod_list).merge(pd.concat(h2_cap_list), on='scenario')\n",
    "    # IMPORTANT: Hard-coded electrolyzer availability factor of 95%.\n",
    "    h2_list['EZ_CF']=h2_list['h2_prod']*1000/(h2_list['EndCap']*8760*0.95)*100\n",
    "    h2_list = h2_list.set_index('scenario').sort_index()\n",
    "    h2_list['EZ_CF'].plot(kind = \"bar\", legend=False, ylabel = \"H2 Electrolyzer CF (%)\", title = title_str, xlabel = \"\",  color = [\"lightsteelblue\"])\n",
    "    add_value_label(h2_list.index, h2_list['EZ_CF'])\n",
    "    ax = plt.gca()\n",
    "    labels = ax.get_xticklabels()\n",
    "    plt.setp(labels, rotation=90)\n",
    "    plt.grid(axis = 'y')\n",
    "    plt.savefig(dir_name + \"/Comp_electrolyzer_CF.png\", dpi=300, bbox_inches='tight')\n",
    "    \n",
    "def fig_comp_solar_CF(power_gen_list, power_cap_list, title_str):\n",
    "    power_list = pd.concat(power_gen_list).merge(pd.concat(power_cap_list), on=['scenario', 'resource_type'])\n",
    "    VRE = ['Solar', 'Solar_PPA', 'Wind', 'Wind_PPA']\n",
    "    power_list = power_list.query('resource_type in @VRE')\n",
    "    power_list = power_list.replace({\"resource_type\": {'Solar_PPA':'Solar', 'Wind_PPA':'Wind'}})\n",
    "    power_list = power_list.groupby(['scenario', 'resource_type'], as_index=False).sum()\n",
    "    power_list['CF']=power_list['gen']/(power_list['EndCap']*8760)*100    \n",
    "    power_list.pivot(index = 'scenario', columns = 'resource_type')['CF'].plot(kind = \"bar\", legend=False, ylabel = \"Capacity Factor (%)\", title = title_str, xlabel = \"\",  color = [\"Gold\", \"Blue\"])\n",
    "    add_value_label_v2(power_list.index, power_list['CF'])\n",
    "    locs, labels = plt.xticks()\n",
    "    plt.setp(labels, rotation=90)\n",
    "    plt.grid(axis = 'y')\n",
    "    plt.savefig('./' + dir_name + \"/Comp VRE CF.png\", dpi=300, bbox_inches='tight')"
   ],
   "outputs": [],
   "execution_count": 33
  },
  {
   "cell_type": "markdown",
   "metadata": {},
   "source": [
    "In[110]:"
   ]
  },
  {
   "cell_type": "markdown",
   "metadata": {},
   "source": [
    "ost Sensitivity Figure"
   ]
  },
  {
   "cell_type": "code",
   "metadata": {
    "ExecuteTime": {
     "end_time": "2024-06-27T03:06:37.795762Z",
     "start_time": "2024-06-27T03:06:37.793549Z"
    }
   },
   "source": [
    "def fig_var_sen(df, title, var, ylab, ylim = None, ymult = 1):\n",
    "    x = df.sen_factor\n",
    "    y = df[var]\n",
    "    df = pd.DataFrame({'sensitivity':x, 'var':y})\n",
    "    fig = plt.figure()\n",
    "    ax1 = fig.add_subplot(111)\n",
    "    ax1.set_ylabel(ylab)\n",
    "    ax1.set_xlabel('DAC Cost Multiplier')\n",
    "    ax1.set_title(title)\n",
    "    line, = ax1.plot(x, y * ymult)\n",
    "    \n",
    "    if ylim is not None:\n",
    "        ax1.set_ylim(ylim)\n",
    "    \n",
    "    return fig"
   ],
   "outputs": [],
   "execution_count": 34
  },
  {
   "cell_type": "markdown",
   "metadata": {},
   "source": [
    "In[112]:"
   ]
  },
  {
   "cell_type": "code",
   "metadata": {
    "ExecuteTime": {
     "end_time": "2024-06-27T03:06:37.852900Z",
     "start_time": "2024-06-27T03:06:37.850086Z"
    }
   },
   "source": [
    "def fig_comp_h2_cap_to_base(h2_cap_list, fig_title, plt_lim = None):\n",
    "    base_h2_cap_df = h2_cap_list[0]\n",
    "    comp_h2_cap_df = pd.concat(h2_cap_list[1:]).merge(base_h2_cap_df, left_on = \"resource_type\", right_on = \"resource_type\", how = \"left\")\n",
    "    comp_h2_cap_df = comp_h2_cap_df.assign(diff = comp_h2_cap_df[\"EndCap_x\"] - comp_h2_cap_df[\"EndCap_y\"])\n",
    "    comp_h2_cap_df.pivot(index = 'scenario_x', columns = 'resource_type' )['diff'].plot(kind = \"bar\", stacked = True, legend=True, xlabel = 'scenario', ylabel = \"Change in H2 Prod Capacity (tonnes/hr)\", title = fig_title, color =  [\"lightsteelblue\", \"green\", \"grey\", \"deepskyblue\"] ).legend(bbox_to_anchor= (1,1))\n",
    "    plt.axhline(y=0, color='black', linestyle='-')\n",
    "    plt.grid(axis = 'y')\n",
    "    locs, labels = plt.xticks()\n",
    "    plt.setp(labels, rotation = 90)\n",
    "    ax = plt.gca()\n",
    "    \n",
    "    if plt_lim is not None:\n",
    "        plt.ylim(plt_lim)\n",
    "        \n",
    "    plt.savefig(dir_name + \"/Comp H2 Cap-Base.png\", dpi=300, bbox_inches='tight')\n",
    "    #plt.rcParams.update({'font.size': 20})\n",
    "    #handles, labels = ax.get_legend_handles_labels()\n",
    "    #ax.legend(labels[::-1])"
   ],
   "outputs": [],
   "execution_count": 35
  },
  {
   "cell_type": "markdown",
   "metadata": {},
   "source": [
    "In[114]:"
   ]
  },
  {
   "cell_type": "code",
   "metadata": {
    "ExecuteTime": {
     "end_time": "2024-06-27T03:06:37.881770Z",
     "start_time": "2024-06-27T03:06:37.878786Z"
    }
   },
   "source": [
    "def fig_comp_h2_prod_to_base(h2_cap_list, fig_title, plt_lim = None):\n",
    "    base_h2_cap_df= h2_cap_list[0] # Baseline scenario is what?\n",
    "    comp_h2_cap_df = pd.concat(h2_cap_list[1:]).merge(base_h2_cap_df, left_on = \"resource_type\", right_on = \"resource_type\", how = \"left\")\n",
    "    comp_h2_cap_df = comp_h2_cap_df[comp_h2_cap_df['resource_type']!='Liquifier']\n",
    "    comp_h2_cap_df = comp_h2_cap_df.assign(diff = comp_h2_cap_df[\"h2_prod_x\"] - comp_h2_cap_df[\"h2_prod_y\"])\n",
    "    comp_h2_cap_df['diff']=comp_h2_cap_df['diff']/1000\n",
    "    comp_h2_cap_df.pivot(index = 'scenario_x', columns = 'resource_type' )['diff'].plot(kind = \"bar\", stacked = True, legend=True, xlabel = 'scenario', ylabel = \"Change in H2 Prod (Mtonnes)\", title = fig_title, color =  [\"lightsteelblue\", \"green\", \"grey\", \"deepskyblue\"] ).legend(bbox_to_anchor= (1,1))\n",
    "    plt.axhline(y=0, color='black', linestyle='-')\n",
    "    plt.grid(axis = 'y')\n",
    "    locs, labels = plt.xticks()\n",
    "    plt.setp(labels, rotation = 90)\n",
    "    ax = plt.gca()\n",
    "    \n",
    "    if plt_lim is not None:\n",
    "        plt.ylim(plt_lim)\n",
    "        \n",
    "    #plt.savefig(dir_name + \"/Comp H2 Prod-Base.png\", dpi=300, bbox_inches='tight')\n",
    "    #plt.rcParams.update({'font.size': 20})\n",
    "    #handles, labels = ax.get_legend_handles_labels()\n",
    "    #ax.legend(labels[::-1])"
   ],
   "outputs": [],
   "execution_count": 36
  },
  {
   "cell_type": "markdown",
   "metadata": {},
   "source": [
    "# REMOVED PERIOD MAP FOR NO TDR"
   ]
  },
  {
   "cell_type": "markdown",
   "metadata": {},
   "source": [
    "In[115]:"
   ]
  },
  {
   "cell_type": "code",
   "metadata": {
    "ExecuteTime": {
     "end_time": "2024-06-27T03:06:37.965409Z",
     "start_time": "2024-06-27T03:06:37.957376Z"
    }
   },
   "source": [
    "def create_power_dispatch_figure (dir_name, title_str):\n",
    "    period_days = range(179,186)\n",
    "\n",
    "    #period_map = pd.read_csv(\"./\" + dir_name + \"/TDR_Results/Period_map.csv\")\n",
    "    tdr_demand = pd.read_csv(\"./\" + dir_name + \"/Load_data.csv\").filter(regex = \"Load_MW\")\n",
    "       \n",
    "    tdr_demand['endo_elec_demand'] = tdr_demand.sum(axis=1)\n",
    "    power_df = pd.read_csv(\"./\" + dir_name + \"/Results/power.csv\")\n",
    "    power_df = power_df.iloc[2:]#... #remove excess rows at the beginning\n",
    "\n",
    "    #period_map = period_map[period_map.Period_Index.isin(period_days)]\n",
    "\n",
    "    #rep_periods = period_map.Rep_Period_Index #collect rep periods\n",
    "    rep_power_df = []\n",
    "    i = 0 \n",
    "    for rep_period in period_days: #rep_periods\n",
    "        curr_power_df = power_df.iloc[24 * (rep_period -1) -1  : rep_period* 24 -1] #Filter rows from (rep_period -1) * 24 + 1: rep_period*24\n",
    "        curr_power_df.reset_index(drop=True, inplace=True)\n",
    "        curr_power_df = curr_power_df.assign(new_interval = pd.Series(range(i*24 + 1, (i+1) * 24 + 1 )))\n",
    "        i += 1\n",
    "        rep_power_df.append(curr_power_df)\n",
    "    \n",
    "    #Pulling in endogenous electric demand\n",
    "    i = 0\n",
    "    \n",
    "    rep_endo_demand_df = []\n",
    "    \n",
    "    for rep_period in period_days: #rep_periods\n",
    "        \n",
    "        curr_tdr_demand = tdr_demand.endo_elec_demand.iloc[24 * (rep_period -1) -1  : rep_period* 24 -1] #Filter rows from (rep_period -1) * 24 + 1: rep_period*24\n",
    "        curr_tdr_demand.reset_index(drop=True, inplace=True)\n",
    "        curr_tdr_demand = pd.DataFrame(curr_tdr_demand).assign(new_interval = pd.Series(range(i*24 + 1, (i+1) * 24 + 1 )))\n",
    "        i += 1       \n",
    "        \n",
    "        rep_endo_demand_df.append(curr_tdr_demand)\n",
    "     \n",
    "    rep_endo_demand_df = pd.concat(rep_endo_demand_df)\n",
    "    \n",
    "    #Pulling in electrolyzer electric demand\n",
    "    \n",
    "    if os.path.exists(\"./\" + dir_name + \"/Results/Results_HSC/\"):\n",
    "        \n",
    "        h2_discharge_df = pd.read_csv(\"./\" + dir_name + \"/Results/Results_HSC/HSC_h2_generation_discharge.csv\").filter(regex = \"Electrolyzer\")\n",
    "        h2_discharge_df = h2_discharge_df.iloc[2:]#... #remove excess rows at the beginning\n",
    "    \n",
    "        h2_discharge_df['electrolyzer_demand'] = h2_discharge_df.sum(axis=1) * 50 \n",
    "        rep_h2_discharge_df = []\n",
    "        i = 0 \n",
    "        for rep_period in period_days:\n",
    "            curr_h2_discharge_df = h2_discharge_df.electrolyzer_demand.iloc[24 * (rep_period -1) -1  : rep_period* 24 -1] #Filter rows from (rep_period -1) * 24 + 1: rep_period*24\n",
    "            curr_h2_discharge_df.reset_index(drop=True, inplace=True)\n",
    "            curr_h2_discharge_df = pd.DataFrame(curr_h2_discharge_df).assign(new_interval = pd.Series(range(i*24 + 1, (i+1) * 24 + 1 )))\n",
    "            i += 1\n",
    "            rep_h2_discharge_df.append(curr_h2_discharge_df)\n",
    "        h2_discharge_df = pd.concat(rep_h2_discharge_df)\n",
    "        \n",
    "    #else:\n",
    "        #h2_discharge_df = pd.Series(np.zeros(rep_endo_demand_df.shape[0]))\n",
    "    \n",
    "#     resource_dict = {'C_biomass' : 'Biomass', 'C_conventional_hydroelectric' : 'Hydro', \n",
    "#                          'C_conventional_steam_coal' : 'Coal',\n",
    "#              'C_natural_gas_fired_combined_cycle' : 'Gas',\n",
    "#             'C_natural_gas_fired_combustion_turbine' : 'Gas',\n",
    "#             'C_natural_gas_steam_turbine' : 'Gas',\n",
    "#              'C_nuclear' :'Nuclear',\n",
    "#              'C_solar_photovoltaic' : 'Solar'}  \n",
    "    \n",
    "#     resource_dict = {'biomass' : 'Biomass', 'conventional_hydroelectric' : 'Hydro', 'small_hydroelectric' : 'Hydro', \n",
    "#                          'conventional_steam_coal' : 'Coal',\n",
    "#              'natural_gas_fired_combined_cycle' : 'Gas',\n",
    "#             'natural_gas_fired_combustion_turbine' : 'Gas',\n",
    "#             'natural_gas_steam_turbine' : 'Gas',\n",
    "#              'nuclear' :'Nuclear',\n",
    "#              'solar_photovoltaic' : 'Solar', 'onshore_wind_turbine' : 'Wind'}\n",
    "    \n",
    "    power_df = pd.concat(rep_power_df)\n",
    "\n",
    "    #Wrangle Power Data into long format\n",
    "    power_long_df = power_df.melt(id_vars = [\"Resource\", \"new_interval\"]).query(\"Resource != 'Zone' & Resource != 'AnnualSum'\")\n",
    "    \n",
    "    power_long_df = power_long_df.assign(zone = power_long_df[\"variable\"].str[:6].str.strip(),\n",
    "                             resource_type = power_long_df[\"variable\"].str.strip().str.replace('\\_\\d+', ''),\n",
    "                            interval = pd.to_numeric(power_long_df[\"Resource\"].str[1:]) ).replace({\"resource_type\": resource_dict})\n",
    "    power_gen_df = power_long_df.query(\"variable != 'Total'\").groupby(['resource_type','new_interval']).agg({'value': 'sum'}).reset_index()\n",
    "    power_gen_df[\"generation_gw\"] = power_gen_df.value * 0.001\n",
    "    power_gen_df = power_gen_df.pivot(index = 'new_interval', columns = 'resource_type')['generation_gw']\n",
    "    \n",
    "    if ('Annual') in dir_name: #bat\n",
    "        power_gen_df = power_gen_df[[\"Biomass\", \"Nuclear\", \"Hydro\", \"Coal\", \"Gas\", \"Solar\", \"Wind\", \"Battery\"]] # \"PHS\", \"battery\", \"Wind\", \"Gas w/ CCS\" #\"red\", put at number 5\n",
    "    elif 'SIMPLE' in dir_name:\n",
    "        power_gen_df = power_gen_df[[\"Solar\", \"Battery\"]] # \"PHS\", \"battery\", \"Wind\", \"Gas w/ CCS\" #\"red\", put at number 5\n",
    "    else:\n",
    "        power_gen_df = power_gen_df[[\"Biomass\", \"Nuclear\", \"Hydro\", \"Coal\", \"Gas\", \"Solar\", \"Wind\"]]\n",
    "        \n",
    "    power_gen_df.plot.area(xlabel = 'Hour', ylabel = 'Generation (GW)', title = title_str,color = [\"springgreen\",\"pink\", \"dodgerblue\",\"grey\", \"darkviolet\", \"gold\", \"skyblue\", \"green\"]).legend(bbox_to_anchor= (1,1))\n",
    "    \n",
    "    plt.plot(rep_endo_demand_df[\"new_interval\"], rep_endo_demand_df[\"endo_elec_demand\"] * 1e-3, label = \"Endogenous\\nElec Demand\", color = \"black\")\n",
    "    \n",
    "    if os.path.exists(\"./\" + dir_name + \"/Results/Results_HSC/\"):\n",
    "        plt.plot(h2_discharge_df[\"new_interval\"], h2_discharge_df[\"electrolyzer_demand\"] * 1e-3, label = \"Electrolyzer\\nElec Demand\", color = \"red\")\n",
    "    \n",
    "    \n",
    "    plt.legend(bbox_to_anchor= (1,1))\n",
    "    \n",
    "    plt.xlim([1,168])\n",
    "    \n",
    "    plt.savefig('./' + dir_name + \"/power dispatch.png\", dpi=300, bbox_inches='tight')\n",
    "    "
   ],
   "outputs": [],
   "execution_count": 37
  },
  {
   "cell_type": "markdown",
   "metadata": {},
   "source": [
    "In[151]:"
   ]
  },
  {
   "cell_type": "code",
   "metadata": {
    "ExecuteTime": {
     "end_time": "2024-06-27T03:06:37.981349Z",
     "start_time": "2024-06-27T03:06:37.974494Z"
    }
   },
   "source": [
    "def create_h2_dispatch_figure (dir_name, title_str):\n",
    "    period_days = range(179,186)\n",
    "\n",
    "    #period_map = pd.read_csv(\"./\" + dir_name + \"/TDR_Results/Period_map.csv\")\n",
    "    h2_discharge_df = pd.read_csv(\"./\" + dir_name + \"/Results/Results_HSC/HSC_h2_generation_discharge.csv\")\n",
    "    h2_discharge_df = h2_discharge_df.iloc[2:]#... #remove excess rows at the beginning\n",
    "\n",
    "    #period_map = period_map[period_map.Period_Index.isin(period_days)]\n",
    "\n",
    "    #rep_periods = period_map.Rep_Period_Index #collect rep periods\n",
    "    rep_h2_discharge_df = []\n",
    "    i = 0 \n",
    "    for rep_period in period_days: #rep_periods:\n",
    "        curr_h2_discharge_df = h2_discharge_df.iloc[24 * (rep_period -1) -1  : rep_period* 24 -1] #Filter rows from (rep_period -1) * 24 + 1: rep_period*24\n",
    "        curr_h2_discharge_df.reset_index(drop=True, inplace=True)\n",
    "        curr_h2_discharge_df = curr_h2_discharge_df.assign(new_interval = pd.Series(range(i*24 + 1, (i+1) * 24 + 1 )))\n",
    "        i += 1\n",
    "        rep_h2_discharge_df.append(curr_h2_discharge_df)\n",
    "        \n",
    "    h2_discharge_df = pd.concat(rep_h2_discharge_df)\n",
    "    \n",
    "    h2_discharge_long_df = h2_discharge_df.melt(id_vars = [\"Resource\", \"new_interval\"]).query(\"Resource != 'Zone' & Resource != 'AnnualSum'\")\n",
    "    #mask = h2_discharge_long_df[\"variable\"].str.contains(\"Above_ground_storage\")\n",
    "    #h2_discharge_long_df = h2_discharge_long_df[~mask]\n",
    "    h2_discharge_long_df.loc[h2_discharge_long_df[\"variable\"].str.contains(\"Electrolyzer\"),\"resource_type\"] = \"Electrolyzer\"\n",
    "    #h2_discharge_long_df.loc[h2_discharge_long_df[\"variable\"].str.contains(\"Large_SMR\"),\"resource_type\"] = \"SMR\"\n",
    "    #h2_discharge_long_df.loc[h2_discharge_long_df[\"variable\"].str.contains(\"ATR|SMR\"),\"resource_type\"] = \"ATR/SMR\"\n",
    "    #h2_discharge_long_df.loc[h2_discharge_long_df[\"variable\"].str.contains(\"Liquifier\"),\"resource_type\"] = \"Liquifier\"\n",
    "    #h2_discharge_long_df.loc[h2_discharge_long_df[\"variable\"].str.contains(\"Liquid_storage\"),\"resource_type\"] = \"Liquid storage\"\n",
    "    if 'flex' in dir_name:\n",
    "        h2_discharge_long_df.loc[h2_discharge_long_df[\"variable\"].str.contains(\"Gas_storage\"),\"resource_type\"] = \"Gas storage\"\n",
    "    \n",
    "    h2_gen_df = h2_discharge_long_df.query(\"variable != 'Total'\").groupby(['resource_type','new_interval']).agg({'value': 'sum'}).reset_index()\n",
    "    h2_gen_df = h2_gen_df.pivot(index = 'new_interval', columns = 'resource_type')['value']\n",
    "    if 'flex' in dir_name:\n",
    "        h2_gen_df = h2_gen_df[[\"Electrolyzer\", \"Gas storage\"]] #\"ATR w/ CCS\", #\"grey\",\n",
    "    else:\n",
    "        h2_gen_df = h2_gen_df[[\"Electrolyzer\"]]\n",
    "    \n",
    "    h2_gen_df.plot.area(xlabel = 'Hour', ylabel = 'H2 Discharge (Tonnes)', title = title_str,color = [\"green\", \"pink\"]).legend(bbox_to_anchor= (1,1))\n",
    "    plt.xlim([1,168])\n",
    "    \n",
    "    plt.savefig('./' + dir_name + \"/h2 dispatch.png\", dpi=300, bbox_inches='tight')\n",
    "    \n",
    "def fig_emissions_breakdown(emissions_summary_data, title_str):\n",
    "    emissions_summary_data = emissions_summary_data[['Power Plant Emissions']]\n",
    "    emissions_summary_data.plot(kind = 'barh', legend = False, color = [\"orange\", \"cornflowerblue\"], width = 0.5, ylabel = \"CO2 Emissions (MTonnes)\", xlabel = \"scenario\", title = title_str)\n",
    "\n",
    "    #plt.vlines(total_emissions,-1,9, label = \"Total Emissions\")\n",
    "    ax = plt.gca()\n",
    "    ax.set_xlabel(\"CO2 Emissions (MTonnes)\")\n",
    "    #plt.legend(bbox_to_anchor= (1,1))\n",
    "    \n",
    "    plt.savefig(dir_name + \"/Comp Emissions.png\", dpi=300, bbox_inches='tight')\n",
    "    \n",
    "def fig_emissions_breakdown_diff(emissions_data, title_str):\n",
    "    df = emissions_data\n",
    "    df_baseline = df[df['scenario_name'].str.contains('no H2')]\n",
    "    df['Power_diff']=df['Power Plant Emissions']- float(df_baseline['Power Plant Emissions']) # Baseline scenario always defined as the first scenario\n",
    "    df['H2_diff']=df['H2 Plant Emissions']- float(df_baseline['H2 Plant Emissions']) #Baseline scenario always defined as the first scenario\n",
    "    df[['Power_diff','H2_diff']].plot(kind = 'barh', legend = False, color = [\"orange\", \"cornflowerblue\"], width = 0.8, ylabel = \"CO2 Emissions (MTonnes)\", xlabel = \"scenario\", title = title_str)\n",
    "    plt.axvline(x=0, color='black', linestyle='-')\n",
    "    plt.grid(axis = 'x')\n",
    "    ax = plt.gca()\n",
    "    ax.set_xlabel(\"Difference in CO2 emissions (Mtonnes)\")\n",
    "    \n",
    "    plt.savefig(dir_name + \"/Comp Emissions to Base.png\", dpi=300, bbox_inches='tight')\n",
    "\n",
    "def fig_emissions_breakdown_diff_mod(emissions_data, baselines, title_str):\n",
    "    df = emissions_data\n",
    "    df['Power_diff']=df['Power Plant Emissions']-df['Power Plant Emissions'].iloc[0] # Baseline scenario always defined as the first scenario\n",
    "    df['H2_diff']=df['H2 Plant Emissions']-df['H2 Plant Emissions'].iloc[0] #Baseline scenario always defined as the first scenario\n",
    "    df=df[1:]\n",
    "    df[['Power_diff','H2_diff']].plot(kind = 'barh', legend = False, color = [\"orange\", \"cornflowerblue\"], width = 0.8, ylabel = \"CO2 Emissions (MTonnes)\", xlabel = \"scenario\", title = title_str)\n",
    "    plt.axvline(x=0, color='black', linestyle='-')\n",
    "    plt.grid(axis = 'x')\n",
    "    ax = plt.gca()\n",
    "    ax.set_xlabel(\"Difference in CO2 emissions (Mtonnes)\")\n",
    "    \n",
    "    plt.savefig(dir_name + \"/Comp Emissions to Base.png\", dpi=300, bbox_inches='tight')"
   ],
   "outputs": [],
   "execution_count": 38
  },
  {
   "cell_type": "code",
   "metadata": {
    "ExecuteTime": {
     "end_time": "2024-06-27T03:06:38.004041Z",
     "start_time": "2024-06-27T03:06:37.997664Z"
    }
   },
   "source": [
    "def fig_h2_emissions_intensity(emissions, h2_data, title_str, PTC_limit, xmin, xmax):\n",
    "    h2_data = h2_data.groupby('scenario').sum()\n",
    "    em_intens = emissions.merge(h2_data, left_on='scenario_name', right_on='scenario')\n",
    "    em_intens['h2_emissions_intensity']=(em_intens['Power_diff']+em_intens['H2_diff'])*1000000/(em_intens['h2_prod']*1000)\n",
    "    \n",
    "    emissions_data = em_intens[['scenario_name','h2_emissions_intensity']]\n",
    "    emissions_data.set_index('scenario_name', inplace=True)\n",
    "    print(emissions_data)\n",
    "    emissions_data.plot(kind = 'barh', color = [\"aqua\"], width = 0.5, ylabel = \"CO2 Emissions (MTonnes)\", xlabel = \"Scenario\", title = title_str)\n",
    "    \n",
    "    plt.vlines(0.45,-1,11, linestyles = 'dashed', label = \"PTC Tier 1 limit\")\n",
    "    plt.vlines(1.5,-1,11, linestyles = 'dotted', label = \"PTC Tier 2 limit\")\n",
    "    plt.vlines(PTC_limit,-1,11, label = \"PTC Tier 4 limit\")\n",
    "    plt.axvline(x=0, color='black', linestyle='-')\n",
    "    plt.grid(axis = 'x')\n",
    "    ax = plt.gca()\n",
    "    ax.set_xlabel(\"Emissions intensity (tons CO2eq/ton H2)\")\n",
    "    ax.set_xlim([xmin,xmax])\n",
    "    plt.legend(loc='upper center', bbox_to_anchor=(0.5, -0.15), ncol=2) #loc='lower left' #bbox_to_anchor=(1,1)\n",
    "    \n",
    "    plt.savefig(dir_name + \"/H2 Emissions Intensity.png\", dpi=300, bbox_inches='tight')\n",
    "    \n",
    "    return(em_intens)\n",
    "    \n",
    "def fig_h2_attr_emissions(emissions, h2_data, title_str, PTC_limit):\n",
    "    emissions = pd.concat(emissions)\n",
    "    em_intens = emissions.merge(pd.concat(h2_data), on='scenario')\n",
    "    em_intens['h2_emissions_intensity']=em_intens['attr_emissions']/(em_intens['h2_prod']*1000)\n",
    "    em_intens.set_index('scenario', inplace=True)\n",
    "    \n",
    "    emissions_data = em_intens[['h2_emissions_intensity']]\n",
    "    emissions_data.sort_index().plot(kind = 'barh', color = [\"darkturquoise\"], width = 0.5, ylabel = \"CO2 Emissions (MTonnes)\", xlabel = \"scenario\", title = title_str)\n",
    "    plt.vlines(PTC_limit,-1,11, label = \"PTC limit\")\n",
    "    plt.axvline(x=0, color='black', linestyle='-')\n",
    "    plt.grid(axis = 'x')\n",
    "    ax = plt.gca()\n",
    "    ax.set_xlabel(\"Attributional Emissions (tons CO2/ton H2)\")\n",
    "    plt.legend() #bbox_to_anchor= (1,1), loc='upper left'\n",
    "    \n",
    "    plt.savefig(dir_name + \"/H2 Attr Emissions.png\", dpi=300, bbox_inches='tight')\n",
    "    \n",
    "    \n",
    "def fig_elec_emissions_intensity(emissions, power_data, title_str, baseline):\n",
    "    power_df=pd.concat(power_data).groupby('scenario', as_index=False).sum()\n",
    "    em_intens = emissions.merge(power_df, left_on='scenario_name', right_on='scenario')\n",
    "    em_intens['elec_emissions_intensity']=em_intens['Power Plant Emissions']*1000000/(em_intens['gen'])\n",
    "    em_intens.set_index('scenario_name', inplace=True)\n",
    "    emissions_data = em_intens[['elec_emissions_intensity']]\n",
    "    emissions_data = emissions_data[1:]\n",
    "    emissions_data.sort_index().plot(kind = 'barh', color = [\"grey\"], width = 0.5, ylabel = \"CO2 Emissions (MTonnes)\", xlabel = \"scenario\", title = title_str)\n",
    "    plt.vlines(baseline,-1,11, label = \"Baseline\")\n",
    "    plt.axvline(x=0, color='black', linestyle='-')\n",
    "    plt.grid(axis = 'x')\n",
    "    ax = plt.gca()\n",
    "    ax.set_xlabel(\"Average Electricity Emissions Intensity (tons CO2/MWh)\")\n",
    "    plt.legend(bbox_to_anchor= (1,1))\n",
    "    \n",
    "    plt.savefig(dir_name + \"/Elec Emissions Intensity.png\", dpi=300, bbox_inches='tight')\n",
    "    \n",
    "def fig_cost_breakdown(cost_data, title_str):\n",
    "    cost_data.loc[:, cost_data.columns != \"total_cost\"].plot(kind = 'bar', stacked = True , color = [\"orange\", \"cornflowerblue\"], ylabel = \"Total System Cost (B EUR)\", xlabel = \"DAC Cost Multiplier\", title = title_str).legend(bbox_to_anchor= (1,1))\n",
    "    plt.gca().invert_xaxis()"
   ],
   "outputs": [],
   "execution_count": 39
  },
  {
   "cell_type": "code",
   "metadata": {
    "ExecuteTime": {
     "end_time": "2024-06-27T03:06:38.053931Z",
     "start_time": "2024-06-27T03:06:38.051640Z"
    }
   },
   "source": [
    "def fig_cost_breakdown_no_sf(cost_data, title_str):\n",
    "    #temp = cost_data.loc[:, cost_data.columns == \"total_cost\"]\n",
    "    df = cost_data.loc[:, cost_data.columns != \"total_cost\"]\n",
    "    df=df.loc[:, df.columns != \"SynFuels\"]\n",
    "    df=df.loc[:, df.columns != \"CO2\"]\n",
    "    df.plot(kind = 'bar', stacked = True , color = [\"orange\", \"cornflowerblue\"], ylabel = \"Annual System Cost (B EUR)\", xlabel = \"scenario\", title = title_str).legend(bbox_to_anchor= (1,1))\n",
    "    #temp.plot(kind = 'bar', stacked = True , ylabel = \"Total System Cost (B EUR)\", xlabel = \"scenario\", title = title_str).legend(bbox_to_anchor= (1,1))\n",
    "\n",
    "    #plt.gca().invert_xaxis()\n",
    "    \n",
    "    plt.savefig(dir_name + \"/Comp Costs.png\", dpi=300, bbox_inches='tight')\n",
    "    "
   ],
   "outputs": [],
   "execution_count": 40
  },
  {
   "cell_type": "code",
   "metadata": {
    "ExecuteTime": {
     "end_time": "2024-06-27T03:06:38.077575Z",
     "start_time": "2024-06-27T03:06:38.074949Z"
    }
   },
   "source": [
    "def fig_cost_breakdown_diff(cost_data, title_str):\n",
    "    df = cost_data.loc[:, cost_data.columns != \"total_cost\"]\n",
    "    df=df.loc[:, df.columns != \"SynFuels\"]\n",
    "    df=df.loc[:, df.columns != \"CO2\"]\n",
    "    df.rename(columns={'Power':'Power_total', 'H2':'H2_total'}, inplace=True)\n",
    "    df['Power']=df['Power_total']-df['Power_total'].iloc[0]\n",
    "    df['H2']=df['H2_total']-df['H2_total'].iloc[0]\n",
    "    df=df[1:]\n",
    "    df[['Power','H2']].plot(kind = 'bar', stacked = True , color = [\"orange\", \"cornflowerblue\"], ylabel = \"Difference in Annual System Cost (B EUR)\", xlabel = \"scenario\", title = title_str).legend(bbox_to_anchor= (1,1))\n",
    "    plt.axhline(y=0, color='black', linestyle='-')\n",
    "    \n",
    "    plt.savefig(dir_name + \"/Comp Costs to Base.png\", dpi=300, bbox_inches='tight')\n",
    "    "
   ],
   "outputs": [],
   "execution_count": 41
  },
  {
   "cell_type": "code",
   "metadata": {
    "ExecuteTime": {
     "end_time": "2024-06-27T03:06:38.119580Z",
     "start_time": "2024-06-27T03:06:38.107397Z"
    }
   },
   "source": [
    "def fig_h2_lcoh_system(costs, costs_detail, h2_data, power_data, battery_data, emissions_data, title_str, xmin, xmax):\n",
    "    #lcoh_df = costs.merge(pd.concat(h2_data), left_on='scenario_name', right_on='scenario', how='left')\n",
    "    lcoh_df = costs.merge(costs_detail, on='scenario_name')\n",
    "    df=lcoh_df\n",
    "    #df['cost_diff']=df['total_cost']-df['total_cost'].iloc[0]\n",
    "    df['power_diff']=df['Power']-df['Power'].iloc[0]\n",
    "    df = df.merge(emissions_data, on='scenario_name')\n",
    "    #df['h2_cost']=df['cost_diff']/(df['h2_prod']*1000000)\n",
    "    df['power_sector']=df['power_diff']/df['h2_prod']*1000\n",
    "    df['electrolyzer']=(df['H2_Gen_Fixed'])/df['h2_prod']*1000\n",
    "    df['h2_storage']=df['H2_Storage_Fixed']/df['h2_prod']*1000\n",
    "    \n",
    "    power_data = pd.concat(power_data)\n",
    "    battery_data = pd.concat(battery_data)\n",
    "    PPA = ['Solar_PPA', 'Wind_PPA', 'Battery_PPA']\n",
    "    battery_data = battery_data.query('resource_type in @PPA')\n",
    "    power_data = power_data.query('resource_type in @PPA')\n",
    "    power_data = power_data.merge(battery_data, on=['scenario', 'resource_type'])\n",
    "    power_data['ITC']=0\n",
    "    # IMPORTANT!!! COEFFICIENTS NEED TO BE UPDATED TO ACCOUNT FOR NEW CAPEX ASSUMPTIONS\n",
    "    if '2021' in dir_name: \n",
    "        power_data.loc[power_data['resource_type']=='Solar_PPA', 'ITC']=power_data.loc[power_data['resource_type']=='Solar_PPA', 'EndCap'] * 20402  #OK - Dharik checked on March 8\n",
    "        power_data.loc[power_data['resource_type']=='Wind_PPA', 'ITC']=power_data.loc[power_data['resource_type']=='Wind_PPA', 'EndCap'] * 24774   # OK - Dharik checked\n",
    "        power_data.loc[power_data['resource_type']=='Battery_PPA', 'ITC']=power_data.loc[power_data['resource_type']=='Battery_PPA', 'EndCap'] *6885 + power_data.loc[power_data['resource_type']=='Battery', 'EndEnergyCap'] * 7989 # OK - Dharik checked\n",
    "    elif '2030' in dir_name:\n",
    "        power_data.loc[power_data['resource_type']=='Solar_PPA', 'ITC']=power_data.loc[power_data['resource_type']=='Solar_PPA', 'EndCap'] * 16434\n",
    "        power_data.loc[power_data['resource_type']=='Battery_PPA', 'ITC']=power_data.loc[power_data['resource_type']=='Battery', 'EndCap'] * 6397 + power_data.loc[power_data['resource_type']=='Battery', 'EndEnergyCap'] * 5757\n",
    "    \n",
    "    power_data = power_data.groupby('scenario', as_index=False).sum()\n",
    "    df = df.merge(power_data, left_on='scenario_name', right_on='scenario')\n",
    "    \n",
    "    df['ITC']=df['ITC']/(df['h2_prod']*1000000)\n",
    "    df['PTC'] = 0 #initialize the column\n",
    "    df.loc[df['h2_emissions_intensity']<4, 'PTC']=0.6\n",
    "    df.loc[df['h2_emissions_intensity']<2.5, 'PTC']=0.75\n",
    "    df.loc[df['h2_emissions_intensity']<1.5, 'PTC']=1\n",
    "    df.loc[df['h2_emissions_intensity']<0.456, 'PTC']=3\n",
    "    df.set_index('scenario_name',inplace=True)\n",
    "    df['total']=df['power_sector']+df['electrolyzer']+df['h2_storage']+df['PTC']+df['ITC']\n",
    "    \n",
    "    df['subsidies']=df['ITC']+df['PTC']\n",
    "    df=df.sort_index()\n",
    "    print(df['total'])\n",
    "    plot = df[['power_sector','electrolyzer','h2_storage', 'ITC', 'PTC']]\n",
    "    plot.sort_index().plot(kind = 'barh', stacked = True, color = [\"skyblue\", \"mediumaquamarine\", \"violet\", \"indianred\", \"lightcoral\"], width = 0.5, ylabel = \"System Cost ($/kg H2)\", xlabel = \"Scenario\", title = title_str)\n",
    "    plt.axvline(x=0, color='black', linestyle='-')\n",
    "#     for x in range(0, df.shape[0]):\n",
    "#         plt.vlines(df['subsidies'].iloc[x], x-0.3, x+0.3, color='grey', linestyle='-')\n",
    "#     plt.vlines(0, -2, -1, color='grey', linestyle='-', label='total credits')\n",
    "    plt.grid(axis = 'x')\n",
    "    ax = plt.gca()\n",
    "    ax.set_xlabel(\"Hydrogen system cost ($/kg H2)\")\n",
    "    ax.set_xlim([xmin,xmax])\n",
    "    plt.legend() #bbox_to_anchor=(1,1) #loc='lower right'\n",
    "    \n",
    "    plt.savefig('./' + dir_name + \"/H2 Cost.png\", dpi=300, bbox_inches='tight')\n",
    "    \n",
    "def fig_h2_lcoh(costs, costs_detail, h2_data, power_data, battery_data, elec_sales, emissions_data, title_str, xmin, xmax):\n",
    "    #lcoh_df = costs.merge(pd.concat(h2_data), left_on='scenario_name', right_on='scenario', how='left')\n",
    "    lcoh_df = costs.merge(costs_detail, on='scenario_name')\n",
    "    lcoh_df = lcoh_df.merge(pd.concat(elec_sales), left_on='scenario_name', right_on='scenario')\n",
    "    \n",
    "    power_data = pd.concat(power_data)\n",
    "    battery_data = pd.concat(battery_data)\n",
    "    PPA = ['Solar_PPA', 'Wind_PPA', 'Battery_PPA']\n",
    "    battery_data = battery_data.query('resource_type in @PPA')\n",
    "    power_data = power_data.query('resource_type in @PPA')\n",
    "    power_data = power_data.merge(battery_data, on=['scenario', 'resource_type'])\n",
    "    power_data['fixed_cost_PPA']=0\n",
    "    # IMPORTANT!!! COEFFICIENTS NEED TO BE UPDATED TO ACCOUNT FOR NEW CAPEX ASSUMPTIONS\n",
    "    # SHOULD COUNT CAPEX + FIXED O&M COST\n",
    "    #if '2021' in dir_name:\n",
    "    power_data.loc[power_data['resource_type']=='Solar_PPA', 'fixed_cost_PPA']=power_data.loc[power_data['resource_type']=='Solar_PPA', 'EndCap'] * (47606+21000)\n",
    "    power_data.loc[power_data['resource_type']=='Wind_PPA', 'fixed_cost_PPA']=power_data.loc[power_data['resource_type']=='Wind_PPA', 'EndCap'] * (57807+44100)\n",
    "    power_data.loc[power_data['resource_type']=='Battery_PPA', 'fixed_cost_PPA']=power_data.loc[power_data['resource_type']=='Battery_PPA', 'EndCap'] * (16064+6379) + power_data.loc[power_data['resource_type']=='Battery_PPA', 'EndEnergyCap'] * (18642 +7403)\n",
    "#     elif '2030' in dir_name: # NOT USING 2030 values anymore\n",
    "#         power_data.loc[power_data['resource_type']=='Solar_PPA', 'fixed_cost_PPA']=power_data.loc[power_data['resource_type']=='Solar_PPA', 'EndCap'] * 38350\n",
    "#         power_data.loc[power_data['resource_type']=='Battery_PPA', 'fixed_cost_PPA']=power_data.loc[power_data['resource_type']=='Battery_PPA', 'EndCap'] * 14927 + power_data.loc[power_data['resource_type']=='Battery_PPA', 'EndEnergyCap'] * 13434\n",
    "    \n",
    "    power_data = power_data.groupby('scenario', as_index=False).sum()\n",
    "    lcoh_df = lcoh_df.merge(power_data, left_on='scenario_name', right_on='scenario')\n",
    "    df=lcoh_df\n",
    "    df = df.merge(emissions_data, on='scenario_name')\n",
    "    df['elec_fixed_cost']=df['fixed_cost_PPA']/(df['h2_prod']*1000000)\n",
    "    df['elec_sales']=-df['elec_sales']/(df['h2_prod']*1000000)\n",
    "    df['elec_purchases']=df['H2_VarElec']/df['h2_prod']\n",
    "    df['electrolyzer_fixed_cost']=(df['H2_Gen_Fixed'])/df['h2_prod']*1000\n",
    "    df['h2_storage']=df['H2_Storage_Fixed']/df['h2_prod']*1000\n",
    "    df['PTC'] = 0 #initialize the column\n",
    "    df.loc[df['h2_emissions_intensity']<4, 'PTC']=-0.6\n",
    "    df.loc[df['h2_emissions_intensity']<2.5, 'PTC']=-0.75\n",
    "    df.loc[df['h2_emissions_intensity']<1.5, 'PTC']=-1\n",
    "    df.loc[df['h2_emissions_intensity']<0.456, 'PTC']=-3\n",
    "    df['total_w_PTC']=df['elec_fixed_cost']+df['elec_purchases']+df['elec_sales']+df['electrolyzer_fixed_cost']+df['h2_storage']+df['PTC']\n",
    "    df['total_wo_PTC']=df['elec_fixed_cost']+df['elec_purchases']+df['elec_sales']+df['electrolyzer_fixed_cost']+df['h2_storage']\n",
    "    df.set_index('scenario_name',inplace=True)\n",
    "    df=df.sort_index()\n",
    "    print(df['total_w_PTC'])\n",
    "    print(df['total_wo_PTC'])\n",
    "    df.to_csv('2021_lcoh_df.csv')\n",
    "    plot = df[['elec_fixed_cost', 'elec_purchases', 'elec_sales', 'electrolyzer_fixed_cost','h2_storage', 'PTC']]\n",
    "    plot.sort_index().plot(kind = 'barh', stacked = True, color = [\"steelblue\", \"skyblue\", \"mediumpurple\", \"mediumaquamarine\", \"violet\", \"lightcoral\"], width = 0.5, ylabel = \"LCOH ($/kg H2)\", xlabel = \"Scenario\", title = title_str)\n",
    "    plt.axvline(x=0, color='black', linestyle='-')\n",
    "    for x in range(0, df.shape[0]):\n",
    "        plt.vlines(df['total_w_PTC'].iloc[x], x-0.3, x+0.3, color='midnightblue', linestyle='-')\n",
    "        plt.vlines(df['total_wo_PTC'].iloc[x], x-0.3, x+0.3, color='r', linestyle='dotted')\n",
    "    # To include in legend\n",
    "    plt.vlines(0, -2, -1, color='midnightblue', linestyle='-', label='total cost w PTC')\n",
    "    plt.vlines(0, -2, -1, color='r', linestyle='dotted', label='total cost w/o PTC')\n",
    "    plt.grid(axis = 'x')\n",
    "    ax = plt.gca()\n",
    "    ax.set_xlabel(\"LCOH ($/kg H2)\")\n",
    "    ax.set_xlim([xmin,xmax])\n",
    "    ax.xaxis.set_ticks(np.arange(xmin, xmax, 2))\n",
    "    # ax.xaxis.set_major_formatter(ticker.FormatStrFormatter('%0.1f'))\n",
    "    plt.legend(loc='upper center', bbox_to_anchor=(0.5, -0.15), ncol=4) #loc='lower left' #bbox_to_anchor=(1,1)\n",
    "    \n",
    "    plt.savefig('./' + dir_name + \"/H2 LCOH_with_without_PTC.png\", dpi=300, bbox_inches='tight')"
   ],
   "outputs": [],
   "execution_count": 42
  },
  {
   "cell_type": "code",
   "metadata": {
    "ExecuteTime": {
     "end_time": "2024-06-27T03:06:38.138021Z",
     "start_time": "2024-06-27T03:06:38.135077Z"
    }
   },
   "source": [
    "    \n",
    "def fig_detailed_cost_breakdown(cost_data, title_str):\n",
    "    cm = plt.get_cmap('Paired')\n",
    "    # you can also set line style, width\n",
    "    matplotlib.rcParams[\"axes.prop_cycle\"] = cycler(color=[cm(v) for v in np.linspace(0, 1, 12)])\n",
    "    df = cost_data.loc[:, ~cost_data.columns.str.contains('H2_')]\n",
    "    df.plot(kind = 'bar', stacked = True, ylabel = \"Total System Cost (B EUR)\", xlabel = \"scenario\", title = title_str).legend(bbox_to_anchor= (1,1))\n",
    "    \n",
    "    plt.savefig(dir_name + \"/Comp Elec Detail Costs.png\", dpi=300, bbox_inches='tight')\n",
    "    \n",
    "def fig_h2_detailed_cost_breakdown(cost_data, title_str):\n",
    "    cm = plt.get_cmap('Paired')\n",
    "    # you can also set line style, width\n",
    "    matplotlib.rcParams[\"axes.prop_cycle\"] = cycler(color=[cm(v) for v in np.linspace(0, 1, 12)])\n",
    "    df = cost_data.loc[:, ~cost_data.columns.str.contains('Elec_')]\n",
    "    df.plot(kind = 'bar', stacked = True, ylabel = \"Total System Cost (B EUR)\", xlabel = \"scenario\", title = title_str).legend(bbox_to_anchor= (1,1))\n",
    "    \n",
    "    plt.savefig(dir_name + \"/Comp H2 Detail Costs.png\", dpi=300, bbox_inches='tight')\n",
    "    \n",
    "    "
   ],
   "outputs": [],
   "execution_count": 43
  },
  {
   "cell_type": "markdown",
   "metadata": {},
   "source": [
    "***PLOTTING CODE***"
   ]
  },
  {
   "cell_type": "code",
   "metadata": {
    "ExecuteTime": {
     "end_time": "2024-06-27T03:06:38.171427Z",
     "start_time": "2024-06-27T03:06:38.169370Z"
    }
   },
   "source": [
    "matplotlib.style.use('default')\n",
    "plt.rcParams['figure.figsize'] = [6, 4]\n",
    "bat = True\n",
    "dir_name = \"Figures\""
   ],
   "outputs": [],
   "execution_count": 44
  },
  {
   "cell_type": "code",
   "metadata": {
    "ExecuteTime": {
     "end_time": "2024-06-27T03:06:38.195229Z",
     "start_time": "2024-06-27T03:06:38.193080Z"
    }
   },
   "source": [
    "#Dictionary that defines path to cases you want to plot and assigns a name that they will be refered to as in the plots\n",
    "scenario_name_dict = {\n",
    "    \"1_Rep_VRE_Scenarios_Annual/1_Rep_VRE_Scenarios_Annual_C0\": \"D1\",\n",
    "    \"1_Rep_VRE_Scenarios_Annual/1_Rep_VRE_Scenarios_Annual_C1\": \"D2\",\n",
    "    \"1_Rep_VRE_Scenarios_Hourly/1_Rep_VRE_Scenarios_Hourly_C0\" : \"D1\",\n",
    "    \"1_Rep_VRE_Scenarios_Hourly/1_Rep_VRE_Scenarios_Hourly_C1\": \"D2\",\n",
    "    \"1_Rep_VRE_Scenarios_no_H2/1_Rep_VRE_Scenarios_no_H2_C0\" : \"D1\", \n",
    "    \"1_Rep_VRE_Scenarios_no_H2/1_Rep_VRE_Scenarios_no_H2_C1\" : \"D2\", \n",
    "      }\n",
    "\n",
    "scenario_list_annual = [key for key in scenario_name_dict.keys() if \"Annual\" in key]\n",
    "scenario_list_hourly = [key for key in scenario_name_dict.keys() if \"Hourly\" in key]\n",
    "scenario_list_no_H2 = [key for key in scenario_name_dict.keys() if \"no_H2\" in key]\n",
    "scenario_list = list(scenario_name_dict.keys())"
   ],
   "outputs": [],
   "execution_count": 45
  },
  {
   "cell_type": "code",
   "metadata": {
    "ExecuteTime": {
     "end_time": "2024-06-27T03:06:44.528159Z",
     "start_time": "2024-06-27T03:06:38.238648Z"
    }
   },
   "source": [
    "#Step 1: read the cases \n",
    "DATA_POWER_ANNUAL = read_power_data(scenario_list_annual, bat, scenario_name_dict)\n",
    "DATA_POWER_HOURLY = read_power_data(scenario_list_hourly, bat, scenario_name_dict)\n",
    "DATA_POWER_no_H2 = read_power_data(scenario_list_no_H2, bat, scenario_name_dict)\n",
    "\n",
    "#Step 2: add average of all subcases to the list of dataframes\n",
    "DATA_POWER_HOURLY = average_of_power_df(DATA_POWER_HOURLY)\n",
    "DATA_POWER_no_H2 = average_of_power_df(DATA_POWER_no_H2)\n",
    "DATA_POWER_ANNUAL = average_of_power_df(DATA_POWER_ANNUAL)"
   ],
   "outputs": [],
   "execution_count": 46
  },
  {
   "cell_type": "code",
   "metadata": {
    "ExecuteTime": {
     "end_time": "2024-06-27T03:06:45.782417Z",
     "start_time": "2024-06-27T03:06:44.529270Z"
    }
   },
   "source": [
    "fig_comp_capacity(DATA_POWER_HOURLY[1], \"Power Capacity by Type\", 48.3, bat) #whats 48.3 hard coded here????\n",
    "fig_comp_generation(DATA_POWER_HOURLY[0], \"Power Generation by Type\", False)\n",
    "\n",
    "fig_comp_capacity(DATA_POWER_no_H2[1], \"Power Capacity by Type\", 48.3, bat) #whats 48.3 hard coded here????\n",
    "fig_comp_generation(DATA_POWER_no_H2[0], \"Power Generation by Type\", False)\n",
    "\n",
    "fig_comp_capacity(DATA_POWER_ANNUAL[1], \"Power Capacity by Type\", 48.3, bat) #whats 48.3 hard coded here????\n",
    "fig_comp_generation(DATA_POWER_ANNUAL[0], \"Power Generation by Type\", False)"
   ],
   "outputs": [
    {
     "name": "stdout",
     "output_type": "stream",
     "text": [
      "   resource_type           gen  generation_twh               scenario\n",
      "1    Battery_PPA  0.000000e+00        0.000000                     D1\n",
      "2        Biomass  0.000000e+00        0.000000                     D1\n",
      "3           Coal  0.000000e+00        0.000000                     D1\n",
      "4            Gas  1.931839e+08      193.183853                     D1\n",
      "5          Hydro  4.083702e+05        0.408370                     D1\n",
      "6        Nuclear  3.874676e+07       38.746762                     D1\n",
      "7          Solar  3.849345e+07       38.493452                     D1\n",
      "8      Solar_PPA  2.964037e+06        2.964037                     D1\n",
      "9           Wind  1.138237e+08      113.823674                     D1\n",
      "10      Wind_PPA  1.025986e+07       10.259856                     D1\n",
      "1    Battery_PPA  2.396084e+04        0.023961                     D2\n",
      "2        Biomass  0.000000e+00        0.000000                     D2\n",
      "3           Coal  0.000000e+00        0.000000                     D2\n",
      "4            Gas  2.062292e+08      206.229214                     D2\n",
      "5          Hydro  4.083702e+05        0.408370                     D2\n",
      "6        Nuclear  3.903953e+07       39.039527                     D2\n",
      "7          Solar  3.217751e+07       32.177506                     D2\n",
      "8      Solar_PPA  3.718038e+06        3.718038                     D2\n",
      "9           Wind  1.074630e+08      107.463040                     D2\n",
      "10      Wind_PPA  8.869140e+06        8.869140                     D2\n",
      "1    Battery_PPA  1.198042e+04        0.011980  Deterministic Average\n",
      "2        Biomass  0.000000e+00        0.000000  Deterministic Average\n",
      "3           Coal  0.000000e+00        0.000000  Deterministic Average\n",
      "4            Gas  1.997065e+08      199.706534  Deterministic Average\n",
      "5          Hydro  4.083702e+05        0.408370  Deterministic Average\n",
      "6        Nuclear  3.889314e+07       38.893145  Deterministic Average\n",
      "7          Solar  3.533548e+07       35.335479  Deterministic Average\n",
      "8      Solar_PPA  3.341038e+06        3.341038  Deterministic Average\n",
      "9           Wind  1.106434e+08      110.643357  Deterministic Average\n",
      "10      Wind_PPA  9.564498e+06        9.564498  Deterministic Average\n",
      "   resource_type               gen generation_twh               scenario\n",
      "1        Biomass               0.0            0.0                     D1\n",
      "2           Coal               0.0            0.0                     D1\n",
      "3            Gas   197796134.52706     197.796135                     D1\n",
      "4          Hydro         408370.16        0.40837                     D1\n",
      "5        Nuclear   38842419.066266      38.842419                     D1\n",
      "6          Solar   38460743.046897      38.460743                     D1\n",
      "7           Wind  113592023.391118     113.592023                     D1\n",
      "8      Solar_PPA                 0              0                     D1\n",
      "9       Wind_PPA                 0              0                     D1\n",
      "10   Battery_PPA                 0              0                     D1\n",
      "1        Biomass               0.0            0.0                     D2\n",
      "2           Coal               0.0            0.0                     D2\n",
      "3            Gas  208544368.731355     208.544369                     D2\n",
      "4          Hydro         408370.16        0.40837                     D2\n",
      "5        Nuclear   38985265.523794      38.985266                     D2\n",
      "6          Solar   33942488.160646      33.942488                     D2\n",
      "7           Wind  107242512.861948     107.242513                     D2\n",
      "8      Solar_PPA                 0              0                     D2\n",
      "9       Wind_PPA                 0              0                     D2\n",
      "10   Battery_PPA                 0              0                     D2\n",
      "1        Biomass               0.0            0.0  Deterministic Average\n",
      "2           Coal               0.0            0.0  Deterministic Average\n",
      "3            Gas  203170251.629207     203.170252  Deterministic Average\n",
      "4          Hydro         408370.16        0.40837  Deterministic Average\n",
      "5        Nuclear    38913842.29503      38.913842  Deterministic Average\n",
      "6          Solar   36201615.603771      36.201616  Deterministic Average\n",
      "7           Wind  110417268.126533     110.417268  Deterministic Average\n",
      "8      Solar_PPA               0.0            0.0  Deterministic Average\n",
      "9       Wind_PPA               0.0            0.0  Deterministic Average\n",
      "10   Battery_PPA               0.0            0.0  Deterministic Average\n",
      "   resource_type           gen  generation_twh               scenario\n",
      "1    Battery_PPA  0.000000e+00    0.000000e+00                     D1\n",
      "2        Biomass  0.000000e+00    0.000000e+00                     D1\n",
      "3           Coal -3.913669e-11   -3.913669e-17                     D1\n",
      "4            Gas  1.979914e+08    1.979914e+02                     D1\n",
      "5          Hydro  4.083702e+05    4.083702e-01                     D1\n",
      "6        Nuclear  3.876091e+07    3.876091e+01                     D1\n",
      "7          Solar  3.846166e+07    3.846166e+01                     D1\n",
      "8      Solar_PPA  0.000000e+00    0.000000e+00                     D1\n",
      "9           Wind  1.134898e+08    1.134898e+02                     D1\n",
      "10      Wind_PPA  8.761805e+06    8.761805e+00                     D1\n",
      "1    Battery_PPA  0.000000e+00    0.000000e+00                     D2\n",
      "2        Biomass  0.000000e+00    0.000000e+00                     D2\n",
      "3           Coal  0.000000e+00    0.000000e+00                     D2\n",
      "4            Gas  2.104341e+08    2.104341e+02                     D2\n",
      "5          Hydro  4.083702e+05    4.083702e-01                     D2\n",
      "6        Nuclear  3.937673e+07    3.937673e+01                     D2\n",
      "7          Solar  3.121714e+07    3.121714e+01                     D2\n",
      "8      Solar_PPA  5.410092e+06    5.410092e+00                     D2\n",
      "9           Wind  1.076912e+08    1.076912e+02                     D2\n",
      "10      Wind_PPA  3.351713e+06    3.351713e+00                     D2\n",
      "1    Battery_PPA  0.000000e+00    0.000000e+00  Deterministic Average\n",
      "2        Biomass  0.000000e+00    0.000000e+00  Deterministic Average\n",
      "3           Coal -1.956835e-11   -1.956835e-17  Deterministic Average\n",
      "4            Gas  2.042128e+08    2.042128e+02  Deterministic Average\n",
      "5          Hydro  4.083702e+05    4.083702e-01  Deterministic Average\n",
      "6        Nuclear  3.906882e+07    3.906882e+01  Deterministic Average\n",
      "7          Solar  3.483940e+07    3.483940e+01  Deterministic Average\n",
      "8      Solar_PPA  2.705046e+06    2.705046e+00  Deterministic Average\n",
      "9           Wind  1.105905e+08    1.105905e+02  Deterministic Average\n",
      "10      Wind_PPA  6.056759e+06    6.056759e+00  Deterministic Average\n"
     ]
    },
    {
     "data": {
      "text/plain": [
       "<Figure size 600x400 with 1 Axes>"
      ],
      "image/png": "[encoded data removed]"
     },
     "metadata": {},
     "output_type": "display_data"
    },
    {
     "data": {
      "text/plain": [
       "<Figure size 600x400 with 1 Axes>"
      ],
      "image/png": "[encoded data removed]"
     },
     "metadata": {},
     "output_type": "display_data"
    },
    {
     "data": {
      "text/plain": [
       "<Figure size 600x400 with 1 Axes>"
      ],
      "image/png": "[encoded data removed]"
     },
     "metadata": {},
     "output_type": "display_data"
    },
    {
     "data": {
      "text/plain": [
       "<Figure size 600x400 with 1 Axes>"
      ],
      "image/png": "[encoded data removed]"
     },
     "metadata": {},
     "output_type": "display_data"
    },
    {
     "data": {
      "text/plain": [
       "<Figure size 600x400 with 1 Axes>"
      ],
      "image/png": "[encoded data removed]"
     },
     "metadata": {},
     "output_type": "display_data"
    },
    {
     "data": {
      "text/plain": [
       "<Figure size 600x400 with 1 Axes>"
      ],
      "image/png": "[encoded data removed]"
     },
     "metadata": {},
     "output_type": "display_data"
    }
   ],
   "execution_count": 47
  },
  {
   "cell_type": "code",
   "metadata": {
    "ExecuteTime": {
     "end_time": "2024-06-27T03:06:46.781768Z",
     "start_time": "2024-06-27T03:06:45.783156Z"
    }
   },
   "source": [
    "fig_comp_power_cap_to_base_updated(DATA_POWER_HOURLY[1], DATA_POWER_no_H2[1], \"New/retired power capacity\", bat)\n",
    "fig_comp_power_gen_to_base_updated(DATA_POWER_HOURLY[0], DATA_POWER_no_H2[0], \"Changes in Power Generation Relative to Baseline\", False) #, [-0.3,0.2]\n",
    "\n",
    "fig_comp_power_cap_to_base_updated(DATA_POWER_ANNUAL[1], DATA_POWER_no_H2[1], \"New/retired power capacity\", bat)\n",
    "plt.xlim(-6,6)\n",
    "fig_comp_power_gen_to_base_updated(DATA_POWER_ANNUAL[0], DATA_POWER_no_H2[0], \"Changes in Power Generation Relative to Baseline\", False) #, [-0.3,0.2\n",
    "plt.xlim(-20,20)"
   ],
   "outputs": [
    {
     "data": {
      "text/plain": [
       "(-20.0, 20.0)"
      ]
     },
     "execution_count": 48,
     "metadata": {},
     "output_type": "execute_result"
    },
    {
     "data": {
      "text/plain": [
       "<Figure size 400x1000 with 0 Axes>"
      ]
     },
     "metadata": {},
     "output_type": "display_data"
    },
    {
     "data": {
      "text/plain": [
       "<Figure size 400x1000 with 1 Axes>"
      ],
      "image/png": "[encoded data removed]"
     },
     "metadata": {},
     "output_type": "display_data"
    },
    {
     "data": {
      "text/plain": [
       "<Figure size 600x400 with 1 Axes>"
      ],
      "image/png": "[encoded data removed]"
     },
     "metadata": {},
     "output_type": "display_data"
    },
    {
     "data": {
      "text/plain": [
       "<Figure size 400x1000 with 0 Axes>"
      ]
     },
     "metadata": {},
     "output_type": "display_data"
    },
    {
     "data": {
      "text/plain": [
       "<Figure size 400x1000 with 1 Axes>"
      ],
      "image/png": "[encoded data removed]"
     },
     "metadata": {},
     "output_type": "display_data"
    },
    {
     "data": {
      "text/plain": [
       "<Figure size 600x400 with 1 Axes>"
      ],
      "image/png": "[encoded data removed]"
     },
     "metadata": {},
     "output_type": "display_data"
    }
   ],
   "execution_count": 48
  },
  {
   "cell_type": "markdown",
   "metadata": {},
   "source": [
    "In[76]:"
   ]
  },
  {
   "cell_type": "code",
   "metadata": {
    "ExecuteTime": {
     "end_time": "2024-06-27T03:06:46.877970Z",
     "start_time": "2024-06-27T03:06:46.783114Z"
    }
   },
   "source": [
    "# CHECK 1 or 2!!\n",
    "h2_scenario_list_hourly = scenario_list_hourly\n",
    "DATA_H2 = read_h2_data(h2_scenario_list_hourly, scenario_name_dict)"
   ],
   "outputs": [
    {
     "name": "stderr",
     "output_type": "stream",
     "text": [
      "/var/folders/qb/cmll1b1n78x9rqnb7jky3n3w0000gn/T/ipykernel_34496/668082666.py:36: SettingWithCopyWarning: \n",
      "A value is trying to be set on a copy of a slice from a DataFrame.\n",
      "Try using .loc[row_indexer,col_indexer] = value instead\n",
      "\n",
      "See the caveats in the documentation: https://pandas.pydata.org/pandas-docs/stable/user_guide/indexing.html#returning-a-view-versus-a-copy\n",
      "  h2_capacity_df.loc[h2_capacity_df[\"Resource\"].str.contains(\"Electrolyzer\"),\"resource_type\"] = \" Electrolyzer\"\n",
      "/var/folders/qb/cmll1b1n78x9rqnb7jky3n3w0000gn/T/ipykernel_34496/668082666.py:36: SettingWithCopyWarning: \n",
      "A value is trying to be set on a copy of a slice from a DataFrame.\n",
      "Try using .loc[row_indexer,col_indexer] = value instead\n",
      "\n",
      "See the caveats in the documentation: https://pandas.pydata.org/pandas-docs/stable/user_guide/indexing.html#returning-a-view-versus-a-copy\n",
      "  h2_capacity_df.loc[h2_capacity_df[\"Resource\"].str.contains(\"Electrolyzer\"),\"resource_type\"] = \" Electrolyzer\"\n"
     ]
    }
   ],
   "execution_count": 49
  },
  {
   "cell_type": "code",
   "metadata": {
    "ExecuteTime": {
     "end_time": "2024-06-27T03:06:46.976564Z",
     "start_time": "2024-06-27T03:06:46.878632Z"
    }
   },
   "source": [
    "DATA_H2_Hourly = read_h2_data(h2_scenario_list_hourly, scenario_name_dict)\n",
    "\n",
    "# Calculate the average values\n",
    "average_h2_production_values = np.mean([df['h2_prod'] for df in DATA_H2_Hourly[0]], axis=0)\n",
    "# average_generation_twh = np.mean([df['generation_twh'] for df in DATA_POWER_S2[0]], axis=0)\n",
    "\n",
    "# Create the new DataFrame for the average scenario\n",
    "average_h2_production_df_hourly = pd.DataFrame({\n",
    "    'resource_type': DATA_H2_Hourly[0][0]['resource_type'],\n",
    "    'h2_prod': average_h2_production_values,\n",
    "    'scenario': 'Deterministic Average'\n",
    "})\n",
    "\n",
    "average_electrolyzer_cap_values = np.mean([df['EndCap'] for df in DATA_H2_Hourly[1]], axis=0)\n",
    "# average_generation_twh = np.mean([df['generation_twh'] for df in DATA_POWER_S2[0]], axis=0)\n",
    "\n",
    "# Create the new DataFrame for the average scenario\n",
    "average_electrolyzer_cap_df_hourly = pd.DataFrame({\n",
    "    'resource_type': DATA_H2_Hourly[1][0]['resource_type'],\n",
    "    'EndCap': average_electrolyzer_cap_values,\n",
    "    'scenario': 'Deterministic Average'\n",
    "})\n",
    "\n",
    "average_H2_storage_cap_values = np.mean([df['EndEnergyCap'] for df in DATA_H2_Hourly[2]], axis=0)\n",
    "# average_generation_twh = np.mean([df['generation_twh'] for df in DATA_POWER_S2[0]], axis=0)\n",
    "\n",
    "# Create the new DataFrame for the average scenario\n",
    "average_H2_storage_cap_df_hourly = pd.DataFrame({\n",
    "    'Resource': DATA_H2_Hourly[2][0]['Resource'],\n",
    "    'EndEnergyCap': average_H2_storage_cap_values,\n",
    "    'scenario': 'Deterministic Average'\n",
    "})"
   ],
   "outputs": [
    {
     "name": "stderr",
     "output_type": "stream",
     "text": [
      "/var/folders/qb/cmll1b1n78x9rqnb7jky3n3w0000gn/T/ipykernel_34496/668082666.py:36: SettingWithCopyWarning: \n",
      "A value is trying to be set on a copy of a slice from a DataFrame.\n",
      "Try using .loc[row_indexer,col_indexer] = value instead\n",
      "\n",
      "See the caveats in the documentation: https://pandas.pydata.org/pandas-docs/stable/user_guide/indexing.html#returning-a-view-versus-a-copy\n",
      "  h2_capacity_df.loc[h2_capacity_df[\"Resource\"].str.contains(\"Electrolyzer\"),\"resource_type\"] = \" Electrolyzer\"\n",
      "/var/folders/qb/cmll1b1n78x9rqnb7jky3n3w0000gn/T/ipykernel_34496/668082666.py:36: SettingWithCopyWarning: \n",
      "A value is trying to be set on a copy of a slice from a DataFrame.\n",
      "Try using .loc[row_indexer,col_indexer] = value instead\n",
      "\n",
      "See the caveats in the documentation: https://pandas.pydata.org/pandas-docs/stable/user_guide/indexing.html#returning-a-view-versus-a-copy\n",
      "  h2_capacity_df.loc[h2_capacity_df[\"Resource\"].str.contains(\"Electrolyzer\"),\"resource_type\"] = \" Electrolyzer\"\n"
     ]
    }
   ],
   "execution_count": 50
  },
  {
   "cell_type": "code",
   "metadata": {
    "ExecuteTime": {
     "end_time": "2024-06-27T03:06:47.285769Z",
     "start_time": "2024-06-27T03:06:46.977399Z"
    }
   },
   "source": [
    "h2_scenario_list_annual = scenarios_annual_avg_list\n",
    "DATA_H2_Annual = read_h2_data(h2_scenario_list_annual, scenario_name_dict_annual)\n",
    "\n",
    "# Calculate the average values\n",
    "average_h2_production_values = np.mean([df['h2_prod'] for df in DATA_H2_Annual[0]], axis=0)\n",
    "# average_generation_twh = np.mean([df['generation_twh'] for df in DATA_POWER_S2[0]], axis=0)\n",
    "\n",
    "# Create the new DataFrame for the average scenario\n",
    "average_h2_production_df_annual = pd.DataFrame({\n",
    "    'resource_type': DATA_H2_Annual[0][0]['resource_type'],\n",
    "    'h2_prod': average_h2_production_values,\n",
    "    'scenario': 'Deterministic Average',\n",
    "})\n",
    "\n",
    "average_electrolyzer_cap_values = np.mean([df['EndCap'] for df in DATA_H2_Annual[1]], axis=0)\n",
    "# average_generation_twh = np.mean([df['generation_twh'] for df in DATA_POWER_S2[0]], axis=0)\n",
    "\n",
    "# Create the new DataFrame for the average scenario\n",
    "average_electrolyzer_cap_df_annual = pd.DataFrame({\n",
    "    'resource_type': DATA_H2_Annual[1][0]['resource_type'],\n",
    "    'EndCap': average_electrolyzer_cap_values,\n",
    "    'scenario': 'Deterministic Average'\n",
    "})\n",
    "\n",
    "average_H2_storage_cap_values = np.mean([df['EndEnergyCap'] for df in DATA_H2_Annual[2]], axis=0)\n",
    "# average_generation_twh = np.mean([df['generation_twh'] for df in DATA_POWER_S2[0]], axis=0)\n",
    "\n",
    "# Create the new DataFrame for the average scenario\n",
    "average_H2_storage_cap_df_annual = pd.DataFrame({\n",
    "    'Resource': DATA_H2_Annual[2][0]['Resource'],\n",
    "    'EndEnergyCap': average_H2_storage_cap_values,\n",
    "    'scenario': 'Deterministic Average'\n",
    "})"
   ],
   "outputs": [
    {
     "ename": "NameError",
     "evalue": "name 'scenarios_annual_avg_list' is not defined",
     "output_type": "error",
     "traceback": [
      "\u001B[0;31m---------------------------------------------------------------------------\u001B[0m",
      "\u001B[0;31mNameError\u001B[0m                                 Traceback (most recent call last)",
      "Cell \u001B[0;32mIn[51], line 1\u001B[0m\n\u001B[0;32m----> 1\u001B[0m h2_scenario_list_annual \u001B[38;5;241m=\u001B[39m \u001B[43mscenarios_annual_avg_list\u001B[49m\n\u001B[1;32m      2\u001B[0m DATA_H2_Annual \u001B[38;5;241m=\u001B[39m read_h2_data(h2_scenario_list_annual, scenario_name_dict_annual)\n\u001B[1;32m      4\u001B[0m \u001B[38;5;66;03m# Calculate the average values\u001B[39;00m\n",
      "\u001B[0;31mNameError\u001B[0m: name 'scenarios_annual_avg_list' is not defined"
     ]
    }
   ],
   "execution_count": 51
  },
  {
   "cell_type": "code",
   "metadata": {},
   "source": [
    "DATA_H2 = list(DATA_H2).copy()\n",
    "#DATA_H2[0].append(average_h2_production_df_annual)\n",
    "DATA_H2[0].append(average_h2_production_df_hourly)\n",
    "#DATA_H2[1].append(average_electrolyzer_cap_df_annual)\n",
    "DATA_H2[1].append(average_electrolyzer_cap_df_hourly)\n",
    "#DATA_H2[2].append(average_H2_storage_cap_df_annual)\n",
    "DATA_H2[2].append(average_H2_storage_cap_df_hourly)"
   ],
   "outputs": [],
   "execution_count": null
  },
  {
   "cell_type": "code",
   "metadata": {},
   "source": [
    "dir_name = \"Figures\"\n",
    "\n",
    "fig_comp_h2_prod(DATA_H2[0], \"H2 Production by Type\")\n",
    "#fig_comp_h2_prod_to_base(DATA_H2_S2[0], \"Changes in H2 Production Relative to Baseline\" )\n",
    "fig_comp_h2_cap(DATA_H2[1], \"Electrolyzer Capacity\")\n",
    "plt.xlim(0,40)\n",
    "#fig_comp_h2_cap_to_base(DATA_H2_S2[1], \"Changes in H2 Capacity Relative to Baseline\" )\n",
    "\n",
    "fig_comp_h2_prod(DATA_H2_Hourly[0], \"H2 Production by Type\")\n",
    "#fig_comp_h2_prod_to_base(DATA_H2_S2[0], \"Changes in H2 Production Relative to Baseline\" )\n",
    "fig_comp_h2_cap(DATA_H2_Hourly[1], \"H2 Production Capacity by Type\")\n",
    "#fig_comp_h2_cap_to_base(DATA_H2_S2[1], \"Changes in H2 Capacity Relative to Baseline\" )"
   ],
   "outputs": [],
   "execution_count": null
  },
  {
   "cell_type": "markdown",
   "metadata": {},
   "source": []
  },
  {
   "cell_type": "code",
   "metadata": {},
   "source": [
    "DATA_EMISSIONS = read_emission_data(scenario_list_hourly, scenario_name_dict)\n",
    "DATA_EMISSIONS_ANNUAL_AVG = read_emission_data(scenario_list_annual, scenario_name_dict)\n",
    "DATA_EMISSIONS_HOURLY_AVG = read_emission_data(scenario_list_hourly, scenario_name_dict)\n",
    "DATA_EMISSIONS_no_H2_AVG = read_emission_data(scenario_list_no_H2, scenario_name_dict)\n",
    "\n",
    "# Calculate the average values\n",
    "average_emission_values = np.mean(DATA_EMISSIONS_HOURLY_AVG[0]['Power Plant Emissions'], axis=0)\n",
    "average_h2_emission_values =  np.mean(DATA_EMISSIONS_HOURLY_AVG[0]['H2 Plant Emissions'], axis=0)\n",
    "\n",
    "# Create the new DataFrame for the average scenario\n",
    "average_emission_df_hourly = pd.Series({\n",
    "    'scenario_name': 'Determinstic Average Hourly',\n",
    "    'Power Plant Emissions': average_emission_values,\n",
    "    'H2 Plant Emissions': average_h2_emission_values   \n",
    "})\n",
    "\n",
    "# Calculate the average values\n",
    "average_emission_values = np.mean(DATA_EMISSIONS_no_H2_AVG[0]['Power Plant Emissions'], axis=0)\n",
    "average_h2_emission_values =  np.mean(DATA_EMISSIONS_no_H2_AVG[0]['H2 Plant Emissions'], axis=0)\n",
    "\n",
    "# Create the new DataFrame for the average scenario\n",
    "average_emission_df_no_H2 = pd.Series({\n",
    "    'scenario_name': 'Determinstic Average no H2',\n",
    "    'Power Plant Emissions': average_emission_values,\n",
    "    'H2 Plant Emissions': average_h2_emission_values   \n",
    "})\n",
    "\n",
    "DATA_EMISSIONS = list(DATA_EMISSIONS).copy()\n",
    "#DATA_EMISSIONS[0] = pd.concat([DATA_EMISSIONS[0], pd.DataFrame(average_emission_df_annual).T])\n",
    "DATA_EMISSIONS[0] = pd.concat([DATA_EMISSIONS[0], pd.DataFrame(average_emission_df_no_H2).T])\n",
    "DATA_EMISSIONS[0].set_index('scenario_name', inplace=True)\n",
    "DATA_EMISSIONS[0][\"scenario_name\"] = DATA_EMISSIONS[0].index\n"
   ],
   "outputs": [],
   "execution_count": null
  },
  {
   "cell_type": "code",
   "metadata": {},
   "source": [
    "\n",
    "# Calculate the average values\n",
    "average_emission_values = np.mean(DATA_EMISSIONS_ANNUAL_AVG[0]['Power Plant Emissions'], axis=0)\n",
    "average_h2_emission_values =  np.mean(DATA_EMISSIONS_ANNUAL_AVG[0]['H2 Plant Emissions'], axis=0)\n",
    "\n",
    "# Create the new DataFrame for the average scenario\n",
    "average_emission_df_annual = pd.Series({\n",
    "    'scenario_name': 'Determinstic Average',\n",
    "    'Power Plant Emissions': average_emission_values,\n",
    "    'H2 Plant Emissions': average_h2_emission_values   \n",
    "})\n"
   ],
   "outputs": [],
   "execution_count": null
  },
  {
   "cell_type": "code",
   "metadata": {},
   "source": [
    "DATA_EMISSIONS_HOURLY"
   ],
   "outputs": [],
   "execution_count": null
  },
  {
   "cell_type": "code",
   "metadata": {},
   "source": [
    "DATA_EMISSIONS_NO_H2 = read_emission_data(scenario_list_no_H2, scenario_name_dict)\n",
    "DATA_EMISSIONS_HOURLY = read_emission_data(scenario_list_hourly, scenario_name_dict)\n",
    "\n",
    "scenario_names_no_H2 = set(DATA_EMISSIONS_NO_H2[0]['scenario_name'])\n",
    "scenario_names_hourly = set(DATA_EMISSIONS_HOURLY[0]['scenario_name'])\n",
    "common_scenario_names = list(scenario_names_no_H2.intersection(scenario_names_hourly))\n",
    "print(common_scenario_names)\n",
    "\n",
    "scenario_diff_list = []\n",
    "em_intens= pd.DataFrame()\n",
    "\n",
    "for scenario in common_scenario_names:\n",
    "    scenario_diff_list.append((DATA_EMISSIONS_HOURLY[0][DATA_EMISSIONS_HOURLY[0]['scenario_name'] == scenario][\"Power Plant Emissions\"] - DATA_EMISSIONS_NO_H2[0][DATA_EMISSIONS_NO_H2[0]['scenario_name'] == scenario][\"Power Plant Emissions\"] )*1000000/(161.3592*1000))\n",
    "\n",
    "em_intens = pd.concat(scenario_diff_list, axis=1)\n",
    "print(em_intens)\n",
    "#em_intens= pd.DataFrame( (DATA_EMISSIONS_HOURLY[0][\"Power Plant Emissions\"] - DATA_EMISSIONS_NO_H2[0][\"Power Plant Emissions\"][:-1] )*1000000/(161.3592*1000))\n",
    "# Calculate the average of rows starting with \"D\"\n",
    "#average_row = em_intens[em_intens.index.str.startswith('D')].mean()\n",
    "\n",
    "# Add the average row to the DataFrame\n",
    "#em_intens.loc['Deterministic Average'] = average_row\n",
    "# Sort the rows of em_intens into alphabetical order\n",
    "em_intens = em_intens.sort_index()\n",
    "\n",
    "em_intens.plot(kind = 'barh', color = [\"aqua\"], width = 0.5, ylabel = \"CO2 Emissions (MTonnes)\", xlabel = \"Scenario\")\n",
    "\n",
    "plt.vlines(0.45,-1,11, linestyles = 'dashed', label = \"PTC Tier 1 limit\")\n",
    "plt.vlines(1.5,-1,11, linestyles = 'dotted', label = \"PTC Tier 2 limit\")\n",
    "plt.vlines(3,-1,11, label = \"PTC Tier 4 limit\")\n",
    "plt.axvline(x=0, color='black', linestyle='-')\n",
    "plt.grid(axis = 'x')\n",
    "ax = plt.gca()\n",
    "ax.set_xlabel(\"Emissions intensity (tons CO2eq/ton H2)\")\n",
    "#ax.set_xlim([xmin,xmax])\n",
    "plt.xlim(-20,10)\n",
    "plt.legend(loc='upper center', bbox_to_anchor=(0.5, -0.15), ncol=2) #loc='lower left' #bbox_to_anchor=(1,1)\n",
    "\n",
    "plt.savefig(dir_name + \"/H2 Emissions Intensity.png\", dpi=300, bbox_inches='tight')\n",
    "\n"
   ],
   "outputs": [],
   "execution_count": null
  },
  {
   "cell_type": "code",
   "metadata": {},
   "source": [
    "DATA_EMISSIONS_NO_H2"
   ],
   "outputs": [],
   "execution_count": null
  },
  {
   "cell_type": "code",
   "metadata": {},
   "source": [
    "\n",
    "########DO THE SAME FOR ANNUAL\n",
    "\n",
    "DATA_EMISSIONS_ANNUAL = read_emission_data(s2_scenario_list_annual, scenario_name_dict_annual)\n",
    "\n",
    "em_intens_annual= pd.DataFrame(  (DATA_EMISSIONS_ANNUAL[1][\"Total_emissions\"] - DATA_EMISSIONS_NO_H2[1][\"Total_emissions\"] )*1000000/(161.3592*1000))\n",
    "# Calculate the average of rows starting with \"D\"\n",
    "average_row = em_intens_annual[em_intens_annual.index.str.startswith('D')].mean()\n",
    "\n",
    "# Add the average row to the DataFrame\n",
    "em_intens_annual.loc['Deterministic Average'] = average_row\n",
    "# Sort the rows of em_intens into alphabetical order\n",
    "em_intens_annual = em_intens_annual.sort_index()\n",
    "\n",
    "\n",
    "# Print the updated DataFrame\n",
    "em_intens\n",
    "\n",
    "em_intens_annual.plot(kind = 'barh', color = [\"aqua\"], width = 0.5, ylabel = \"CO2 Emissions (MTonnes)\", xlabel = \"Scenario\")\n",
    "\n",
    "plt.vlines(0.45,-1,11, linestyles = 'dashed', label = \"PTC Tier 1 limit\")\n",
    "plt.vlines(1.5,-1,11, linestyles = 'dotted', label = \"PTC Tier 2 limit\")\n",
    "plt.vlines(3,-1,11, label = \"PTC Tier 4 limit\")\n",
    "plt.axvline(x=0, color='black', linestyle='-')\n",
    "plt.grid(axis = 'x')\n",
    "ax = plt.gca()\n",
    "ax.set_xlabel(\"Emissions intensity (tons CO2eq/ton H2)\")\n",
    "#ax.set_xlim([xmin,xmax])\n",
    "plt.legend(loc='upper center', bbox_to_anchor=(0.5, -0.15), ncol=2) #loc='lower left' #bbox_to_anchor=(1,1)\n",
    "\n",
    "plt.savefig(dir_name + \"/H2 Emissions Intensity.png\", dpi=300, bbox_inches='tight')"
   ],
   "outputs": [],
   "execution_count": null
  },
  {
   "cell_type": "code",
   "metadata": {},
   "source": [
    "#print(DATA_EMISSIONS_ANNUAL[1])\n",
    "print(DATA_EMISSIONS_HOURLY[1])\n",
    "print(DATA_EMISSIONS_NO_H2[1])\n",
    "DATA_EMISSIONS_HOURLY[1][\"Total_emissions\"] - DATA_EMISSIONS_NO_H2[1][\"Total_emissions\"]"
   ],
   "outputs": [],
   "execution_count": null
  },
  {
   "cell_type": "code",
   "metadata": {},
   "source": [
    "fig_emissions_breakdown(DATA_EMISSIONS[0], \"CO2 Emissions Breakdown\")\n",
    "fig_emissions_breakdown_diff(DATA_EMISSIONS[0], \"Changes in CO2 Emissions Relative to Baseline\")"
   ],
   "outputs": [],
   "execution_count": null
  },
  {
   "cell_type": "code",
   "metadata": {},
   "source": [
    "DATA_EMISSIONS_S2_update = pd.concat(DATA_EMISSIONS, axis=1)\n",
    "DATA_H2_S2_update = pd.concat(DATA_H2[0])\n",
    "\n",
    "emissions_data = fig_h2_emissions_intensity(DATA_EMISSIONS_S2_update, DATA_H2_S2_update, \n",
    "                           \"Consequential hydrogen emissions intensity\", 4, xmin=-60, xmax=60)\n"
   ],
   "outputs": [],
   "execution_count": null
  },
  {
   "cell_type": "code",
   "metadata": {},
   "source": [
    "#DATA_EMISSIONS[0].rename(columns={'scenario_name)': 'scenario_name'}, inplace=True)\n",
    "DATA_EMISSIONS[0].index.name = \"index\"\n"
   ],
   "outputs": [],
   "execution_count": null
  },
  {
   "cell_type": "code",
   "metadata": {},
   "source": [
    "power_df=pd.concat(DATA_POWER[0]).groupby('scenario', as_index=False).sum()\n",
    "baseline_em_intens = DATA_EMISSIONS[0]['Power Plant Emissions'].iloc[0]*1000000/power_df['gen'].iloc[0]\n",
    "fig_elec_emissions_intensity(DATA_EMISSIONS[0],DATA_POWER[0],\"Power Emissions Intensity (Annual Average)\",baseline_em_intens)"
   ],
   "outputs": [],
   "execution_count": null
  },
  {
   "cell_type": "markdown",
   "metadata": {},
   "source": [
    "UPDATE X-LIMITS<br>\n",
    "ig_h2_lcoh_system(DATA_COST_S2[0], DATA_COST_S2[1], DATA_H2_S2[0], DATA_POWER_S2[1], DATA_POWER_S2[2], emissions_data, "
   ]
  },
  {
   "cell_type": "code",
   "metadata": {},
   "source": [
    "#DATA_COST_S2 = read_cost_data(s2_scenario_list[1:], scenario_name_dict)\n",
    "#elec_sales = calculate_electricity_sales(s2_scenario_list[1:], scenario_name_dict)\n",
    "\n",
    "#DATA_COST_ANNUAL = read_cost_data(scenarios_annual_avg_list, scenario_name_dict_annual)\n",
    "#elec_sales_annual = calculate_electricity_sales(scenarios_annual_avg_list, scenario_name_dict_annual)\n",
    "\n",
    "DATA_COST_HOURLY = read_cost_data(scenarios_hourly_avg_list, scenario_name_dict)\n",
    "elec_sales_hourly = calculate_electricity_sales(scenarios_hourly_avg_list, scenario_name_dict)\n"
   ],
   "outputs": [],
   "execution_count": null
  },
  {
   "cell_type": "code",
   "metadata": {},
   "source": [
    "average_row_annual_0 = pd.DataFrame(DATA_COST_ANNUAL[0].iloc[:, 1:].mean()).T\n",
    "average_row_annual_0['scenario_name'] = \"average_of_annual_scenarios\"\n",
    "average_row_annual_0.set_index('scenario_name', inplace=True)\n",
    "average_row_annual_0['scenario_name'] = \"average_of_annual_scenarios\"\n",
    "\n",
    "average_row_annual_1 = pd.DataFrame(DATA_COST_ANNUAL[1].iloc[:, 1:].mean()).T\n",
    "average_row_annual_1['scenario_name'] = \"average_of_annual_scenarios\"\n",
    "average_row_annual_1.set_index('scenario_name', inplace=True)\n",
    "average_row_annual_1['scenario_name'] = \"average_of_annual_scenarios\"\n"
   ],
   "outputs": [],
   "execution_count": null
  },
  {
   "cell_type": "code",
   "metadata": {},
   "source": [
    "\n",
    "average_row_hourly_0 = pd.DataFrame(DATA_COST_HOURLY[0].iloc[:, 1:].mean()).T\n",
    "average_row_hourly_0['scenario_name'] = \"average_of_hourly_scenarios\"\n",
    "average_row_hourly_0.set_index('scenario_name', inplace=True)\n",
    "average_row_hourly_0['scenario_name'] = \"average_of_hourly_scenarios\"\n",
    "\n",
    "average_row_hourly_1 = pd.DataFrame(DATA_COST_HOURLY[1].iloc[:, 1:].mean()).T\n",
    "average_row_hourly_1['scenario_name'] = \"average_of_hourly_scenarios\"\n",
    "average_row_hourly_1.set_index('scenario_name', inplace=True)\n",
    "average_row_hourly_1['scenario_name'] = \"average_of_hourly_scenarios\"\n",
    "\n",
    "#average_annual_elec_sales = np.mean([float(df['elec_sales']) for df in elec_sales_annual[0]])\n",
    "average_hourly_elec_sales = np.mean([float(df['elec_sales']) for df in elec_sales_hourly[0]])\n",
    "\n",
    "#average_hourly_elec_sales = np.mean(elec_sales_hourly[0]['elec_sales'])\n",
    "\n",
    "# Create the new DataFrame for the average scenario\n",
    "#elec_sales_annual_avg = pd.Series({\n",
    "#    'scenario': 'average_of_annual_scenarios',\n",
    "#    'elec_sales': average_annual_elec_sales  \n",
    "#})\n",
    "\n",
    "# Create the new DataFrame for the average scenario\n",
    "elec_sales_hourly_avg = pd.Series({\n",
    "    'scenario': 'average_of_hourly_scenarios',\n",
    "    'elec_sales': average_hourly_elec_sales  \n",
    "})\n",
    "\n",
    "DATA_COST = list(DATA_COST_HOURLY).copy()\n",
    "#DATA_COST[0] = pd.concat([DATA_COST_S2[0], average_row_annual_0])\n",
    "#DATA_COST[1] = pd.concat([DATA_COST_S2[1], average_row_annual_1])\n",
    "DATA_COST[0] = pd.concat([DATA_COST[0], average_row_hourly_0])\n",
    "DATA_COST[1] = pd.concat([DATA_COST[1], average_row_hourly_1])\n",
    "\n",
    "ELEC_SALES = list(elec_sales_hourly).copy()\n",
    "#ELEC_SALES[0].append(pd.DataFrame(elec_sales_annual_avg).T)\n",
    "ELEC_SALES[0].append(pd.DataFrame(elec_sales_hourly_avg).T)\n",
    "\n"
   ],
   "outputs": [],
   "execution_count": null
  },
  {
   "cell_type": "code",
   "metadata": {},
   "source": [
    "fig_h2_lcoh(DATA_COST[0], DATA_COST[1], DATA_H2[0], DATA_POWER[1], DATA_POWER[2], ELEC_SALES[0], emissions_data,'Levelized cost of hydrogen (LCOH)', xmin=-16,xmax=17) #8 or 10\n",
    "fig_h2_lcoh(DATA_COST_HOURLY[0], DATA_COST_HOURLY[1], DATA_H2_Hourly[0], DATA_POWER_HOURLY_AVG[1], DATA_POWER_HOURLY_AVG[2], elec_sales_hourly[0], emissions_data,'Levelized cost of hydrogen (LCOH)', xmin=-16,xmax=17) #8 or 10"
   ],
   "outputs": [],
   "execution_count": null
  },
  {
   "cell_type": "markdown",
   "metadata": {},
   "source": [
    "ig_cost_breakdown_diff(DATA_COST_S2[0], 'Difference in Annual System Cost')"
   ]
  },
  {
   "cell_type": "markdown",
   "metadata": {},
   "source": [
    "In[258]:"
   ]
  },
  {
   "cell_type": "markdown",
   "metadata": {},
   "source": [
    "BATTERY AND H2 STORAGE"
   ]
  },
  {
   "cell_type": "code",
   "metadata": {},
   "source": [
    "plt.rcParams['figure.dpi']=300\n",
    "\n",
    "fig_comp_stor_h2_bat(DATA_POWER[2][1:], DATA_H2[2], DATA_H2[0])\n",
    "\n",
    "#fig_comp_stor_h2_bat(DATA_POWER_HOURLY_AVG[2], DATA_H2_Hourly[2], DATA_H2_Hourly[0])"
   ],
   "outputs": [],
   "execution_count": null
  },
  {
   "cell_type": "markdown",
   "metadata": {},
   "source": [
    "ELECTROLYZER CF"
   ]
  },
  {
   "cell_type": "code",
   "metadata": {},
   "source": [
    "fig_comp_EZ_CF(DATA_H2[0], DATA_H2[1], 'Electrolyzer Capacity Factor')"
   ],
   "outputs": [],
   "execution_count": null
  },
  {
   "cell_type": "code",
   "metadata": {},
   "source": [
    "def read_H2_system_power_flow(dir_list, scenario_name_dict):\n",
    "    power_flows_df = []\n",
    "    for dir_name in dir_list:\n",
    "        TMR_df = pd.read_csv(\"./\" + dir_name + \"/Results/Results_HSC/HSC_TMR_balance_expanded.csv\")[2:].reset_index()\n",
    "        TMR_df['scenario_name'] = scenario_name_dict[dir_name]\n",
    "        TMR_df['interval'] = range(len(TMR_df))\n",
    "\n",
    "        curtail_df = pd.read_csv(\"./\" + dir_name + \"/Results/curtail.csv\")[2:].reset_index()[['solar_photovoltaic_ppa', 'onshore_wind_turbine_ppa']]\n",
    "        TMR_df['curtail_solar'] =  curtail_df['solar_photovoltaic_ppa']\n",
    "        TMR_df['curtail_wind'] =  curtail_df['onshore_wind_turbine_ppa']\n",
    "\n",
    "        solar_cap = float(pd.read_csv(\"./\" + dir_name + \"/Results/capacity.csv\")['solar_photovoltaic_ppa'][4])\n",
    "        wind_cap = float(pd.read_csv(\"./\" + dir_name + \"/Results/capacity.csv\")['onshore_wind_turbine_ppa'][4])\n",
    "        cf_df = pd.read_csv(\"./\" + dir_name + \"/Generators_variability.csv\")[2:].reset_index()[['solar_photovoltaic_ppa', 'onshore_wind_turbine_ppa']]\n",
    "        TMR_df['possible_solar'] = cf_df['solar_photovoltaic_ppa'].multiply(solar_cap)\n",
    "        TMR_df['possible_wind'] = cf_df['onshore_wind_turbine_ppa'].multiply(wind_cap)\n",
    "\n",
    "        power_df = pd.read_csv(\"./\" + dir_name + \"/Results/power.csv\")[2:]\n",
    "        charge_df = pd.read_csv(\"./\" + dir_name + \"/Results/charge.csv\")[2:].reset_index()\n",
    "        weights = pd.read_csv(\"./\" + dir_name + \"/Results/time_weights.csv\")\n",
    "        \n",
    "        if 'no_H2' in dir_name:\n",
    "            columns_to_filter = [x for x in ['onshore_wind_turbine_ppa', 'solar_photovoltaic_ppa'] if x in power_df.columns.tolist()]\n",
    "            power_df = power_df.filter(items=columns_to_filter)\n",
    "        #if 'Annual' in dir_name:\n",
    "        else:\n",
    "            charge_df = charge_df.rename(columns={'Battery_ppa':'Battery_ppa_charge'})\n",
    "            charge_df['Battery_1_charge']=charge_df['Battery_ppa_charge']*-1\n",
    "            power_df = power_df.merge(charge_df[['Resource','Battery_ppa_charge']], on='Resource')  \n",
    "            columns_to_filter = [x for x in ['onshore_wind_turbine_ppa', 'solar_photovoltaic_ppa', 'Battery_ppa', 'Battery_ppa_charge'] if x in power_df.columns.tolist()]\n",
    "            power_df = power_df.filter(items=columns_to_filter)\n",
    "       # print(elec_sales.head)\n",
    "        TMR_df['elec sales'] = power_df.sum(axis=1) \n",
    "                \n",
    "\n",
    "        if 'no_H2' not in dir_name:\n",
    "            electrolyzer_df = pd.read_csv(\"./\" + dir_name + \"/Results/Results_HSC/HSC_h2_generation_discharge.csv\").drop([0,1]).reset_index(drop=True)\n",
    "            # convert to electricity consumption\n",
    "            electrolyzer_df['Electrolyzer_1.0'] = electrolyzer_df['Electrolyzer_1.0']*54.3\n",
    "        TMR_df['elec purchases'] = electrolyzer_df['Electrolyzer_1.0']\n",
    "\n",
    "        power_flows_df.append(TMR_df)\n",
    "    \n",
    "    return power_flows_df\n"
   ],
   "outputs": [],
   "execution_count": null
  },
  {
   "cell_type": "code",
   "metadata": {},
   "source": [
    "def read_storage_levels(dir_list, scenario_name_dict):\n",
    "    bat_storage = []\n",
    "    h2_storage = []\n",
    "    for dir_name in dir_list:\n",
    "        bat_stor_df = pd.DataFrame(pd.read_csv(\"./\" + dir_name + \"/Results/storage.csv\")[2:].reset_index()['Battery_ppa'])\n",
    "        bat_stor_df['scenario_name'] = scenario_name_dict[dir_name]\n",
    "        bat_stor_df['interval'] = range(len(bat_stor_df))\n",
    "        # Assuming bat_stor_df is the DataFrame you want to add the timestamp column to\n",
    "        bat_stor_df['timestamp'] = pd.to_datetime(bat_stor_df['interval'], unit='h')\n",
    "        \n",
    "        \n",
    "        bat_energy_cap = pd.read_csv(\"./\" + dir_name + \"/Results/capacity.csv\")['Battery_ppa'][8]\n",
    "        bat_stor_df['Bat_SOC'] = bat_stor_df['Battery_ppa'].divide(bat_energy_cap)\n",
    "\n",
    "        h2_stor_df = pd.DataFrame(pd.read_csv(\"./\" + dir_name + \"/Results/Results_HSC/HSC_storage.csv\")[2:].reset_index()['Gas_storage_tank_1.0'])\n",
    "        h2_stor_df['scenario_name'] = scenario_name_dict[dir_name]\n",
    "        h2_stor_df['interval'] = range(len(h2_stor_df))\n",
    "        h2_stor_df['timestamp'] = pd.to_datetime(h2_stor_df['interval'], unit='h')\n",
    "\n",
    "        h2_energy_cap = pd.read_csv(\"./\" + dir_name + \"/Results/Results_HSC/HSC_generation_storage_capacity.csv\")['EndEnergyCap'][1]\n",
    "        h2_stor_df['H2_SOC'] = h2_stor_df['Gas_storage_tank_1.0'].divide(h2_energy_cap)\n",
    "\n",
    "        bat_storage.append(bat_stor_df)\n",
    "        h2_storage.append(h2_stor_df)\n",
    "    \n",
    "    return bat_storage, h2_storage\n"
   ],
   "outputs": [],
   "execution_count": null
  },
  {
   "cell_type": "code",
   "metadata": {},
   "source": [
    "hourly_flows = read_H2_system_power_flow(scenarios_hourly_avg_list, scenario_name_dict_hourly)[1]\n",
    "bat_SOC = read_storage_levels(scenarios_hourly_avg_list, scenario_name_dict_hourly)[0][1]\n",
    "h2_SOC = read_storage_levels(scenarios_hourly_avg_list, scenario_name_dict_hourly)[1][1]\n",
    "\n",
    "hourly_flows['hour'] = hourly_flows['interval'].mod(24)\n",
    "hourly_flows[\"Bat_SOC\"] = bat_SOC['Bat_SOC']\n",
    "hourly_flows[\"H2_SOC\"] = h2_SOC['H2_SOC']\n",
    "hourly_flows['VRE_output'] = hourly_flows['solar_photovoltaic_ppa'] + hourly_flows['onshore_wind_turbine_ppa']\n",
    "hourly_flows['storage_disch_mwh'] = hourly_flows['Storage Discharging'] * (1000/18.412) * -1\n",
    "hourly_flows['storage_charg_mwh'] = hourly_flows['Storage Charging'] * (1000/18.412) * -1\n",
    "hourly_flows['excess_elec_sales'] = (hourly_flows['elec sales'] - hourly_flows['solar_photovoltaic_ppa'] - hourly_flows['onshore_wind_turbine_ppa'] - hourly_flows['Battery_ppa.1']) \n",
    "hourly_sums = hourly_flows.groupby(['hour'], as_index=False).sum()[['onshore_wind_turbine_ppa',\n",
    "       'solar_photovoltaic_ppa',  'Battery_ppa',\n",
    "       'Electrolyzer_1.0', 'Battery_ppa.1', 'TMR_Slack', 'curtail_wind', 'curtail_solar', 'hour']]/365\n",
    "hourly_sums['hour'] = range(24)\n",
    "\n",
    "h2_sums = hourly_flows.groupby(['hour'], as_index=False).sum()[[\n",
    "       'Electrolyzer_1.0', 'storage_disch_mwh', 'storage_charg_mwh', 'hour']]/365\n",
    "SOC_hourly = hourly_flows.groupby(['hour'], as_index=False).sum()[[\"Bat_SOC\", \"H2_SOC\", 'hour']]/365\n",
    "SOC_hourly['hour'] = range(24)\n",
    "\n",
    "# Plot the stacked bar chart\n",
    "plt.rcParams['figure.dpi'] = 300\n",
    "ax = hourly_sums.plot.bar(x='hour', stacked=True)\n",
    "# Create a second y-axis\n",
    "#ax2 = ax.twinx()\n",
    "\n",
    "# Plot the bat_SOC_hourly[\"Bat_SOC\"] on the second y-axis\n",
    "SOC_hourly.plot(x = 'hour', y = 'Bat_SOC', color='black', linestyle='dotted', label='Battery SOC', ax = ax, secondary_y=True, x_compat=True, ylim = (0,1))\n",
    "SOC_hourly.plot(x = 'hour', y = 'H2_SOC', color='blue', linestyle='dotted', label='H2 SOC', ax = ax, secondary_y=True, x_compat=True, ylim = (0,1))\n",
    "\n",
    "\n",
    "# Set the labels and title for the first y-axis\n",
    "ax.set_xlabel('Hour')\n",
    "ax.set_ylabel('Sum')\n",
    "\n",
    "# Decrease the size of the legend\n",
    "ax.legend(fontsize='small', bbox_to_anchor=(1.05, 1), loc='upper left')\n",
    "\n",
    "# Show the plot\n",
    "plt.show()\n",
    "\n",
    "ax = h2_sums.plot.bar(x='hour', stacked=True)\n",
    "\n",
    "# Set the labels and title\n",
    "plt.xlabel('Hour')\n",
    "plt.ylabel('Sum')\n",
    "\n",
    "# Decrease the size of the legend\n",
    "ax.legend(fontsize='small', bbox_to_anchor=(1.05, 1), loc='upper left')\n",
    "\n",
    "# Show the plot\n",
    "plt.show()\n",
    "\n"
   ],
   "outputs": [],
   "execution_count": null
  },
  {
   "cell_type": "code",
   "metadata": {},
   "source": [
    "excess_bat_sales = []\n",
    "TMR_bat_sales = []\n",
    "for t in range(len(hourly_flows)):\n",
    "    if hourly_flows['onshore_wind_turbine_ppa'][t] + hourly_flows['solar_photovoltaic_ppa'][t] >= -1 * hourly_flows['Electrolyzer_1.0'][t]:\n",
    "        excess_bat_sales.append(hourly_flows['Battery_ppa'][t])\n",
    "        TMR_bat_sales.append(0)\n",
    "    else: \n",
    "        excess_bat_sales.append(hourly_flows['Battery_ppa'][t] - (-1 * hourly_flows['Electrolyzer_1.0'][t] - hourly_flows[ 'onshore_wind_turbine_ppa'][t] - hourly_flows['solar_photovoltaic_ppa'][t]))\n",
    "        TMR_bat_sales.append((-1 * hourly_flows['Electrolyzer_1.0'][t] - hourly_flows[ 'onshore_wind_turbine_ppa'][t] - hourly_flows['solar_photovoltaic_ppa'][t]))\n",
    "        #excess_bat_sales(0)\n",
    "\n",
    "print(\"Excess battery sales (not for PPA) (%): \", sum(excess_bat_sales)/ hourly_flows['Battery_ppa'].sum())\n",
    "print(\"Bat for TMR (%) : \", sum(TMR_bat_sales)/ hourly_flows['Battery_ppa'].sum())\n",
    "print(\"Excess battery sales (not for PPA) (MWh): \", sum(excess_bat_sales))\n",
    "print(\"Bat for TMR (MWh): \", sum(TMR_bat_sales))\n",
    "\n",
    "print(\"Possible Wind: \", hourly_flows[\"possible_wind\"].sum())\n",
    "print(\"Possible Solar: \", hourly_flows[\"possible_solar\"].sum())\n",
    "\n",
    "print(\"Produced Wind: \", hourly_flows['onshore_wind_turbine_ppa'].sum())\n",
    "print(\"Produced Solar: \", hourly_flows['solar_photovoltaic_ppa'].sum())\n",
    "\n",
    "print(\"Possible PPA VRE Production: \", hourly_flows[\"possible_wind\"].sum() + hourly_flows[\"possible_solar\"].sum())\n",
    "print(\"Actual PPA VRE for TMR: \", (hourly_flows['onshore_wind_turbine_ppa'].sum() + hourly_flows['solar_photovoltaic_ppa'].sum()) * 5/6)\n",
    "print(\"Posssible/Used VRE ratio: \", ( (hourly_flows['onshore_wind_turbine_ppa'].sum() + hourly_flows['solar_photovoltaic_ppa'].sum()) * 5/6)  / (hourly_flows[\"possible_wind\"].sum() + hourly_flows[\"possible_solar\"].sum()))\n",
    "\n"
   ],
   "outputs": [],
   "execution_count": null
  },
  {
   "cell_type": "code",
   "metadata": {},
   "source": [
    "h2_SOC.plot(x = 'timestamp', y = 'H2_SOC', color='blue', label='H2 SOC', secondary_y=True, x_compat=True, ylim = (0,1.2))\n",
    "bat_SOC.plot(x = 'timestamp', y = 'Bat_SOC', color='black', label='Battery SOC', secondary_y=True, x_compat=True, ylim = (0,1.2))"
   ],
   "outputs": [],
   "execution_count": null
  },
  {
   "cell_type": "code",
   "metadata": {},
   "source": [
    "hourly_flows\n"
   ],
   "outputs": [],
   "execution_count": null
  },
  {
   "cell_type": "code",
   "metadata": {},
   "source": [
    "plt.hist(hourly_flows['VRE_output'], bins=range(0, int(max(hourly_flows['VRE_output'])) + 100, 25))\n",
    "count = len(hourly_flows[hourly_flows['VRE_output'] <= 1076])\n",
    "print(count)\n",
    "\n"
   ],
   "outputs": [],
   "execution_count": null
  },
  {
   "cell_type": "markdown",
   "metadata": {},
   "source": [
    "In[84]:"
   ]
  },
  {
   "cell_type": "markdown",
   "metadata": {},
   "source": [
    "NEW HOURLY ANNUAL DISPATCH COMPARED TO BASELINE"
   ]
  },
  {
   "cell_type": "code",
   "metadata": {},
   "source": [
    "cm = plt.get_cmap('Paired')\n",
    "matplotlib.rcParams[\"axes.prop_cycle\"] = cycler(color=[cm(v) for v in np.linspace(0, 1, 12)])"
   ],
   "outputs": [],
   "execution_count": null
  },
  {
   "cell_type": "markdown",
   "metadata": {},
   "source": [
    "ef create_figs_power(dir_name):"
   ]
  },
  {
   "cell_type": "code",
   "metadata": {},
   "source": [
    "    \n",
    "# resource_dict = {'C_biomass' : 'Biomass', 'C_conventional_hydroelectric' : 'Hydro', \n",
    "        #              'C_conventional_steam_coal' : 'Coal',\n",
    "        #  'C_natural_gas_fired_combined_cycle' : 'Gas',\n",
    "        # 'C_natural_gas_fired_combustion_turbine' : 'Gas',\n",
    "        # 'C_natural_gas_steam_turbine' : 'Gas',\n",
    "        #  'C_nuclear' :'Nuclear',\n",
    "        # 'C_solar_photovoltaic' : 'Solar'}"
   ],
   "outputs": [],
   "execution_count": null
  },
  {
   "cell_type": "markdown",
   "metadata": {},
   "source": [
    "resource_dict = {'biomass' : 'Biomass', 'conventional_hydroelectric' : 'Hydro', 'small_hydroelectric' : 'Hydro', <br>\n",
    "                         'conventional_steam_coal' : 'Coal',<br>\n",
    "             'natural_gas_fired_combined_cycle' : 'Gas',<br>\n",
    "            'natural_gas_fired_combustion_turbine' : 'Gas',<br>\n",
    "            'natural_gas_steam_turbine' : 'Gas',<br>\n",
    "             'nuclear' :'Nuclear',<br>\n",
    "             'solar_photovoltaic' : 'Solar', 'onshore_wind_turbine' : 'Wind'}"
   ]
  },
  {
   "cell_type": "markdown",
   "metadata": {},
   "source": [
    "pathlib.Path(\"./\" + dir_name + \"/Figures\").mkdir(parents=True, exist_ok=True)<br>\n",
    "pathlib.Path(\"./\" + dir_name + \"/Figures/Gen Mix\").mkdir(parents=True, exist_ok=True)<br>\n",
    "pathlib.Path(\"./\" + dir_name + \"/Figures/Capacity\").mkdir(parents=True, exist_ok=True)<br>\n",
    "pathlib.Path(\"./\" + dir_name + \"/Figures/One Day Gen\").mkdir(parents=True, exist_ok=True)"
   ]
  },
  {
   "cell_type": "markdown",
   "metadata": {},
   "source": [
    "Define scenarios to compare against"
   ]
  },
  {
   "cell_type": "code",
   "metadata": {},
   "source": [
    "dir_name = \"FRCC_2021_hourly_5GW_flex\"\n",
    "scenario_name = scenario_name_dict[dir_name]\n",
    "baseline_dir =\"FRCC_2021_Baseline\""
   ],
   "outputs": [],
   "execution_count": null
  },
  {
   "cell_type": "code",
   "metadata": {},
   "source": [
    "power_df = pd.read_csv(dir_name + \"/Results/power.csv\")  #.drop([0,1])\n",
    "power_base = pd.read_csv(baseline_dir + \"/Results/power.csv\")  #.drop([0,1])"
   ],
   "outputs": [],
   "execution_count": null
  },
  {
   "cell_type": "code",
   "metadata": {},
   "source": [
    "power_long_df = power_df.melt(id_vars = \"Resource\").query(\"Resource != 'Zone' & Resource != 'AnnualSum'\")\n",
    "power_long_base = power_base.melt(id_vars = \"Resource\").query(\"Resource != 'Zone' & Resource != 'AnnualSum'\")"
   ],
   "outputs": [],
   "execution_count": null
  },
  {
   "cell_type": "code",
   "metadata": {},
   "source": [
    "power_long_df = power_long_df.assign(resource_type = power_long_df[\"variable\"].str.strip().str.replace('\\_\\d+', ''),\n",
    "                                interval = pd.to_numeric(power_long_df[\"Resource\"].str[1:])).replace({\"resource_type\": resource_dict})"
   ],
   "outputs": [],
   "execution_count": null
  },
  {
   "cell_type": "code",
   "metadata": {},
   "source": [
    "power_long_base = power_long_base.assign(resource_type = power_long_base[\"variable\"].str.strip().str.replace('\\_\\d+', ''),\n",
    "                                interval = pd.to_numeric(power_long_base[\"Resource\"].str[1:])).replace({\"resource_type\": resource_dict})"
   ],
   "outputs": [],
   "execution_count": null
  },
  {
   "cell_type": "code",
   "metadata": {},
   "source": [
    "power_gen_df = power_long_df.query(\"variable != 'Total'\").groupby(['resource_type','interval']).agg({'value': 'sum'}).reset_index()\n",
    "power_gen_base = power_long_base.query(\"variable != 'Total'\").groupby(['resource_type','interval']).agg({'value': 'sum'}).reset_index()"
   ],
   "outputs": [],
   "execution_count": null
  },
  {
   "cell_type": "code",
   "metadata": {},
   "source": [
    "gen_diff = power_gen_base.merge(power_gen_df, on=['interval','resource_type'], how='right')"
   ],
   "outputs": [],
   "execution_count": null
  },
  {
   "cell_type": "markdown",
   "metadata": {},
   "source": [
    "Convert from MW to GW<br>\n",
    "gen_diff[\"value_x\"] = gen_diff['value_x'] * 0.001<br>\n",
    "gen_diff[\"value_y\"] = gen_diff['value_y'] * 0.001"
   ]
  },
  {
   "cell_type": "markdown",
   "metadata": {},
   "source": [
    "en_diff['gen_diff'] = (gen_diff['value_y']-gen_diff['value_x'])"
   ]
  },
  {
   "cell_type": "code",
   "metadata": {},
   "source": [
    "gen_diff['hour'] = gen_diff['interval'].mod(24)\n",
    "gen_diff = gen_diff.groupby(['hour', 'resource_type'], as_index=False).sum()\n",
    "gen_diff['gen_diff'] = (gen_diff['value_y']-gen_diff['value_x'])"
   ],
   "outputs": [],
   "execution_count": null
  },
  {
   "cell_type": "markdown",
   "metadata": {},
   "source": [
    "Showing hourly average generation by tech so dividing by 365"
   ]
  },
  {
   "cell_type": "code",
   "metadata": {},
   "source": [
    "gen_plot = gen_diff.pivot(index = 'hour', columns = 'resource_type')['value_y']/365\n",
    "gen_plot_diff = gen_diff.pivot(index = 'hour', columns = 'resource_type')['gen_diff']/365\n",
    "gen_plot_base = gen_diff.pivot(index = 'hour', columns = 'resource_type')['value_x']/365"
   ],
   "outputs": [],
   "execution_count": null
  },
  {
   "cell_type": "markdown",
   "metadata": {},
   "source": [
    "if 'hourly' in dir_name: #bat<br>\n",
    "    gen_plot = gen_plot[[\"Biomass\", \"Nuclear\", \"Hydro\", \"Coal\", \"Gas\", \"Solar\", \"Battery\"]]<br>\n",
    "    #gen_plot_diff = gen_plot_diff[[\"Biomass\", \"Nuclear\", \"Hydro\", \"Coal\", \"Gas\", \"Solar\", \"Battery\"]] # \"PHS\", \"battery\", \"Wind\", \"Gas w/ CCS\" #\"red\", put at number 5<br>\n",
    "    #gen_plot_base = gen_plot_diff[[\"Biomass\", \"Nuclear\", \"Hydro\", \"Coal\", \"Gas\", \"Solar\", \"Battery\"]]<br>\n",
    "elif 'ERCOT' in dir_name:<br>\n",
    "    gen_plot = gen_plot[[\"Biomass\", \"Nuclear\", \"Hydro\", \"Coal\", \"Gas\", \"Solar\", \"Wind\"]]<br>\n",
    "    gen_plot_diff = gen_plot_diff[[\"Biomass\", \"Nuclear\", \"Hydro\", \"Coal\", \"Gas\", \"Solar\", \"Wind\"]]<br>\n",
    "    gen_plot_base = gen_plot_base[[\"Biomass\", \"Nuclear\", \"Hydro\", \"Coal\", \"Gas\", \"Solar\", \"Wind\"]]<br>\n",
    "else:<br>\n",
    "    gen_plot = gen_plot[[\"Biomass\", \"Nuclear\", \"Hydro\", \"Coal\", \"Gas\", \"Solar\"]]<br>\n",
    "    gen_plot_diff = gen_plot_diff[[\"Biomass\", \"Nuclear\", \"Hydro\", \"Coal\", \"Gas\", \"Solar\"]]<br>\n",
    "    gen_plot_base = gen_plot_base[[\"Biomass\", \"Nuclear\", \"Hydro\", \"Coal\", \"Gas\", \"Solar\"]]"
   ]
  },
  {
   "cell_type": "markdown",
   "metadata": {},
   "source": [
    "################## Remove all columns with zero data"
   ]
  },
  {
   "cell_type": "code",
   "metadata": {},
   "source": [
    "gen_plot.fillna(0,inplace=True)\n",
    "ColstoDrop = gen_plot.columns[(gen_plot == 0).all()].tolist()\n",
    "    \n",
    "# CREATE FIGURES\n",
    "gen_plot.drop(ColstoDrop,axis=1).plot.area(xlabel = 'Hour', ylabel = 'Generation (MW)',\n",
    "            title = 'Average hourly Power Dispatch for ' +scenario_name, \n",
    "            color = getColorbyGenType(gen_plot.drop(ColstoDrop,axis=1).columns.tolist())).legend(bbox_to_anchor= (1,1))\n",
    "plt.legend(bbox_to_anchor= (1,1))\n",
    "plt.savefig(dir_name + '/Annual_daily_dispatch.png')"
   ],
   "outputs": [],
   "execution_count": null
  },
  {
   "cell_type": "markdown",
   "metadata": {},
   "source": [
    "########### Remove all columns with zero data"
   ]
  },
  {
   "cell_type": "code",
   "metadata": {},
   "source": [
    "gen_plot_base.fillna(0,inplace=True)\n",
    "ColstoDrop = gen_plot_base.columns[(gen_plot_base == 0).all()].tolist()"
   ],
   "outputs": [],
   "execution_count": null
  },
  {
   "cell_type": "code",
   "metadata": {},
   "source": [
    "gen_plot_base.drop(ColstoDrop,axis=1).plot.area(xlabel = 'Hour', ylabel = 'Generation (MW)', \n",
    "        title = 'Average hourly Power Dispatch - Baseline',\n",
    "        color =getColorbyGenType(gen_plot_base.drop(ColstoDrop,axis=1).columns.tolist())).legend(bbox_to_anchor= (1,1))\n",
    "plt.legend(bbox_to_anchor= (1,1))\n",
    "plt.savefig(baseline_dir + '/Baseline_annual_dispatch.png')"
   ],
   "outputs": [],
   "execution_count": null
  },
  {
   "cell_type": "markdown",
   "metadata": {},
   "source": [
    "############Remove all columns with zero data"
   ]
  },
  {
   "cell_type": "code",
   "metadata": {},
   "source": [
    "gen_plot_diff.fillna(0,inplace=True)\n",
    "ColstoDrop = gen_plot_diff.columns[(gen_plot_diff == 0).all()].tolist()"
   ],
   "outputs": [],
   "execution_count": null
  },
  {
   "cell_type": "code",
   "metadata": {},
   "source": [
    "gen_plot_diff.drop(ColstoDrop,axis=1).plot(kind = \"bar\", stacked = True, width=0.9, legend=True, xlabel = 'Hour',\n",
    "   ylabel = \"Generation (MW)\", title = \"Difference in average hourly power dispatch vs baseline \" + scenario_name,\n",
    "   color =getColorbyGenType(gen_plot_diff.drop(ColstoDrop,axis=1).columns.tolist())).legend(bbox_to_anchor= (1,1))\n",
    "plt.legend(bbox_to_anchor= (1,1))\n",
    "plt.axhline(y=0, color='black', linestyle='-')\n",
    "plt.savefig(dir_name + '/Diff_annual_daily_dispatch-base.png', bbox_inches='tight')"
   ],
   "outputs": [],
   "execution_count": null
  },
  {
   "cell_type": "markdown",
   "metadata": {},
   "source": [
    "In[257]:"
   ]
  },
  {
   "cell_type": "code",
   "metadata": {},
   "source": [
    "pd.concat(elec_sales[1])"
   ],
   "outputs": [],
   "execution_count": null
  },
  {
   "cell_type": "markdown",
   "metadata": {},
   "source": [
    "In[260]:"
   ]
  },
  {
   "cell_type": "markdown",
   "metadata": {},
   "source": [
    "SOLAR CF"
   ]
  },
  {
   "cell_type": "code",
   "metadata": {},
   "source": [
    "fig_comp_solar_CF(DATA_POWER_S2[0], DATA_POWER_S2[1], 'Renewables Capacity Factor')"
   ],
   "outputs": [],
   "execution_count": null
  },
  {
   "cell_type": "markdown",
   "metadata": {},
   "source": [
    "In[261]:"
   ]
  },
  {
   "cell_type": "code",
   "metadata": {},
   "source": [
    "DATA_ATTREM_H2 = calculate_attributional_emissions(h2_scenario_list)"
   ],
   "outputs": [],
   "execution_count": null
  },
  {
   "cell_type": "code",
   "metadata": {},
   "source": [
    "fig_h2_attr_emissions(DATA_ATTREM_H2, DATA_H2_S2[0], \"Hydrogen Attributional Emissions (Annual Matching)\", 4)"
   ],
   "outputs": [],
   "execution_count": null
  },
  {
   "cell_type": "markdown",
   "metadata": {},
   "source": [
    "In[209]:"
   ]
  },
  {
   "cell_type": "code",
   "metadata": {},
   "source": [
    "pd.concat(DATA_ATTREM_H2)"
   ],
   "outputs": [],
   "execution_count": null
  },
  {
   "cell_type": "markdown",
   "metadata": {},
   "source": [
    "In[ ]:"
   ]
  }
 ],
 "metadata": {
  "kernelspec": {
   "display_name": "Python 3 (ipykernel)",
   "language": "python",
   "name": "python3"
  },
  "language_info": {
   "codemirror_mode": {
    "name": "ipython",
    "version": 3
   },
   "file_extension": ".py",
   "mimetype": "text/x-python",
   "name": "python",
   "nbconvert_exporter": "python",
   "pygments_lexer": "ipython3",
   "version": "3.11.5"
  }
 },
 "nbformat": 4,
 "nbformat_minor": 2
}
